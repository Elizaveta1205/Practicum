{
 "cells": [
  {
   "cell_type": "markdown",
   "metadata": {},
   "source": [
    "# Аналитика стартапа по продаже продуктов питания\n",
    "\n",
    "Задача- исседовать поведение пользователей мобильного приложения и дать рекомендации по улучшению продукта.\n",
    "\n",
    "Для выполнения поставленной задачи надо было изучить воронку продаж и исследовать результаты A/A/B-эксперимента по изменению шрифта во всём приложении. Пользователей разбили на 3 группы: 2 контрольные со старыми шрифтами и одну экспериментальную — с новыми. Нужно было выяснить, какой шрифт лучше.\n",
    "\n",
    "Для анализа предаставлена таблица log_data, содержащая следующую информацию:\n",
    "\n",
    "    EventName — название события;\n",
    "    DeviceIDHash — уникальный идентификатор пользователя;\n",
    "    EventTimestamp — время события;\n",
    "    ExpId — номер эксперимента: 246 и 247 — контрольные группы, а 248 — экспериментальная."
   ]
  },
  {
   "cell_type": "markdown",
   "metadata": {},
   "source": [
    "## Содержание"
   ]
  },
  {
   "cell_type": "markdown",
   "metadata": {},
   "source": [
    "[Библиотеки](#library)\n",
    "\n",
    "1. [Общая информация о данных](#information)\n",
    "2. [Предобработка данных](#preparation)\n",
    "3. [Анализ данных](#analytic)\n",
    "\n",
    "    1. [Количество видов событий в логе](#count_event)\n",
    "    2. [Количество уникальных пользователей в логе](#count_users)\n",
    "    3. [Колиество событий, которые в среднем приходятся на одного пользователя](#count_avg_event)\n",
    "    4. [Работа с данными времени](#time)\n",
    "    5. [Обзор пользователей экспериментальных групп](#check_users_for_test)\n",
    "4. [Воронка событий](#funnel_of_events)\n",
    "    1. [Обзор событий в логах](#overview_events)\n",
    "    2. [Работа с пользователями, которые совершают события](#work_with_users)\n",
    "    3. [Порядк событий](#order_of_events)\n",
    "    4. [Анализ воронки событий](#work_with_funnel)\n",
    "5. [Анализ результата A/A/B теста](#analytic_test)\n",
    "    1. [Обзор пользователей в каждой экспериментальной группе](#overview_group)\n",
    "    2. [Статистический анализ контрольных групп](#analytic_control_group)\n",
    "    3. [Статистический анализ группы с изменённым шрифтом и контрольными групп](#analytic_all_group)\n",
    "    \n",
    "[Общий вывод](#conclusion)"
   ]
  },
  {
   "cell_type": "markdown",
   "metadata": {},
   "source": [
    "## Библиотеки  <a id=\"library\"></a>"
   ]
  },
  {
   "cell_type": "code",
   "execution_count": 1,
   "metadata": {},
   "outputs": [],
   "source": [
    "#для работы с файлом и данными подключим библиотеку pandas \n",
    "import pandas as pd\n",
    "#для работы с данными времени и дат, используем библиотеку datetime\n",
    "import datetime as dt\n",
    "from datetime import datetime\n",
    "#импортируем библиотеку matplotlib.pyplot для построения графиков\n",
    "import matplotlib.pyplot as plt\n",
    "#импортируем набор методов graph_objects для построения воронки\n",
    "from plotly import graph_objects as go\n",
    "#для работы с нормальным распределение и с t-тестом используем библиотеку stats \n",
    "from scipy import stats as st\n",
    "#для применения математических операций(корень)\n",
    "import math as mth"
   ]
  },
  {
   "cell_type": "markdown",
   "metadata": {},
   "source": [
    "## 1. Общая информация <a id=\"information\"></a>"
   ]
  },
  {
   "cell_type": "code",
   "execution_count": 2,
   "metadata": {},
   "outputs": [
    {
     "name": "stdout",
     "output_type": "stream",
     "text": [
      "<class 'pandas.core.frame.DataFrame'>\n",
      "RangeIndex: 244126 entries, 0 to 244125\n",
      "Data columns (total 4 columns):\n",
      "EventName         244126 non-null object\n",
      "DeviceIDHash      244126 non-null int64\n",
      "EventTimestamp    244126 non-null int64\n",
      "ExpId             244126 non-null int64\n",
      "dtypes: int64(3), object(1)\n",
      "memory usage: 7.5+ MB\n"
     ]
    }
   ],
   "source": [
    "#Для чтения файла применяем метод pd.read_csv()\n",
    "#Сохраняем таблицу с логами в переменную log_data (англ. «данные о логах»)\n",
    "log_data = pd.read_csv('/datasets/logs_exp.csv', sep='\\t')\n",
    "#для  изучения общей информации воспольуемся методом info()\n",
    "log_data.info()"
   ]
  },
  {
   "cell_type": "code",
   "execution_count": 3,
   "metadata": {},
   "outputs": [
    {
     "data": {
      "text/plain": [
       "EventName         0\n",
       "DeviceIDHash      0\n",
       "EventTimestamp    0\n",
       "ExpId             0\n",
       "dtype: int64"
      ]
     },
     "execution_count": 3,
     "metadata": {},
     "output_type": "execute_result"
    }
   ],
   "source": [
    "#проверяем данные на пропущенные значения, применяем метод .isna() для нахождения пропусков, а затем суммируем методом .sum()\n",
    "log_data.isna().sum()"
   ]
  },
  {
   "cell_type": "code",
   "execution_count": 4,
   "metadata": {},
   "outputs": [
    {
     "data": {
      "text/plain": [
       "['CartScreenAppear',\n",
       " 'MainScreenAppear',\n",
       " 'OffersScreenAppear',\n",
       " 'PaymentScreenSuccessful',\n",
       " 'Tutorial']"
      ]
     },
     "execution_count": 4,
     "metadata": {},
     "output_type": "execute_result"
    }
   ],
   "source": [
    "#проверяемые наименования событий, вдруг есть проблемы в названиях\n",
    "log_data['EventName'].sort_values().unique().tolist()"
   ]
  },
  {
   "cell_type": "code",
   "execution_count": 5,
   "metadata": {},
   "outputs": [
    {
     "data": {
      "text/plain": [
       "0    1564029816\n",
       "1    1564053102\n",
       "2    1564054127\n",
       "3    1564054127\n",
       "4    1564055322\n",
       "Name: EventTimestamp, dtype: int64"
      ]
     },
     "execution_count": 5,
     "metadata": {},
     "output_type": "execute_result"
    }
   ],
   "source": [
    "#проверяемые формат вывода даты\n",
    "log_data['EventTimestamp'].head()"
   ]
  },
  {
   "cell_type": "markdown",
   "metadata": {},
   "source": [
    "### Вывод "
   ]
  },
  {
   "cell_type": "markdown",
   "metadata": {},
   "source": [
    "Можно отметить,что названия столбцов стоит привести к нижнему регистру для удобства работы. Никаких пропусков в столбцах не обнаружено, как и не присутствуют в  столбце 'EventName' необычных названий разновидности наименований события. Типы данных не совпадают только в столбце EventTimestamp, который нужно привести к дате и времени."
   ]
  },
  {
   "cell_type": "markdown",
   "metadata": {},
   "source": [
    "## 2. Предобработка данных <a id=\"preparation\"></a>"
   ]
  },
  {
   "cell_type": "code",
   "execution_count": 6,
   "metadata": {},
   "outputs": [],
   "source": [
    "#для переименования столбцов применяем к log_data метод .columns\n",
    "log_data.columns=['event_name','device_id_hash', 'event_timestamp', 'exp_id']"
   ]
  },
  {
   "cell_type": "code",
   "execution_count": 7,
   "metadata": {},
   "outputs": [
    {
     "data": {
      "text/html": [
       "<div>\n",
       "<style scoped>\n",
       "    .dataframe tbody tr th:only-of-type {\n",
       "        vertical-align: middle;\n",
       "    }\n",
       "\n",
       "    .dataframe tbody tr th {\n",
       "        vertical-align: top;\n",
       "    }\n",
       "\n",
       "    .dataframe thead th {\n",
       "        text-align: right;\n",
       "    }\n",
       "</style>\n",
       "<table border=\"1\" class=\"dataframe\">\n",
       "  <thead>\n",
       "    <tr style=\"text-align: right;\">\n",
       "      <th></th>\n",
       "      <th>event_name</th>\n",
       "      <th>device_id_hash</th>\n",
       "      <th>event_timestamp</th>\n",
       "      <th>exp_id</th>\n",
       "      <th>event_datetime</th>\n",
       "    </tr>\n",
       "  </thead>\n",
       "  <tbody>\n",
       "    <tr>\n",
       "      <td>0</td>\n",
       "      <td>MainScreenAppear</td>\n",
       "      <td>4575588528974610257</td>\n",
       "      <td>1564029816</td>\n",
       "      <td>246</td>\n",
       "      <td>2019-07-25 04:43:36</td>\n",
       "    </tr>\n",
       "    <tr>\n",
       "      <td>1</td>\n",
       "      <td>MainScreenAppear</td>\n",
       "      <td>7416695313311560658</td>\n",
       "      <td>1564053102</td>\n",
       "      <td>246</td>\n",
       "      <td>2019-07-25 11:11:42</td>\n",
       "    </tr>\n",
       "    <tr>\n",
       "      <td>2</td>\n",
       "      <td>PaymentScreenSuccessful</td>\n",
       "      <td>3518123091307005509</td>\n",
       "      <td>1564054127</td>\n",
       "      <td>248</td>\n",
       "      <td>2019-07-25 11:28:47</td>\n",
       "    </tr>\n",
       "    <tr>\n",
       "      <td>3</td>\n",
       "      <td>CartScreenAppear</td>\n",
       "      <td>3518123091307005509</td>\n",
       "      <td>1564054127</td>\n",
       "      <td>248</td>\n",
       "      <td>2019-07-25 11:28:47</td>\n",
       "    </tr>\n",
       "    <tr>\n",
       "      <td>4</td>\n",
       "      <td>PaymentScreenSuccessful</td>\n",
       "      <td>6217807653094995999</td>\n",
       "      <td>1564055322</td>\n",
       "      <td>248</td>\n",
       "      <td>2019-07-25 11:48:42</td>\n",
       "    </tr>\n",
       "  </tbody>\n",
       "</table>\n",
       "</div>"
      ],
      "text/plain": [
       "                event_name       device_id_hash  event_timestamp  exp_id  \\\n",
       "0         MainScreenAppear  4575588528974610257       1564029816     246   \n",
       "1         MainScreenAppear  7416695313311560658       1564053102     246   \n",
       "2  PaymentScreenSuccessful  3518123091307005509       1564054127     248   \n",
       "3         CartScreenAppear  3518123091307005509       1564054127     248   \n",
       "4  PaymentScreenSuccessful  6217807653094995999       1564055322     248   \n",
       "\n",
       "       event_datetime  \n",
       "0 2019-07-25 04:43:36  \n",
       "1 2019-07-25 11:11:42  \n",
       "2 2019-07-25 11:28:47  \n",
       "3 2019-07-25 11:28:47  \n",
       "4 2019-07-25 11:48:42  "
      ]
     },
     "execution_count": 7,
     "metadata": {},
     "output_type": "execute_result"
    }
   ],
   "source": [
    "#EventTimestamp указано с меткой времени Unix. Преобразуем метку времени в объект datetime, используя функцию fromtimestamp() \n",
    "#создаём функцию, которую будем применять к каждой строчке таблицы\n",
    "def up_date(value):\n",
    "    return datetime.fromtimestamp(value)\n",
    "log_data['event_datetime']=log_data['event_timestamp'].apply(up_date)\n",
    "log_data.head()"
   ]
  },
  {
   "cell_type": "code",
   "execution_count": 8,
   "metadata": {},
   "outputs": [
    {
     "data": {
      "text/html": [
       "<div>\n",
       "<style scoped>\n",
       "    .dataframe tbody tr th:only-of-type {\n",
       "        vertical-align: middle;\n",
       "    }\n",
       "\n",
       "    .dataframe tbody tr th {\n",
       "        vertical-align: top;\n",
       "    }\n",
       "\n",
       "    .dataframe thead th {\n",
       "        text-align: right;\n",
       "    }\n",
       "</style>\n",
       "<table border=\"1\" class=\"dataframe\">\n",
       "  <thead>\n",
       "    <tr style=\"text-align: right;\">\n",
       "      <th></th>\n",
       "      <th>event_name</th>\n",
       "      <th>device_id_hash</th>\n",
       "      <th>exp_id</th>\n",
       "      <th>event_datetime</th>\n",
       "      <th>date</th>\n",
       "    </tr>\n",
       "  </thead>\n",
       "  <tbody>\n",
       "    <tr>\n",
       "      <td>0</td>\n",
       "      <td>MainScreenAppear</td>\n",
       "      <td>4575588528974610257</td>\n",
       "      <td>246</td>\n",
       "      <td>2019-07-25 04:43:36</td>\n",
       "      <td>2019-07-25</td>\n",
       "    </tr>\n",
       "    <tr>\n",
       "      <td>1</td>\n",
       "      <td>MainScreenAppear</td>\n",
       "      <td>7416695313311560658</td>\n",
       "      <td>246</td>\n",
       "      <td>2019-07-25 11:11:42</td>\n",
       "      <td>2019-07-25</td>\n",
       "    </tr>\n",
       "    <tr>\n",
       "      <td>2</td>\n",
       "      <td>PaymentScreenSuccessful</td>\n",
       "      <td>3518123091307005509</td>\n",
       "      <td>248</td>\n",
       "      <td>2019-07-25 11:28:47</td>\n",
       "      <td>2019-07-25</td>\n",
       "    </tr>\n",
       "    <tr>\n",
       "      <td>3</td>\n",
       "      <td>CartScreenAppear</td>\n",
       "      <td>3518123091307005509</td>\n",
       "      <td>248</td>\n",
       "      <td>2019-07-25 11:28:47</td>\n",
       "      <td>2019-07-25</td>\n",
       "    </tr>\n",
       "    <tr>\n",
       "      <td>4</td>\n",
       "      <td>PaymentScreenSuccessful</td>\n",
       "      <td>6217807653094995999</td>\n",
       "      <td>248</td>\n",
       "      <td>2019-07-25 11:48:42</td>\n",
       "      <td>2019-07-25</td>\n",
       "    </tr>\n",
       "  </tbody>\n",
       "</table>\n",
       "</div>"
      ],
      "text/plain": [
       "                event_name       device_id_hash  exp_id      event_datetime  \\\n",
       "0         MainScreenAppear  4575588528974610257     246 2019-07-25 04:43:36   \n",
       "1         MainScreenAppear  7416695313311560658     246 2019-07-25 11:11:42   \n",
       "2  PaymentScreenSuccessful  3518123091307005509     248 2019-07-25 11:28:47   \n",
       "3         CartScreenAppear  3518123091307005509     248 2019-07-25 11:28:47   \n",
       "4  PaymentScreenSuccessful  6217807653094995999     248 2019-07-25 11:48:42   \n",
       "\n",
       "         date  \n",
       "0  2019-07-25  \n",
       "1  2019-07-25  \n",
       "2  2019-07-25  \n",
       "3  2019-07-25  \n",
       "4  2019-07-25  "
      ]
     },
     "execution_count": 8,
     "metadata": {},
     "output_type": "execute_result"
    }
   ],
   "source": [
    "#Добавим отдельный столбец дат\n",
    "log_data['date']=log_data['event_datetime'].dt.strftime('%Y-%m-%d')\n",
    "#убираем лишний столбец 'event_timestamp', который не понадобится для анализа\n",
    "log_data=log_data.drop('event_timestamp', axis=1)\n",
    "log_data.head()"
   ]
  },
  {
   "cell_type": "code",
   "execution_count": 9,
   "metadata": {},
   "outputs": [
    {
     "data": {
      "text/plain": [
       "413"
      ]
     },
     "execution_count": 9,
     "metadata": {},
     "output_type": "execute_result"
    }
   ],
   "source": [
    "#также проверим данные на дубликаты при помощи метода duplicated()\n",
    "log_data.duplicated().sum()"
   ]
  },
  {
   "cell_type": "code",
   "execution_count": 10,
   "metadata": {},
   "outputs": [],
   "source": [
    "#получили, что у нас 413 дубликатов, которые уберем методом drop_duplicates(keep = 'first'),\n",
    "#используем 'first', чтобы оставить по одному вхождению из каждой дублированной строки\n",
    "log_data.drop_duplicates(keep = 'first', inplace = True)\n",
    "log_data=log_data.reset_index(drop=True)"
   ]
  },
  {
   "cell_type": "code",
   "execution_count": 11,
   "metadata": {},
   "outputs": [
    {
     "data": {
      "text/html": [
       "<div>\n",
       "<style scoped>\n",
       "    .dataframe tbody tr th:only-of-type {\n",
       "        vertical-align: middle;\n",
       "    }\n",
       "\n",
       "    .dataframe tbody tr th {\n",
       "        vertical-align: top;\n",
       "    }\n",
       "\n",
       "    .dataframe thead th {\n",
       "        text-align: right;\n",
       "    }\n",
       "</style>\n",
       "<table border=\"1\" class=\"dataframe\">\n",
       "  <thead>\n",
       "    <tr style=\"text-align: right;\">\n",
       "      <th></th>\n",
       "      <th>event_name</th>\n",
       "      <th>device_id_hash</th>\n",
       "      <th>exp_id</th>\n",
       "      <th>event_datetime</th>\n",
       "      <th>date</th>\n",
       "    </tr>\n",
       "  </thead>\n",
       "  <tbody>\n",
       "    <tr>\n",
       "      <td>0</td>\n",
       "      <td>MainScreenAppear</td>\n",
       "      <td>4575588528974610257</td>\n",
       "      <td>246</td>\n",
       "      <td>2019-07-25 04:43:36</td>\n",
       "      <td>2019-07-25</td>\n",
       "    </tr>\n",
       "    <tr>\n",
       "      <td>1</td>\n",
       "      <td>MainScreenAppear</td>\n",
       "      <td>7416695313311560658</td>\n",
       "      <td>246</td>\n",
       "      <td>2019-07-25 11:11:42</td>\n",
       "      <td>2019-07-25</td>\n",
       "    </tr>\n",
       "    <tr>\n",
       "      <td>2</td>\n",
       "      <td>PaymentScreenSuccessful</td>\n",
       "      <td>3518123091307005509</td>\n",
       "      <td>248</td>\n",
       "      <td>2019-07-25 11:28:47</td>\n",
       "      <td>2019-07-25</td>\n",
       "    </tr>\n",
       "    <tr>\n",
       "      <td>3</td>\n",
       "      <td>CartScreenAppear</td>\n",
       "      <td>3518123091307005509</td>\n",
       "      <td>248</td>\n",
       "      <td>2019-07-25 11:28:47</td>\n",
       "      <td>2019-07-25</td>\n",
       "    </tr>\n",
       "    <tr>\n",
       "      <td>4</td>\n",
       "      <td>PaymentScreenSuccessful</td>\n",
       "      <td>6217807653094995999</td>\n",
       "      <td>248</td>\n",
       "      <td>2019-07-25 11:48:42</td>\n",
       "      <td>2019-07-25</td>\n",
       "    </tr>\n",
       "    <tr>\n",
       "      <td>...</td>\n",
       "      <td>...</td>\n",
       "      <td>...</td>\n",
       "      <td>...</td>\n",
       "      <td>...</td>\n",
       "      <td>...</td>\n",
       "    </tr>\n",
       "    <tr>\n",
       "      <td>243708</td>\n",
       "      <td>MainScreenAppear</td>\n",
       "      <td>4599628364049201812</td>\n",
       "      <td>247</td>\n",
       "      <td>2019-08-07 21:12:25</td>\n",
       "      <td>2019-08-07</td>\n",
       "    </tr>\n",
       "    <tr>\n",
       "      <td>243709</td>\n",
       "      <td>MainScreenAppear</td>\n",
       "      <td>5849806612437486590</td>\n",
       "      <td>246</td>\n",
       "      <td>2019-08-07 21:13:59</td>\n",
       "      <td>2019-08-07</td>\n",
       "    </tr>\n",
       "    <tr>\n",
       "      <td>243710</td>\n",
       "      <td>MainScreenAppear</td>\n",
       "      <td>5746969938801999050</td>\n",
       "      <td>246</td>\n",
       "      <td>2019-08-07 21:14:43</td>\n",
       "      <td>2019-08-07</td>\n",
       "    </tr>\n",
       "    <tr>\n",
       "      <td>243711</td>\n",
       "      <td>MainScreenAppear</td>\n",
       "      <td>5746969938801999050</td>\n",
       "      <td>246</td>\n",
       "      <td>2019-08-07 21:14:58</td>\n",
       "      <td>2019-08-07</td>\n",
       "    </tr>\n",
       "    <tr>\n",
       "      <td>243712</td>\n",
       "      <td>OffersScreenAppear</td>\n",
       "      <td>5746969938801999050</td>\n",
       "      <td>246</td>\n",
       "      <td>2019-08-07 21:15:17</td>\n",
       "      <td>2019-08-07</td>\n",
       "    </tr>\n",
       "  </tbody>\n",
       "</table>\n",
       "<p>243713 rows × 5 columns</p>\n",
       "</div>"
      ],
      "text/plain": [
       "                     event_name       device_id_hash  exp_id  \\\n",
       "0              MainScreenAppear  4575588528974610257     246   \n",
       "1              MainScreenAppear  7416695313311560658     246   \n",
       "2       PaymentScreenSuccessful  3518123091307005509     248   \n",
       "3              CartScreenAppear  3518123091307005509     248   \n",
       "4       PaymentScreenSuccessful  6217807653094995999     248   \n",
       "...                         ...                  ...     ...   \n",
       "243708         MainScreenAppear  4599628364049201812     247   \n",
       "243709         MainScreenAppear  5849806612437486590     246   \n",
       "243710         MainScreenAppear  5746969938801999050     246   \n",
       "243711         MainScreenAppear  5746969938801999050     246   \n",
       "243712       OffersScreenAppear  5746969938801999050     246   \n",
       "\n",
       "            event_datetime        date  \n",
       "0      2019-07-25 04:43:36  2019-07-25  \n",
       "1      2019-07-25 11:11:42  2019-07-25  \n",
       "2      2019-07-25 11:28:47  2019-07-25  \n",
       "3      2019-07-25 11:28:47  2019-07-25  \n",
       "4      2019-07-25 11:48:42  2019-07-25  \n",
       "...                    ...         ...  \n",
       "243708 2019-08-07 21:12:25  2019-08-07  \n",
       "243709 2019-08-07 21:13:59  2019-08-07  \n",
       "243710 2019-08-07 21:14:43  2019-08-07  \n",
       "243711 2019-08-07 21:14:58  2019-08-07  \n",
       "243712 2019-08-07 21:15:17  2019-08-07  \n",
       "\n",
       "[243713 rows x 5 columns]"
      ]
     },
     "execution_count": 11,
     "metadata": {},
     "output_type": "execute_result"
    }
   ],
   "source": [
    "log_data"
   ]
  },
  {
   "cell_type": "markdown",
   "metadata": {},
   "source": [
    "### Вывод"
   ]
  },
  {
   "cell_type": "markdown",
   "metadata": {},
   "source": [
    "Названия столбцов приведены к более удобному названию, дата приведена к типу datetime, а также были удалены все дубликаты."
   ]
  },
  {
   "cell_type": "markdown",
   "metadata": {},
   "source": [
    "## 3. Анализ данных <a id=\"analytic\"></a>"
   ]
  },
  {
   "cell_type": "markdown",
   "metadata": {},
   "source": [
    "#### 3.1. Количество видов событий в логе <a id=\"count_event\"></a>"
   ]
  },
  {
   "cell_type": "code",
   "execution_count": 12,
   "metadata": {},
   "outputs": [
    {
     "name": "stdout",
     "output_type": "stream",
     "text": [
      "Количество событий в логе:  5\n"
     ]
    }
   ],
   "source": [
    "#применяем методом nunique() к столбцу 'event_name',чтобы получить количество событий в логе\n",
    "print('Количество событий в логе: ', log_data['event_name'].nunique())"
   ]
  },
  {
   "cell_type": "code",
   "execution_count": 13,
   "metadata": {},
   "outputs": [
    {
     "data": {
      "text/html": [
       "<div>\n",
       "<style scoped>\n",
       "    .dataframe tbody tr th:only-of-type {\n",
       "        vertical-align: middle;\n",
       "    }\n",
       "\n",
       "    .dataframe tbody tr th {\n",
       "        vertical-align: top;\n",
       "    }\n",
       "\n",
       "    .dataframe thead th {\n",
       "        text-align: right;\n",
       "    }\n",
       "</style>\n",
       "<table border=\"1\" class=\"dataframe\">\n",
       "  <thead>\n",
       "    <tr style=\"text-align: right;\">\n",
       "      <th></th>\n",
       "      <th>event_name</th>\n",
       "      <th>count_events</th>\n",
       "    </tr>\n",
       "  </thead>\n",
       "  <tbody>\n",
       "    <tr>\n",
       "      <td>2</td>\n",
       "      <td>CartScreenAppear</td>\n",
       "      <td>42668</td>\n",
       "    </tr>\n",
       "    <tr>\n",
       "      <td>0</td>\n",
       "      <td>MainScreenAppear</td>\n",
       "      <td>119101</td>\n",
       "    </tr>\n",
       "    <tr>\n",
       "      <td>1</td>\n",
       "      <td>OffersScreenAppear</td>\n",
       "      <td>46808</td>\n",
       "    </tr>\n",
       "    <tr>\n",
       "      <td>3</td>\n",
       "      <td>PaymentScreenSuccessful</td>\n",
       "      <td>34118</td>\n",
       "    </tr>\n",
       "    <tr>\n",
       "      <td>4</td>\n",
       "      <td>Tutorial</td>\n",
       "      <td>1018</td>\n",
       "    </tr>\n",
       "  </tbody>\n",
       "</table>\n",
       "</div>"
      ],
      "text/plain": [
       "                event_name  count_events\n",
       "2         CartScreenAppear         42668\n",
       "0         MainScreenAppear        119101\n",
       "1       OffersScreenAppear         46808\n",
       "3  PaymentScreenSuccessful         34118\n",
       "4                 Tutorial          1018"
      ]
     },
     "execution_count": 13,
     "metadata": {},
     "output_type": "execute_result"
    }
   ],
   "source": [
    "#посчитаем количество логов каждого вида событий, применяя .value_counts()\n",
    "#также уберем названия событий из индексов при помощи .reset_index(), сохраняем данные в event_logs  \n",
    "event_logs=log_data['event_name'].value_counts().reset_index()\n",
    "#переименуем столбцы методом .columns\n",
    "event_logs.columns=['event_name','count_events']\n",
    "#отсортируем наименования событий по алфавиту .sort_values('event_name')\n",
    "event_logs=event_logs.sort_values('event_name')\n",
    "event_logs"
   ]
  },
  {
   "cell_type": "markdown",
   "metadata": {},
   "source": [
    "#### 3.2. Количество уникальных пользователей в логе <a id=\"count_users\"></a>"
   ]
  },
  {
   "cell_type": "code",
   "execution_count": 14,
   "metadata": {},
   "outputs": [
    {
     "name": "stdout",
     "output_type": "stream",
     "text": [
      "Количество пользователей в логе:  7551\n"
     ]
    }
   ],
   "source": [
    "#применяем методом nunique() к столбцу 'device_id_hash',чтобы получить количество пользователей в логе\n",
    "print('Количество пользователей в логе: ', log_data['device_id_hash'].nunique())"
   ]
  },
  {
   "cell_type": "markdown",
   "metadata": {},
   "source": [
    "#### 3.3. Найдем колиество событий, которые в среднем приходятся на одного пользователя <a id=\"count_avg_event\"></a>"
   ]
  },
  {
   "cell_type": "code",
   "execution_count": 15,
   "metadata": {},
   "outputs": [
    {
     "name": "stdout",
     "output_type": "stream",
     "text": [
      "Среднее число событий, приходящихся на одного пользователя:  32.28\n"
     ]
    }
   ],
   "source": [
    "#посчитаем количество логов, приходящихся на каждого пользователя, применяя .value_counts()\n",
    "#а затем методом mean() найдём среднее число событий, которые приходятся на одного пользователя\n",
    "print('Среднее число событий, приходящихся на одного пользователя: ',log_data['device_id_hash'].value_counts().mean().round(2))"
   ]
  },
  {
   "cell_type": "code",
   "execution_count": 16,
   "metadata": {},
   "outputs": [
    {
     "name": "stdout",
     "output_type": "stream",
     "text": [
      "Медианное число событий, приходящихся на одного пользователя:  20.0\n"
     ]
    }
   ],
   "source": [
    "#посчитаем количество логов, приходящихся на каждого пользователя, применяя .value_counts()\n",
    "#а затем методом median() найдём медианное число событий, которые приходятся на одного пользователя\n",
    "print('Медианное число событий, приходящихся на одного пользователя: ',log_data['device_id_hash'].value_counts().median())"
   ]
  },
  {
   "cell_type": "markdown",
   "metadata": {},
   "source": [
    "Медиана и среднее значение довольно сильно отличаются друг от друга, скорее всего это связано с большими выбросами в количестве заказов. Построим распределение заказов пользователей при помощи boxplot()."
   ]
  },
  {
   "cell_type": "code",
   "execution_count": 17,
   "metadata": {},
   "outputs": [
    {
     "data": {
      "text/plain": [
       "(0, 500)"
      ]
     },
     "execution_count": 17,
     "metadata": {},
     "output_type": "execute_result"
    },
    {
     "data": {
      "image/png": "[encoded data removed]",
      "text/plain": [
       "<Figure size 432x576 with 1 Axes>"
      ]
     },
     "metadata": {
      "needs_background": "light"
     },
     "output_type": "display_data"
    }
   ],
   "source": [
    "#задаём графическую область plt.subplots() \n",
    "fig1,ax1 =  plt.subplots(figsize=(6,8))\n",
    "#название графика определяет set_title() \n",
    "ax1.set_title('Распределение логов по пользователям', fontsize=20) \n",
    "ax1.boxplot(log_data['device_id_hash'].value_counts())\n",
    "#ограничим ось Y, чтоюы более детально видеть график \n",
    "ax1.set_ylim(0,500)"
   ]
  },
  {
   "cell_type": "markdown",
   "metadata": {},
   "source": [
    "На большинство пользователей в среднем приходится не большее 100 логов, но есть и пользователи с средним числом 500,1000,1500 и даже более 2000 логов. "
   ]
  },
  {
   "cell_type": "markdown",
   "metadata": {},
   "source": [
    "#### 3.4. Работа с  данными времени <a id=\"time\"></a>"
   ]
  },
  {
   "cell_type": "markdown",
   "metadata": {},
   "source": [
    "Узнаем период всех данных, для этого выделим максимальную и минимальную дату."
   ]
  },
  {
   "cell_type": "code",
   "execution_count": 18,
   "metadata": {},
   "outputs": [
    {
     "name": "stdout",
     "output_type": "stream",
     "text": [
      "Период данных составляет 13 дней: c 2019-07-25 04:43:36 по 2019-08-07 21:15:17\n"
     ]
    }
   ],
   "source": [
    "min_date=log_data['event_datetime'].min()\n",
    "max_date=log_data['event_datetime'].max()\n",
    "total=(max_date-min_date)\n",
    "print(f'Период данных составляет {total.days} дней: c {min_date} по {max_date}')"
   ]
  },
  {
   "cell_type": "markdown",
   "metadata": {},
   "source": [
    "Построим гистограмму по дате и времени, чтобы выяснить одинаково ли полные данные за весь период."
   ]
  },
  {
   "cell_type": "code",
   "execution_count": 19,
   "metadata": {},
   "outputs": [
    {
     "data": {
      "image/png": "[encoded data removed]",
      "text/plain": [
       "<Figure size 864x648 with 1 Axes>"
      ]
     },
     "metadata": {
      "needs_background": "light"
     },
     "output_type": "display_data"
    }
   ],
   "source": [
    "#создаём сводную таблицу, где индексы - дата, столбцы - виды событий, а значения - подсчёт количества пользователя  \n",
    "logs_by_date = log_data.pivot_table(index='date', columns = 'event_name', values='device_id_hash', aggfunc='count')\n",
    "#создаём столбчатую диаграмму kind=bar\n",
    "logs_by_date.plot(kind = 'bar', figsize = (12,9))\n",
    "plt.title('Распределение записей в логах по дням', fontsize=20)\n",
    "plt.xlabel('Дата', fontsize=12)\n",
    "plt.ylabel('Количество событий', fontsize=12)\n",
    "plt.xticks(rotation = 90)\n",
    "plt.grid();"
   ]
  },
  {
   "cell_type": "markdown",
   "metadata": {},
   "source": [
    "Видно,что впервую неделю данных почти нет, поэтому чтобы не нарушить результаты статистическиго теста, выделяем правильный момент полноты дынных, отбросив более старые дни."
   ]
  },
  {
   "cell_type": "code",
   "execution_count": 20,
   "metadata": {},
   "outputs": [
    {
     "data": {
      "text/plain": [
       "240887"
      ]
     },
     "execution_count": 20,
     "metadata": {},
     "output_type": "execute_result"
    }
   ],
   "source": [
    "#делаем срез данных по августу месяцу и сохраняем результат в log_data_right \n",
    "log_data_right=log_data[pd.to_datetime(log_data['date']).dt.month == 8]\n",
    "#проверяем количество оставшихся логов \n",
    "len(log_data_right)"
   ]
  },
  {
   "cell_type": "markdown",
   "metadata": {},
   "source": [
    "Число логов уменьшилось. Проверим насколько сильно произошли изменения в данных."
   ]
  },
  {
   "cell_type": "code",
   "execution_count": 21,
   "metadata": {},
   "outputs": [
    {
     "data": {
      "text/html": [
       "<div>\n",
       "<style scoped>\n",
       "    .dataframe tbody tr th:only-of-type {\n",
       "        vertical-align: middle;\n",
       "    }\n",
       "\n",
       "    .dataframe tbody tr th {\n",
       "        vertical-align: top;\n",
       "    }\n",
       "\n",
       "    .dataframe thead th {\n",
       "        text-align: right;\n",
       "    }\n",
       "</style>\n",
       "<table border=\"1\" class=\"dataframe\">\n",
       "  <thead>\n",
       "    <tr style=\"text-align: right;\">\n",
       "      <th></th>\n",
       "      <th>event_name</th>\n",
       "      <th>count_events_right</th>\n",
       "    </tr>\n",
       "  </thead>\n",
       "  <tbody>\n",
       "    <tr>\n",
       "      <td>2</td>\n",
       "      <td>CartScreenAppear</td>\n",
       "      <td>42303</td>\n",
       "    </tr>\n",
       "    <tr>\n",
       "      <td>0</td>\n",
       "      <td>MainScreenAppear</td>\n",
       "      <td>117328</td>\n",
       "    </tr>\n",
       "    <tr>\n",
       "      <td>1</td>\n",
       "      <td>OffersScreenAppear</td>\n",
       "      <td>46333</td>\n",
       "    </tr>\n",
       "    <tr>\n",
       "      <td>3</td>\n",
       "      <td>PaymentScreenSuccessful</td>\n",
       "      <td>33918</td>\n",
       "    </tr>\n",
       "    <tr>\n",
       "      <td>4</td>\n",
       "      <td>Tutorial</td>\n",
       "      <td>1005</td>\n",
       "    </tr>\n",
       "  </tbody>\n",
       "</table>\n",
       "</div>"
      ],
      "text/plain": [
       "                event_name  count_events_right\n",
       "2         CartScreenAppear               42303\n",
       "0         MainScreenAppear              117328\n",
       "1       OffersScreenAppear               46333\n",
       "3  PaymentScreenSuccessful               33918\n",
       "4                 Tutorial                1005"
      ]
     },
     "execution_count": 21,
     "metadata": {},
     "output_type": "execute_result"
    }
   ],
   "source": [
    "#посчитаем количество логов каждого вида событий в отсортированных данных, применяя .value_counts()\n",
    "#также уберем названия событий из индексов при помощи .reset_index(), сохраняем данные в event_logs_right \n",
    "event_logs_right=log_data_right['event_name'].value_counts().reset_index()\n",
    "#переименуем столбцы методом .columns\n",
    "event_logs_right.columns=['event_name','count_events_right']\n",
    "#отсортируем наименования событий по алфавиту .sort_values('event_name')\n",
    "event_logs_right=event_logs_right.sort_values('event_name')\n",
    "event_logs_right"
   ]
  },
  {
   "cell_type": "code",
   "execution_count": 22,
   "metadata": {},
   "outputs": [
    {
     "data": {
      "text/html": [
       "<div>\n",
       "<style scoped>\n",
       "    .dataframe tbody tr th:only-of-type {\n",
       "        vertical-align: middle;\n",
       "    }\n",
       "\n",
       "    .dataframe tbody tr th {\n",
       "        vertical-align: top;\n",
       "    }\n",
       "\n",
       "    .dataframe thead th {\n",
       "        text-align: right;\n",
       "    }\n",
       "</style>\n",
       "<table border=\"1\" class=\"dataframe\">\n",
       "  <thead>\n",
       "    <tr style=\"text-align: right;\">\n",
       "      <th></th>\n",
       "      <th>event_name</th>\n",
       "      <th>count_events_right</th>\n",
       "      <th>count_events</th>\n",
       "      <th>lost_events</th>\n",
       "    </tr>\n",
       "  </thead>\n",
       "  <tbody>\n",
       "    <tr>\n",
       "      <td>0</td>\n",
       "      <td>CartScreenAppear</td>\n",
       "      <td>42303</td>\n",
       "      <td>42668</td>\n",
       "      <td>0.855442</td>\n",
       "    </tr>\n",
       "    <tr>\n",
       "      <td>1</td>\n",
       "      <td>MainScreenAppear</td>\n",
       "      <td>117328</td>\n",
       "      <td>119101</td>\n",
       "      <td>1.488652</td>\n",
       "    </tr>\n",
       "    <tr>\n",
       "      <td>2</td>\n",
       "      <td>OffersScreenAppear</td>\n",
       "      <td>46333</td>\n",
       "      <td>46808</td>\n",
       "      <td>1.014784</td>\n",
       "    </tr>\n",
       "    <tr>\n",
       "      <td>3</td>\n",
       "      <td>PaymentScreenSuccessful</td>\n",
       "      <td>33918</td>\n",
       "      <td>34118</td>\n",
       "      <td>0.586201</td>\n",
       "    </tr>\n",
       "    <tr>\n",
       "      <td>4</td>\n",
       "      <td>Tutorial</td>\n",
       "      <td>1005</td>\n",
       "      <td>1018</td>\n",
       "      <td>1.277014</td>\n",
       "    </tr>\n",
       "  </tbody>\n",
       "</table>\n",
       "</div>"
      ],
      "text/plain": [
       "                event_name  count_events_right  count_events  lost_events\n",
       "0         CartScreenAppear               42303         42668     0.855442\n",
       "1         MainScreenAppear              117328        119101     1.488652\n",
       "2       OffersScreenAppear               46333         46808     1.014784\n",
       "3  PaymentScreenSuccessful               33918         34118     0.586201\n",
       "4                 Tutorial                1005          1018     1.277014"
      ]
     },
     "execution_count": 22,
     "metadata": {},
     "output_type": "execute_result"
    }
   ],
   "source": [
    "#объединяем event_logs и event_logs_right по столбцу 'event_name'\n",
    "event_logs=event_logs_right.merge(event_logs, on='event_name')\n",
    "#рассчитываем процентное соотношение изменений \n",
    "event_logs['lost_events']=(event_logs['count_events']-event_logs['count_events_right'])/event_logs['count_events']*100\n",
    "#смотрим итогувую таблицу\n",
    "event_logs"
   ]
  },
  {
   "cell_type": "markdown",
   "metadata": {},
   "source": [
    "Потеря данных в любом виде событий не составляет больше 1,5 процента, следовательно такие ограничение на диапозон событий не составляют больших помех."
   ]
  },
  {
   "cell_type": "code",
   "execution_count": 23,
   "metadata": {},
   "outputs": [
    {
     "name": "stdout",
     "output_type": "stream",
     "text": [
      "Процент потерянных пользователей в логах:  0.2\n",
      "Число потерянных пользователей:  17\n"
     ]
    }
   ],
   "source": [
    "#теперь проверим какой процент пользователей потерян\n",
    "print('Процент потерянных пользователей в логах: ', round((1-log_data_right['device_id_hash'].nunique()/log_data['device_id_hash'].nunique()), 3)*100)\n",
    "#определим абсолютное значение потерянных пользователей\n",
    "print('Число потерянных пользователей: ', (log_data['device_id_hash'].nunique()-log_data_right['device_id_hash'].nunique()))"
   ]
  },
  {
   "cell_type": "code",
   "execution_count": 24,
   "metadata": {},
   "outputs": [
    {
     "name": "stdout",
     "output_type": "stream",
     "text": [
      "Общий процент потерянных данных:  1.16\n",
      "Число потерянных логов:  2826\n"
     ]
    }
   ],
   "source": [
    "#теперь проверим какой процент пользователей потерян\n",
    "print('Общий процент потерянных данных: ', round((1-len(log_data_right)/len(log_data)), 4)*100)\n",
    "#определим абсолютное значение потерянных данных\n",
    "print('Число потерянных логов: ', (len(log_data)-len(log_data_right)))"
   ]
  },
  {
   "cell_type": "markdown",
   "metadata": {},
   "source": [
    "#### 3.5. Проверим, что у нас есть пользователи из всех трёх экспериментальных групп, чтобы начать работу с A/A/B тестом <a id=\"check_users_for_test\"></a>"
   ]
  },
  {
   "cell_type": "code",
   "execution_count": 25,
   "metadata": {},
   "outputs": [
    {
     "name": "stdout",
     "output_type": "stream",
     "text": [
      "Виды групп для A/A/B теста:  [246 247 248]\n"
     ]
    }
   ],
   "source": [
    "#применяем методом unique() к столбцу 'exp_id',чтобы получить все виды групп для теста\n",
    "print('Виды групп для A/A/B теста: ', log_data_right['exp_id'].unique())"
   ]
  },
  {
   "cell_type": "code",
   "execution_count": 26,
   "metadata": {},
   "outputs": [
    {
     "data": {
      "text/html": [
       "<div>\n",
       "<style scoped>\n",
       "    .dataframe tbody tr th:only-of-type {\n",
       "        vertical-align: middle;\n",
       "    }\n",
       "\n",
       "    .dataframe tbody tr th {\n",
       "        vertical-align: top;\n",
       "    }\n",
       "\n",
       "    .dataframe thead th {\n",
       "        text-align: right;\n",
       "    }\n",
       "</style>\n",
       "<table border=\"1\" class=\"dataframe\">\n",
       "  <thead>\n",
       "    <tr style=\"text-align: right;\">\n",
       "      <th></th>\n",
       "      <th>device_id_hash</th>\n",
       "    </tr>\n",
       "    <tr>\n",
       "      <th>exp_id</th>\n",
       "      <th></th>\n",
       "    </tr>\n",
       "  </thead>\n",
       "  <tbody>\n",
       "    <tr>\n",
       "      <td>246</td>\n",
       "      <td>2484</td>\n",
       "    </tr>\n",
       "    <tr>\n",
       "      <td>247</td>\n",
       "      <td>2513</td>\n",
       "    </tr>\n",
       "    <tr>\n",
       "      <td>248</td>\n",
       "      <td>2537</td>\n",
       "    </tr>\n",
       "  </tbody>\n",
       "</table>\n",
       "</div>"
      ],
      "text/plain": [
       "        device_id_hash\n",
       "exp_id                \n",
       "246               2484\n",
       "247               2513\n",
       "248               2537"
      ]
     },
     "execution_count": 26,
     "metadata": {},
     "output_type": "execute_result"
    }
   ],
   "source": [
    "#проверяем распредление данных по группам\n",
    "log_data_right.groupby('exp_id').agg({'device_id_hash': 'nunique'})"
   ]
  },
  {
   "cell_type": "markdown",
   "metadata": {},
   "source": [
    "### Вывод"
   ]
  },
  {
   "cell_type": "markdown",
   "metadata": {},
   "source": [
    "Таким образом, после проведенного предварительного анализа был определен диапозон данных, когда события в каждый день максимально полны. Потеря данных составила лишь 1,16%, а период данных на самом деле составляет с 1 августа-7 августа."
   ]
  },
  {
   "cell_type": "markdown",
   "metadata": {},
   "source": [
    "## 4. Воронка событий <a id=\"funnel_of_events\"></a>"
   ]
  },
  {
   "cell_type": "markdown",
   "metadata": {},
   "source": [
    "#### 4.1. Обзор событий в логах <a id=\"overview_events\"></a>\n",
    "\n",
    "\n",
    "Определим частоту каждого вида событий, как отношение числа событий группы к общему числу всех событий."
   ]
  },
  {
   "cell_type": "code",
   "execution_count": 27,
   "metadata": {},
   "outputs": [
    {
     "data": {
      "text/html": [
       "<div>\n",
       "<style scoped>\n",
       "    .dataframe tbody tr th:only-of-type {\n",
       "        vertical-align: middle;\n",
       "    }\n",
       "\n",
       "    .dataframe tbody tr th {\n",
       "        vertical-align: top;\n",
       "    }\n",
       "\n",
       "    .dataframe thead th {\n",
       "        text-align: right;\n",
       "    }\n",
       "</style>\n",
       "<table border=\"1\" class=\"dataframe\">\n",
       "  <thead>\n",
       "    <tr style=\"text-align: right;\">\n",
       "      <th></th>\n",
       "      <th>event_name</th>\n",
       "      <th>count_events_right</th>\n",
       "      <th>frequency</th>\n",
       "    </tr>\n",
       "  </thead>\n",
       "  <tbody>\n",
       "    <tr>\n",
       "      <td>4</td>\n",
       "      <td>Tutorial</td>\n",
       "      <td>1005</td>\n",
       "      <td>0.004</td>\n",
       "    </tr>\n",
       "    <tr>\n",
       "      <td>3</td>\n",
       "      <td>PaymentScreenSuccessful</td>\n",
       "      <td>33918</td>\n",
       "      <td>0.141</td>\n",
       "    </tr>\n",
       "    <tr>\n",
       "      <td>2</td>\n",
       "      <td>CartScreenAppear</td>\n",
       "      <td>42303</td>\n",
       "      <td>0.176</td>\n",
       "    </tr>\n",
       "    <tr>\n",
       "      <td>1</td>\n",
       "      <td>OffersScreenAppear</td>\n",
       "      <td>46333</td>\n",
       "      <td>0.192</td>\n",
       "    </tr>\n",
       "    <tr>\n",
       "      <td>0</td>\n",
       "      <td>MainScreenAppear</td>\n",
       "      <td>117328</td>\n",
       "      <td>0.487</td>\n",
       "    </tr>\n",
       "  </tbody>\n",
       "</table>\n",
       "</div>"
      ],
      "text/plain": [
       "                event_name  count_events_right  frequency\n",
       "4                 Tutorial                1005      0.004\n",
       "3  PaymentScreenSuccessful               33918      0.141\n",
       "2         CartScreenAppear               42303      0.176\n",
       "1       OffersScreenAppear               46333      0.192\n",
       "0         MainScreenAppear              117328      0.487"
      ]
     },
     "execution_count": 27,
     "metadata": {},
     "output_type": "execute_result"
    }
   ],
   "source": [
    "#ранее уже получали event_logs_right, который содержит количество логов вида событий событий\n",
    "#поделим стлобец 'count_events_right' на общее число событий, найденных методом len(log_data_right), для получения частоты\n",
    "event_logs_right['frequency']=(event_logs_right['count_events_right']/len(log_data_right)).round(3)\n",
    "#сортируем события по частоте sort_values() \n",
    "event_logs_right=event_logs_right.sort_values('frequency') \n",
    "event_logs_right"
   ]
  },
  {
   "cell_type": "markdown",
   "metadata": {},
   "source": [
    "Почти половина логов/действий - переход пользователей на главнй экран, и только 19, 18 и 14 процентов действий - переход к предложениям, добавленя товаров в корзину и непосредственна оплата покупки товара. Такая разница в долевом/процентном соотношении означает,что меньше половины от всех пользователей преступает к покупкам товаров. А обучение занимает лишь 0,4% всех данных, следовательно логично предположить что очень мало переходят к непосредственному обучению, но это не проблема, так как цель стартапа-продать продукт."
   ]
  },
  {
   "cell_type": "markdown",
   "metadata": {},
   "source": [
    "#### 4.2. Работа с пользователями, которые совершают  события <a id=\"work_with_users\"></a>\n",
    "\n",
    "Определим количество пользователей, которые совершали каждое из видов событий, а также посчитаем долю пользователей, которые хоть раз совершали событие."
   ]
  },
  {
   "cell_type": "code",
   "execution_count": 28,
   "metadata": {},
   "outputs": [
    {
     "data": {
      "text/html": [
       "<div>\n",
       "<style scoped>\n",
       "    .dataframe tbody tr th:only-of-type {\n",
       "        vertical-align: middle;\n",
       "    }\n",
       "\n",
       "    .dataframe tbody tr th {\n",
       "        vertical-align: top;\n",
       "    }\n",
       "\n",
       "    .dataframe thead th {\n",
       "        text-align: right;\n",
       "    }\n",
       "</style>\n",
       "<table border=\"1\" class=\"dataframe\">\n",
       "  <thead>\n",
       "    <tr style=\"text-align: right;\">\n",
       "      <th></th>\n",
       "      <th>event_name</th>\n",
       "      <th>count_users</th>\n",
       "      <th>part</th>\n",
       "    </tr>\n",
       "  </thead>\n",
       "  <tbody>\n",
       "    <tr>\n",
       "      <td>4</td>\n",
       "      <td>Tutorial</td>\n",
       "      <td>840</td>\n",
       "      <td>0.111</td>\n",
       "    </tr>\n",
       "    <tr>\n",
       "      <td>3</td>\n",
       "      <td>PaymentScreenSuccessful</td>\n",
       "      <td>3539</td>\n",
       "      <td>0.470</td>\n",
       "    </tr>\n",
       "    <tr>\n",
       "      <td>0</td>\n",
       "      <td>CartScreenAppear</td>\n",
       "      <td>3734</td>\n",
       "      <td>0.496</td>\n",
       "    </tr>\n",
       "    <tr>\n",
       "      <td>2</td>\n",
       "      <td>OffersScreenAppear</td>\n",
       "      <td>4593</td>\n",
       "      <td>0.610</td>\n",
       "    </tr>\n",
       "    <tr>\n",
       "      <td>1</td>\n",
       "      <td>MainScreenAppear</td>\n",
       "      <td>7419</td>\n",
       "      <td>0.985</td>\n",
       "    </tr>\n",
       "  </tbody>\n",
       "</table>\n",
       "</div>"
      ],
      "text/plain": [
       "                event_name  count_users   part\n",
       "4                 Tutorial          840  0.111\n",
       "3  PaymentScreenSuccessful         3539  0.470\n",
       "0         CartScreenAppear         3734  0.496\n",
       "2       OffersScreenAppear         4593  0.610\n",
       "1         MainScreenAppear         7419  0.985"
      ]
     },
     "execution_count": 28,
     "metadata": {},
     "output_type": "execute_result"
    }
   ],
   "source": [
    "#сгруппируем данные по событиям и для каждого из них посчитаем число уникальных пользователей\n",
    "event_users=(log_data_right.groupby('event_name', as_index=False)\n",
    "             .agg({'device_id_hash':'nunique'})\n",
    "             .sort_values('device_id_hash')\n",
    "             .rename(columns={'device_id_hash':'count_users'})\n",
    "            )\n",
    "#сохраняем бщее число пользователей в переменную total_users\n",
    "total_users=log_data_right['device_id_hash'].nunique()\n",
    "#поделим стлобец 'count_users' на 'total_users' для получения доли пользователей, которые хоть раз совершали событие\n",
    "event_users['part']=(event_users['count_users']/total_users).round(3)\n",
    "#сортируем события по доли sort_values() \n",
    "event_users=event_users.sort_values('count_users') \n",
    "event_users"
   ]
  },
  {
   "cell_type": "markdown",
   "metadata": {},
   "source": [
    "Можно отметить, что не для всех пользователей все события выстраиваются в последовательную цепочку. 1,5% пользователей пропускают главный экран и , возможно, сразу переходят к предложениям. "
   ]
  },
  {
   "cell_type": "markdown",
   "metadata": {},
   "source": [
    "#### 4.3. Порядк событий <a id=\"order_of_events\"></a>\n",
    "\n",
    "По долевому отношению можно предположить,что пользователи придерживаются следующей цепочки действий: главный экран-предложения-корзина-оплата-обучение. \n",
    "\n",
    "\n",
    "Однако мы не знаем, все ли из пользователей, дошедших до покупки-обучения, придерживались данной последовательности действий. Для этого отследим последовательность действий по первому времени совершения события каждого пользователя."
   ]
  },
  {
   "cell_type": "code",
   "execution_count": 29,
   "metadata": {},
   "outputs": [
    {
     "data": {
      "text/html": [
       "<div>\n",
       "<style scoped>\n",
       "    .dataframe tbody tr th:only-of-type {\n",
       "        vertical-align: middle;\n",
       "    }\n",
       "\n",
       "    .dataframe tbody tr th {\n",
       "        vertical-align: top;\n",
       "    }\n",
       "\n",
       "    .dataframe thead th {\n",
       "        text-align: right;\n",
       "    }\n",
       "</style>\n",
       "<table border=\"1\" class=\"dataframe\">\n",
       "  <thead>\n",
       "    <tr style=\"text-align: right;\">\n",
       "      <th>event_name</th>\n",
       "      <th>CartScreenAppear</th>\n",
       "      <th>MainScreenAppear</th>\n",
       "      <th>OffersScreenAppear</th>\n",
       "      <th>PaymentScreenSuccessful</th>\n",
       "      <th>Tutorial</th>\n",
       "    </tr>\n",
       "    <tr>\n",
       "      <th>device_id_hash</th>\n",
       "      <th></th>\n",
       "      <th></th>\n",
       "      <th></th>\n",
       "      <th></th>\n",
       "      <th></th>\n",
       "    </tr>\n",
       "  </thead>\n",
       "  <tbody>\n",
       "    <tr>\n",
       "      <td>6888746892508752</td>\n",
       "      <td>NaT</td>\n",
       "      <td>2019-08-06 14:06:34</td>\n",
       "      <td>NaT</td>\n",
       "      <td>NaT</td>\n",
       "      <td>NaT</td>\n",
       "    </tr>\n",
       "    <tr>\n",
       "      <td>6909561520679493</td>\n",
       "      <td>2019-08-06 18:52:58</td>\n",
       "      <td>2019-08-06 18:52:54</td>\n",
       "      <td>2019-08-06 18:53:04</td>\n",
       "      <td>2019-08-06 18:52:58</td>\n",
       "      <td>NaT</td>\n",
       "    </tr>\n",
       "    <tr>\n",
       "      <td>6922444491712477</td>\n",
       "      <td>2019-08-04 14:19:40</td>\n",
       "      <td>2019-08-04 14:19:33</td>\n",
       "      <td>2019-08-04 14:19:46</td>\n",
       "      <td>2019-08-04 14:19:40</td>\n",
       "      <td>NaT</td>\n",
       "    </tr>\n",
       "    <tr>\n",
       "      <td>7435777799948366</td>\n",
       "      <td>NaT</td>\n",
       "      <td>2019-08-05 08:06:34</td>\n",
       "      <td>NaT</td>\n",
       "      <td>NaT</td>\n",
       "      <td>NaT</td>\n",
       "    </tr>\n",
       "    <tr>\n",
       "      <td>7702139951469979</td>\n",
       "      <td>2019-08-02 14:28:45</td>\n",
       "      <td>2019-08-01 04:29:54</td>\n",
       "      <td>2019-08-01 04:29:56</td>\n",
       "      <td>2019-08-02 14:28:45</td>\n",
       "      <td>NaT</td>\n",
       "    </tr>\n",
       "  </tbody>\n",
       "</table>\n",
       "</div>"
      ],
      "text/plain": [
       "event_name          CartScreenAppear    MainScreenAppear  OffersScreenAppear  \\\n",
       "device_id_hash                                                                 \n",
       "6888746892508752                 NaT 2019-08-06 14:06:34                 NaT   \n",
       "6909561520679493 2019-08-06 18:52:58 2019-08-06 18:52:54 2019-08-06 18:53:04   \n",
       "6922444491712477 2019-08-04 14:19:40 2019-08-04 14:19:33 2019-08-04 14:19:46   \n",
       "7435777799948366                 NaT 2019-08-05 08:06:34                 NaT   \n",
       "7702139951469979 2019-08-02 14:28:45 2019-08-01 04:29:54 2019-08-01 04:29:56   \n",
       "\n",
       "event_name       PaymentScreenSuccessful Tutorial  \n",
       "device_id_hash                                     \n",
       "6888746892508752                     NaT      NaT  \n",
       "6909561520679493     2019-08-06 18:52:58      NaT  \n",
       "6922444491712477     2019-08-04 14:19:40      NaT  \n",
       "7435777799948366                     NaT      NaT  \n",
       "7702139951469979     2019-08-02 14:28:45      NaT  "
      ]
     },
     "execution_count": 29,
     "metadata": {},
     "output_type": "execute_result"
    }
   ],
   "source": [
    "#создадим сводную таблицу users , где индекс- айди пользователя, столбцы - события, а значение первое время совершения события\n",
    "users = log_data_right.pivot_table(\n",
    "        index='device_id_hash', \n",
    "        columns='event_name', \n",
    "        values='event_datetime',\n",
    "        aggfunc='min')\n",
    "users.head()"
   ]
  },
  {
   "cell_type": "markdown",
   "metadata": {},
   "source": [
    "Пропущенные значения Nan значат лишь то,что пользователь не приступал к данному событию.\n",
    "\n",
    "Для начала посчитаем количество пользователей, которые перешли на главную страницу сайта. Для этого находим число строк таблицы users, где в столбце MainScreenAppear не стоит пустое значение."
   ]
  },
  {
   "cell_type": "code",
   "execution_count": 30,
   "metadata": {},
   "outputs": [
    {
     "name": "stdout",
     "output_type": "stream",
     "text": [
      "Посетителей главного экрана: 7419\n"
     ]
    }
   ],
   "source": [
    "# создаём срез данных при помощи отрицания ~ всех строк главной страницы с NaN\n",
    "#затем определяем размер таблицы при помощи shape[0]\n",
    "n_main = users[~users['MainScreenAppear'].isna()].shape[0]\n",
    "print('Посетителей главного экрана:', n_main)"
   ]
  },
  {
   "cell_type": "markdown",
   "metadata": {},
   "source": [
    "Затем определяется, сколько людей из тех, кто переходил на главный экран сайта, перешел к предложениям. То есть мы отбираем пользователей, во-первых, у которых есть дата посещения главного экрана сайта, а во-вторых, дата события \"просмотрена страницы предложений\" позже даты первого захода на главную страницу сайта."
   ]
  },
  {
   "cell_type": "code",
   "execution_count": 31,
   "metadata": {},
   "outputs": [
    {
     "name": "stdout",
     "output_type": "stream",
     "text": [
      "Увидели предложения: 4201\n"
     ]
    }
   ],
   "source": [
    "n_offers = users[~users['MainScreenAppear'].isna() & (users['OffersScreenAppear'] > users['MainScreenAppear'])].shape[0]\n",
    "print('Увидели предложения:', n_offers)"
   ]
  },
  {
   "cell_type": "markdown",
   "metadata": {},
   "source": [
    "Аналогично добавим остальные шаги и получим число пользователей для каждого шага воронки."
   ]
  },
  {
   "cell_type": "code",
   "execution_count": 32,
   "metadata": {},
   "outputs": [
    {
     "name": "stdout",
     "output_type": "stream",
     "text": [
      "Посетители главного сайта: 7419\n",
      "Посетители, которые увидели предложения: 4201\n",
      "Добавили товара в корзину: 1767\n",
      "Оплатили: 454\n",
      "Перешли к обучению: 1\n"
     ]
    }
   ],
   "source": [
    "step_1 = ~users['MainScreenAppear'].isna()\n",
    "step_2 = step_1 & (users['OffersScreenAppear'] > users['MainScreenAppear'])\n",
    "step_3 = step_2 & (users['CartScreenAppear'] > users['OffersScreenAppear'])\n",
    "step_4 = step_3 & (users['PaymentScreenSuccessful'] > users['CartScreenAppear'])\n",
    "step_5 = step_4  & (users['Tutorial'] > users['PaymentScreenSuccessful'])\n",
    "#фильтруем данные users  и методом .shape[0] определяем число пользователей\n",
    "n_main = users[step_1].shape[0]\n",
    "n_offers = users[step_2].shape[0]\n",
    "n_cart = users[step_3].shape[0]\n",
    "n_payment = users[step_4].shape[0]\n",
    "n_tutorial = users[step_5].shape[0]\n",
    "\n",
    "print('Посетители главного сайта:', n_main)\n",
    "print('Посетители, которые увидели предложения:', n_offers)\n",
    "print('Добавили товара в корзину:', n_cart)\n",
    "print('Оплатили:', n_payment)\n",
    "print('Перешли к обучению:', n_tutorial)"
   ]
  },
  {
   "cell_type": "code",
   "execution_count": 33,
   "metadata": {},
   "outputs": [
    {
     "data": {
      "text/html": [
       "<div>\n",
       "<style scoped>\n",
       "    .dataframe tbody tr th:only-of-type {\n",
       "        vertical-align: middle;\n",
       "    }\n",
       "\n",
       "    .dataframe tbody tr th {\n",
       "        vertical-align: top;\n",
       "    }\n",
       "\n",
       "    .dataframe thead th {\n",
       "        text-align: right;\n",
       "    }\n",
       "</style>\n",
       "<table border=\"1\" class=\"dataframe\">\n",
       "  <thead>\n",
       "    <tr style=\"text-align: right;\">\n",
       "      <th></th>\n",
       "      <th>event_name</th>\n",
       "      <th>count_users</th>\n",
       "      <th>part</th>\n",
       "    </tr>\n",
       "  </thead>\n",
       "  <tbody>\n",
       "    <tr>\n",
       "      <td>1</td>\n",
       "      <td>MainScreenAppear</td>\n",
       "      <td>7419</td>\n",
       "      <td>0.985</td>\n",
       "    </tr>\n",
       "    <tr>\n",
       "      <td>2</td>\n",
       "      <td>OffersScreenAppear</td>\n",
       "      <td>4593</td>\n",
       "      <td>0.610</td>\n",
       "    </tr>\n",
       "    <tr>\n",
       "      <td>0</td>\n",
       "      <td>CartScreenAppear</td>\n",
       "      <td>3734</td>\n",
       "      <td>0.496</td>\n",
       "    </tr>\n",
       "    <tr>\n",
       "      <td>3</td>\n",
       "      <td>PaymentScreenSuccessful</td>\n",
       "      <td>3539</td>\n",
       "      <td>0.470</td>\n",
       "    </tr>\n",
       "    <tr>\n",
       "      <td>4</td>\n",
       "      <td>Tutorial</td>\n",
       "      <td>840</td>\n",
       "      <td>0.111</td>\n",
       "    </tr>\n",
       "  </tbody>\n",
       "</table>\n",
       "</div>"
      ],
      "text/plain": [
       "                event_name  count_users   part\n",
       "1         MainScreenAppear         7419  0.985\n",
       "2       OffersScreenAppear         4593  0.610\n",
       "0         CartScreenAppear         3734  0.496\n",
       "3  PaymentScreenSuccessful         3539  0.470\n",
       "4                 Tutorial          840  0.111"
      ]
     },
     "execution_count": 33,
     "metadata": {},
     "output_type": "execute_result"
    }
   ],
   "source": [
    "event_users.sort_values('part', ascending=False)"
   ]
  },
  {
   "cell_type": "markdown",
   "metadata": {},
   "source": [
    "Количество пользователей на первом шаге совпадает с число пользователей из подсчета числа событий, но дальше, начиная с добавления продукта в корзину, начинаются большие  расхождения. Это значит, что далеко не все пользователи придерживаются ожидаемому пути, а могут идти сразу от главного экрана к корзине или иным способом, например возвращаются на предыдущий шаг и снова возвращаются к корзине. Лишь 1 пользователь, следуя выдвинутой цепи, доходит до обучения, но это не значит, что цепь построена не верно. Главная цель приложения - продать продукт, а значит отследить момент покупки, поэтому учитывать в воронке 'tutorial' мы просто не будем."
   ]
  },
  {
   "cell_type": "markdown",
   "metadata": {},
   "source": [
    "#### 4.4. Работа с  воронкой событий <a id=\"work_with_funnel\"></a>"
   ]
  },
  {
   "cell_type": "markdown",
   "metadata": {},
   "source": [
    "Для начало работы построим воронку событий без учета последовательности событий."
   ]
  },
  {
   "cell_type": "code",
   "execution_count": 34,
   "metadata": {},
   "outputs": [
    {
     "data": {
      "text/html": [
       "<div>\n",
       "<style scoped>\n",
       "    .dataframe tbody tr th:only-of-type {\n",
       "        vertical-align: middle;\n",
       "    }\n",
       "\n",
       "    .dataframe tbody tr th {\n",
       "        vertical-align: top;\n",
       "    }\n",
       "\n",
       "    .dataframe thead th {\n",
       "        text-align: right;\n",
       "    }\n",
       "</style>\n",
       "<table border=\"1\" class=\"dataframe\">\n",
       "  <thead>\n",
       "    <tr style=\"text-align: right;\">\n",
       "      <th></th>\n",
       "      <th>event_name</th>\n",
       "      <th>count_users</th>\n",
       "    </tr>\n",
       "  </thead>\n",
       "  <tbody>\n",
       "    <tr>\n",
       "      <td>0</td>\n",
       "      <td>MainScreenAppear</td>\n",
       "      <td>7419</td>\n",
       "    </tr>\n",
       "    <tr>\n",
       "      <td>1</td>\n",
       "      <td>OffersScreenAppear</td>\n",
       "      <td>4593</td>\n",
       "    </tr>\n",
       "    <tr>\n",
       "      <td>2</td>\n",
       "      <td>CartScreenAppear</td>\n",
       "      <td>3734</td>\n",
       "    </tr>\n",
       "    <tr>\n",
       "      <td>3</td>\n",
       "      <td>PaymentScreenSuccessful</td>\n",
       "      <td>3539</td>\n",
       "    </tr>\n",
       "  </tbody>\n",
       "</table>\n",
       "</div>"
      ],
      "text/plain": [
       "                event_name  count_users\n",
       "0         MainScreenAppear         7419\n",
       "1       OffersScreenAppear         4593\n",
       "2         CartScreenAppear         3734\n",
       "3  PaymentScreenSuccessful         3539"
      ]
     },
     "execution_count": 34,
     "metadata": {},
     "output_type": "execute_result"
    }
   ],
   "source": [
    "#построим таблицу для воронки event_funnel\n",
    "event_funnel=pd.DataFrame(data={'event_name':  ['MainScreenAppear', 'OffersScreenAppear', 'CartScreenAppear', 'PaymentScreenSuccessful'],\n",
    "                                'count_users': [7419, 4593, 3734, 3539] })\n",
    "event_funnel "
   ]
  },
  {
   "cell_type": "markdown",
   "metadata": {},
   "source": [
    "По построенной воронке, посчитаем долю пользователей, которые проходят на следующий шаг воронки (от числа пользователей на предыдущем). "
   ]
  },
  {
   "cell_type": "code",
   "execution_count": 36,
   "metadata": {},
   "outputs": [
    {
     "data": {
      "text/html": [
       "<div>\n",
       "<style scoped>\n",
       "    .dataframe tbody tr th:only-of-type {\n",
       "        vertical-align: middle;\n",
       "    }\n",
       "\n",
       "    .dataframe tbody tr th {\n",
       "        vertical-align: top;\n",
       "    }\n",
       "\n",
       "    .dataframe thead th {\n",
       "        text-align: right;\n",
       "    }\n",
       "</style>\n",
       "<table border=\"1\" class=\"dataframe\">\n",
       "  <thead>\n",
       "    <tr style=\"text-align: right;\">\n",
       "      <th></th>\n",
       "      <th>event_name</th>\n",
       "      <th>count_users</th>\n",
       "      <th>conversion</th>\n",
       "    </tr>\n",
       "  </thead>\n",
       "  <tbody>\n",
       "    <tr>\n",
       "      <td>0</td>\n",
       "      <td>MainScreenAppear</td>\n",
       "      <td>7419</td>\n",
       "      <td>100.0</td>\n",
       "    </tr>\n",
       "    <tr>\n",
       "      <td>1</td>\n",
       "      <td>OffersScreenAppear</td>\n",
       "      <td>4593</td>\n",
       "      <td>62.0</td>\n",
       "    </tr>\n",
       "    <tr>\n",
       "      <td>2</td>\n",
       "      <td>CartScreenAppear</td>\n",
       "      <td>3734</td>\n",
       "      <td>81.0</td>\n",
       "    </tr>\n",
       "    <tr>\n",
       "      <td>3</td>\n",
       "      <td>PaymentScreenSuccessful</td>\n",
       "      <td>3539</td>\n",
       "      <td>95.0</td>\n",
       "    </tr>\n",
       "  </tbody>\n",
       "</table>\n",
       "</div>"
      ],
      "text/plain": [
       "                event_name  count_users  conversion\n",
       "0         MainScreenAppear         7419       100.0\n",
       "1       OffersScreenAppear         4593        62.0\n",
       "2         CartScreenAppear         3734        81.0\n",
       "3  PaymentScreenSuccessful         3539        95.0"
      ]
     },
     "execution_count": 36,
     "metadata": {},
     "output_type": "execute_result"
    }
   ],
   "source": [
    "conversions=[]\n",
    "for i in range(len(event_funnel )):\n",
    "    if i == 0:\n",
    "        conversions.append(100)\n",
    "    else:\n",
    "        conversions.append(round(event_funnel.loc[i,'count_users']/event_funnel.loc[i-1,'count_users']*100,0))\n",
    "event_funnel['conversion']=conversions\n",
    "event_funnel"
   ]
  },
  {
   "cell_type": "markdown",
   "metadata": {},
   "source": [
    "### Вывод"
   ]
  },
  {
   "cell_type": "markdown",
   "metadata": {},
   "source": [
    "Меньше половины пользователей доходят до этапа оплаты: 48% доходят с момента перехода на главную страницу до страницы с оплатой. Причём больше всего пользователей теряется на шаге перехода с главного экрана к предложениям. Такое являние может быть связано с тем,что пользователей мог не удовлетворить интерфейс страницы, её оформление или удобство с работой. Поэтому если провести дополнительный анализ этого шага и провести интервью с пользователем, можно будет увеличить число потербителей продукта, так как с оплатой продукта проблем нет.  "
   ]
  },
  {
   "cell_type": "markdown",
   "metadata": {},
   "source": [
    "## 5.  Анализ результата A/A/B теста <a id=\"analytic_test\"></a>"
   ]
  },
  {
   "cell_type": "markdown",
   "metadata": {},
   "source": [
    "#### 5.1. Обзор пользователей в каждой экспериментальной группе <a id=\"overview_group\"></a>"
   ]
  },
  {
   "cell_type": "code",
   "execution_count": 37,
   "metadata": {},
   "outputs": [
    {
     "data": {
      "text/html": [
       "<div>\n",
       "<style scoped>\n",
       "    .dataframe tbody tr th:only-of-type {\n",
       "        vertical-align: middle;\n",
       "    }\n",
       "\n",
       "    .dataframe tbody tr th {\n",
       "        vertical-align: top;\n",
       "    }\n",
       "\n",
       "    .dataframe thead th {\n",
       "        text-align: right;\n",
       "    }\n",
       "</style>\n",
       "<table border=\"1\" class=\"dataframe\">\n",
       "  <thead>\n",
       "    <tr style=\"text-align: right;\">\n",
       "      <th></th>\n",
       "      <th>device_id_hash</th>\n",
       "    </tr>\n",
       "    <tr>\n",
       "      <th>exp_id</th>\n",
       "      <th></th>\n",
       "    </tr>\n",
       "  </thead>\n",
       "  <tbody>\n",
       "    <tr>\n",
       "      <td>246</td>\n",
       "      <td>2484</td>\n",
       "    </tr>\n",
       "    <tr>\n",
       "      <td>247</td>\n",
       "      <td>2513</td>\n",
       "    </tr>\n",
       "    <tr>\n",
       "      <td>248</td>\n",
       "      <td>2537</td>\n",
       "    </tr>\n",
       "  </tbody>\n",
       "</table>\n",
       "</div>"
      ],
      "text/plain": [
       "        device_id_hash\n",
       "exp_id                \n",
       "246               2484\n",
       "247               2513\n",
       "248               2537"
      ]
     },
     "execution_count": 37,
     "metadata": {},
     "output_type": "execute_result"
    }
   ],
   "source": [
    "#проверяем распредление данных по группам\n",
    "group=log_data_right.groupby('exp_id').agg({'device_id_hash': 'nunique'})\n",
    "group"
   ]
  },
  {
   "cell_type": "markdown",
   "metadata": {},
   "source": [
    "#### 5.2. Статистический анализ между выборками 246 и 247 <a id=\"analytic_control_group\"></a>"
   ]
  },
  {
   "cell_type": "markdown",
   "metadata": {},
   "source": [
    "Статистический анализ групп будем проводить по долевому отношений пользователей, которые совершили конкретное событие."
   ]
  },
  {
   "cell_type": "code",
   "execution_count": 38,
   "metadata": {},
   "outputs": [
    {
     "data": {
      "text/html": [
       "<div>\n",
       "<style scoped>\n",
       "    .dataframe tbody tr th:only-of-type {\n",
       "        vertical-align: middle;\n",
       "    }\n",
       "\n",
       "    .dataframe tbody tr th {\n",
       "        vertical-align: top;\n",
       "    }\n",
       "\n",
       "    .dataframe thead th {\n",
       "        text-align: right;\n",
       "    }\n",
       "</style>\n",
       "<table border=\"1\" class=\"dataframe\">\n",
       "  <thead>\n",
       "    <tr style=\"text-align: right;\">\n",
       "      <th></th>\n",
       "      <th>event_name</th>\n",
       "      <th>A1</th>\n",
       "      <th>A2</th>\n",
       "    </tr>\n",
       "  </thead>\n",
       "  <tbody>\n",
       "    <tr>\n",
       "      <td>0</td>\n",
       "      <td>MainScreenAppear</td>\n",
       "      <td>2450</td>\n",
       "      <td>2476</td>\n",
       "    </tr>\n",
       "    <tr>\n",
       "      <td>1</td>\n",
       "      <td>OffersScreenAppear</td>\n",
       "      <td>1542</td>\n",
       "      <td>1520</td>\n",
       "    </tr>\n",
       "    <tr>\n",
       "      <td>2</td>\n",
       "      <td>CartScreenAppear</td>\n",
       "      <td>1266</td>\n",
       "      <td>1238</td>\n",
       "    </tr>\n",
       "    <tr>\n",
       "      <td>3</td>\n",
       "      <td>PaymentScreenSuccessful</td>\n",
       "      <td>1200</td>\n",
       "      <td>1158</td>\n",
       "    </tr>\n",
       "  </tbody>\n",
       "</table>\n",
       "</div>"
      ],
      "text/plain": [
       "                event_name    A1    A2\n",
       "0         MainScreenAppear  2450  2476\n",
       "1       OffersScreenAppear  1542  1520\n",
       "2         CartScreenAppear  1266  1238\n",
       "3  PaymentScreenSuccessful  1200  1158"
      ]
     },
     "execution_count": 38,
     "metadata": {},
     "output_type": "execute_result"
    }
   ],
   "source": [
    "#отбираем группы вск кроме  248 и не берем в счёт Tutorial (ранее мы это уже обсуждали)\n",
    "#создаём сводную таблицу, где  индексы-события,а столбцы- контрольные группы , в которых хранится уникальное число пользователей\n",
    "#сортируем данные сразу в порядке убывания и сохраняем в control_test\n",
    "control_test=(log_data_right[(~(log_data_right['exp_id']== 248)) & (~(log_data_right['event_name']=='Tutorial'))]\n",
    "              .pivot_table(index='event_name',\n",
    "                           columns='exp_id', \n",
    "                           values='device_id_hash',\n",
    "                           aggfunc='nunique')\n",
    "              .sort_values(246, ascending=False)\n",
    "             )\n",
    "#затем поделим сзнаения столбцов на общее число всех уникальных пользователей,чтобы рассчитать долевое соотошение\n",
    "A1_total=group.loc[246,'device_id_hash']\n",
    "A2_total=group.loc[247,'device_id_hash']\n",
    "control_test.columns=['A1', 'A2']\n",
    "control_test=control_test.reset_index()\n",
    "control_test"
   ]
  },
  {
   "cell_type": "markdown",
   "metadata": {},
   "source": [
    "Создаём функцию для рассчёта уровня значимости отличия долевых соотношений для определенного события. Расчёт будем вести через z-значения. События воронки- отдельные метрики для одних и тех же двух групп, поэтому понижать критический уровень значимости не будем.  \n",
    "\n",
    "H0-долевые отношения котрольных групп не отличаются, H1- есть различия между долевыми отношениями контрольных групп.  "
   ]
  },
  {
   "cell_type": "code",
   "execution_count": 39,
   "metadata": {},
   "outputs": [],
   "source": [
    "def function(A1, A2, A1_total, A2_total, alpha):\n",
    "       \n",
    "    # пропорция успехов в первой группе:\n",
    "    p1 = A1/A1_total\n",
    "\n",
    "    # пропорция успехов во второй группе:\n",
    "    p2 = A2/A2_total\n",
    "    \n",
    "    # пропорция успехов в комбинированном датасете:\n",
    "    p_combined = (A1 + A2)/ (A1_total + A2_total)\n",
    "\n",
    "    # разница пропорций в датасетах\n",
    "    difference = p1 - p2\n",
    "\n",
    "    # считаем статистику в ст.отклонениях стандартного нормального распределения\n",
    "    z_value = difference / mth.sqrt(p_combined * (1 - p_combined) * (1/A1_total + 1/A2_total))\n",
    "\n",
    "    # задаем стандартное нормальное распределение (среднее 0, ст.отклонение 1)\n",
    "    distr = st.norm(0, 1) \n",
    "\n",
    "    p_value = (1 - distr.cdf(abs(z_value))) * 2\n",
    "\n",
    "    print('p-значение: ', p_value.round(2))\n",
    "\n",
    "    if (p_value < alpha):\n",
    "        return (\"Отвергаем нулевую гипотезу: между долями есть значимая разница\")\n",
    "    else:\n",
    "        return (\"Не получилось отвергнуть нулевую гипотезу, нет оснований считать доли разными\")        "
   ]
  },
  {
   "cell_type": "code",
   "execution_count": 40,
   "metadata": {},
   "outputs": [
    {
     "name": "stdout",
     "output_type": "stream",
     "text": [
      "p-значение:  0.76\n",
      "p-значение:  0.25\n",
      "p-значение:  0.23\n",
      "p-значение:  0.11\n"
     ]
    },
    {
     "data": {
      "text/html": [
       "<div>\n",
       "<style scoped>\n",
       "    .dataframe tbody tr th:only-of-type {\n",
       "        vertical-align: middle;\n",
       "    }\n",
       "\n",
       "    .dataframe tbody tr th {\n",
       "        vertical-align: top;\n",
       "    }\n",
       "\n",
       "    .dataframe thead th {\n",
       "        text-align: right;\n",
       "    }\n",
       "</style>\n",
       "<table border=\"1\" class=\"dataframe\">\n",
       "  <thead>\n",
       "    <tr style=\"text-align: right;\">\n",
       "      <th></th>\n",
       "      <th>event_name</th>\n",
       "      <th>A1</th>\n",
       "      <th>A2</th>\n",
       "      <th>result_test</th>\n",
       "    </tr>\n",
       "  </thead>\n",
       "  <tbody>\n",
       "    <tr>\n",
       "      <td>0</td>\n",
       "      <td>MainScreenAppear</td>\n",
       "      <td>2450</td>\n",
       "      <td>2476</td>\n",
       "      <td>Не получилось отвергнуть нулевую гипотезу, нет...</td>\n",
       "    </tr>\n",
       "    <tr>\n",
       "      <td>1</td>\n",
       "      <td>OffersScreenAppear</td>\n",
       "      <td>1542</td>\n",
       "      <td>1520</td>\n",
       "      <td>Не получилось отвергнуть нулевую гипотезу, нет...</td>\n",
       "    </tr>\n",
       "    <tr>\n",
       "      <td>2</td>\n",
       "      <td>CartScreenAppear</td>\n",
       "      <td>1266</td>\n",
       "      <td>1238</td>\n",
       "      <td>Не получилось отвергнуть нулевую гипотезу, нет...</td>\n",
       "    </tr>\n",
       "    <tr>\n",
       "      <td>3</td>\n",
       "      <td>PaymentScreenSuccessful</td>\n",
       "      <td>1200</td>\n",
       "      <td>1158</td>\n",
       "      <td>Не получилось отвергнуть нулевую гипотезу, нет...</td>\n",
       "    </tr>\n",
       "  </tbody>\n",
       "</table>\n",
       "</div>"
      ],
      "text/plain": [
       "                event_name    A1    A2  \\\n",
       "0         MainScreenAppear  2450  2476   \n",
       "1       OffersScreenAppear  1542  1520   \n",
       "2         CartScreenAppear  1266  1238   \n",
       "3  PaymentScreenSuccessful  1200  1158   \n",
       "\n",
       "                                         result_test  \n",
       "0  Не получилось отвергнуть нулевую гипотезу, нет...  \n",
       "1  Не получилось отвергнуть нулевую гипотезу, нет...  \n",
       "2  Не получилось отвергнуть нулевую гипотезу, нет...  \n",
       "3  Не получилось отвергнуть нулевую гипотезу, нет...  "
      ]
     },
     "execution_count": 40,
     "metadata": {},
     "output_type": "execute_result"
    }
   ],
   "source": [
    "#сохраняем ответ в список answer\n",
    "answer=[]\n",
    "alpha = .05 # критический уровень статистической значимости\n",
    "#создаём цикл по прохождению каждого события\n",
    "for i in range(len(control_test)):\n",
    "    answer.append(function(control_test.loc[i,'A1'], control_test.loc[i,'A2'], A1_total, A2_total, alpha))\n",
    "#сохраняем ответ в колонку 'result_test'    \n",
    "control_test['result_test']=answer    \n",
    "control_test    "
   ]
  },
  {
   "cell_type": "markdown",
   "metadata": {},
   "source": [
    "Ни для одного из событий уровень значимости не упал ниже критического, а значит мы не можем утверждать,что у нас есть такие и более значимые различия между долевыми соотношениями контрольных групп."
   ]
  },
  {
   "cell_type": "markdown",
   "metadata": {},
   "source": [
    "#### 5.3. Статистический анализ группы с изменённым шрифтом 248 с контрольными группами в отдельности по каждому событию <a id=\"analytic_all_group\"></a>"
   ]
  },
  {
   "cell_type": "code",
   "execution_count": 41,
   "metadata": {},
   "outputs": [
    {
     "data": {
      "text/html": [
       "<div>\n",
       "<style scoped>\n",
       "    .dataframe tbody tr th:only-of-type {\n",
       "        vertical-align: middle;\n",
       "    }\n",
       "\n",
       "    .dataframe tbody tr th {\n",
       "        vertical-align: top;\n",
       "    }\n",
       "\n",
       "    .dataframe thead th {\n",
       "        text-align: right;\n",
       "    }\n",
       "</style>\n",
       "<table border=\"1\" class=\"dataframe\">\n",
       "  <thead>\n",
       "    <tr style=\"text-align: right;\">\n",
       "      <th></th>\n",
       "      <th>event_name</th>\n",
       "      <th>A1</th>\n",
       "      <th>A2</th>\n",
       "      <th>B</th>\n",
       "      <th>A</th>\n",
       "    </tr>\n",
       "  </thead>\n",
       "  <tbody>\n",
       "    <tr>\n",
       "      <td>0</td>\n",
       "      <td>MainScreenAppear</td>\n",
       "      <td>2450</td>\n",
       "      <td>2476</td>\n",
       "      <td>2493</td>\n",
       "      <td>4926</td>\n",
       "    </tr>\n",
       "    <tr>\n",
       "      <td>1</td>\n",
       "      <td>OffersScreenAppear</td>\n",
       "      <td>1542</td>\n",
       "      <td>1520</td>\n",
       "      <td>1531</td>\n",
       "      <td>3062</td>\n",
       "    </tr>\n",
       "    <tr>\n",
       "      <td>2</td>\n",
       "      <td>CartScreenAppear</td>\n",
       "      <td>1266</td>\n",
       "      <td>1238</td>\n",
       "      <td>1230</td>\n",
       "      <td>2504</td>\n",
       "    </tr>\n",
       "    <tr>\n",
       "      <td>3</td>\n",
       "      <td>PaymentScreenSuccessful</td>\n",
       "      <td>1200</td>\n",
       "      <td>1158</td>\n",
       "      <td>1181</td>\n",
       "      <td>2358</td>\n",
       "    </tr>\n",
       "  </tbody>\n",
       "</table>\n",
       "</div>"
      ],
      "text/plain": [
       "                event_name    A1    A2     B     A\n",
       "0         MainScreenAppear  2450  2476  2493  4926\n",
       "1       OffersScreenAppear  1542  1520  1531  3062\n",
       "2         CartScreenAppear  1266  1238  1230  2504\n",
       "3  PaymentScreenSuccessful  1200  1158  1181  2358"
      ]
     },
     "execution_count": 41,
     "metadata": {},
     "output_type": "execute_result"
    }
   ],
   "source": [
    "#отбираем группы все и  не берем в счёт Tutorial (ранее мы это уже обсуждали)\n",
    "#создаём сводную таблицу, где  индексы-события,а столбцы- контрольные группы , в которых хранится уникальное число пользователей\n",
    "#сортируем данные сразу в порядке убывания и сохраняем в control_test\n",
    "test=(log_data_right[(~(log_data_right['event_name']=='Tutorial'))]\n",
    "              .pivot_table(index='event_name',\n",
    "                           columns='exp_id', \n",
    "                           values='device_id_hash',\n",
    "                           aggfunc='nunique')\n",
    "              .sort_values(246, ascending=False)\n",
    "             )\n",
    "#затем поделим сзнаения столбцов на общее число всех уникальных пользователей,чтобы рассчитать долевое соотошение\n",
    "A1_total=group.loc[246,'device_id_hash']\n",
    "A2_total=group.loc[247,'device_id_hash']\n",
    "B_total=group.loc[248,'device_id_hash']\n",
    "test.columns=['A1', 'A2', 'B']\n",
    "test=test.reset_index()\n",
    "test['A']=test['A1']+test['A2']\n",
    "test"
   ]
  },
  {
   "cell_type": "markdown",
   "metadata": {},
   "source": [
    "Так как сравнения будут идти среди нескольких групп одной совокупности:  A1 и B, A2 и B, A и B- и так как таких групп всего 3, то следуя поправке Бонферрони, делим критический уровень значимость на 3.  "
   ]
  },
  {
   "cell_type": "markdown",
   "metadata": {},
   "source": [
    "H0-долевые отношения между котрольнымы группами и группой, у который шрифт изменили, не отличаются, H1- есть различия долевых отношений между контрольными группами и группой, у который шрифт изменили."
   ]
  },
  {
   "cell_type": "code",
   "execution_count": 42,
   "metadata": {},
   "outputs": [
    {
     "name": "stdout",
     "output_type": "stream",
     "text": [
      "p-значение:  0.29\n",
      "p-значение:  0.46\n",
      "p-значение:  0.29\n",
      "p-значение:  0.21\n",
      "p-значение:  0.92\n",
      "p-значение:  0.43\n",
      "p-значение:  0.08\n",
      "p-значение:  0.58\n",
      "p-значение:  0.18\n",
      "p-значение:  0.21\n",
      "p-значение:  0.74\n",
      "p-значение:  0.6\n"
     ]
    },
    {
     "data": {
      "text/html": [
       "<div>\n",
       "<style scoped>\n",
       "    .dataframe tbody tr th:only-of-type {\n",
       "        vertical-align: middle;\n",
       "    }\n",
       "\n",
       "    .dataframe tbody tr th {\n",
       "        vertical-align: top;\n",
       "    }\n",
       "\n",
       "    .dataframe thead th {\n",
       "        text-align: right;\n",
       "    }\n",
       "</style>\n",
       "<table border=\"1\" class=\"dataframe\">\n",
       "  <thead>\n",
       "    <tr style=\"text-align: right;\">\n",
       "      <th></th>\n",
       "      <th>event_name</th>\n",
       "      <th>A1</th>\n",
       "      <th>A2</th>\n",
       "      <th>B</th>\n",
       "      <th>A</th>\n",
       "      <th>result_test_A1_B</th>\n",
       "      <th>result_test_A2_B</th>\n",
       "      <th>result_test_A_B</th>\n",
       "    </tr>\n",
       "  </thead>\n",
       "  <tbody>\n",
       "    <tr>\n",
       "      <td>0</td>\n",
       "      <td>MainScreenAppear</td>\n",
       "      <td>2450</td>\n",
       "      <td>2476</td>\n",
       "      <td>2493</td>\n",
       "      <td>4926</td>\n",
       "      <td>Не получилось отвергнуть нулевую гипотезу, нет...</td>\n",
       "      <td>Не получилось отвергнуть нулевую гипотезу, нет...</td>\n",
       "      <td>Не получилось отвергнуть нулевую гипотезу, нет...</td>\n",
       "    </tr>\n",
       "    <tr>\n",
       "      <td>1</td>\n",
       "      <td>OffersScreenAppear</td>\n",
       "      <td>1542</td>\n",
       "      <td>1520</td>\n",
       "      <td>1531</td>\n",
       "      <td>3062</td>\n",
       "      <td>Не получилось отвергнуть нулевую гипотезу, нет...</td>\n",
       "      <td>Не получилось отвергнуть нулевую гипотезу, нет...</td>\n",
       "      <td>Не получилось отвергнуть нулевую гипотезу, нет...</td>\n",
       "    </tr>\n",
       "    <tr>\n",
       "      <td>2</td>\n",
       "      <td>CartScreenAppear</td>\n",
       "      <td>1266</td>\n",
       "      <td>1238</td>\n",
       "      <td>1230</td>\n",
       "      <td>2504</td>\n",
       "      <td>Не получилось отвергнуть нулевую гипотезу, нет...</td>\n",
       "      <td>Не получилось отвергнуть нулевую гипотезу, нет...</td>\n",
       "      <td>Не получилось отвергнуть нулевую гипотезу, нет...</td>\n",
       "    </tr>\n",
       "    <tr>\n",
       "      <td>3</td>\n",
       "      <td>PaymentScreenSuccessful</td>\n",
       "      <td>1200</td>\n",
       "      <td>1158</td>\n",
       "      <td>1181</td>\n",
       "      <td>2358</td>\n",
       "      <td>Не получилось отвергнуть нулевую гипотезу, нет...</td>\n",
       "      <td>Не получилось отвергнуть нулевую гипотезу, нет...</td>\n",
       "      <td>Не получилось отвергнуть нулевую гипотезу, нет...</td>\n",
       "    </tr>\n",
       "  </tbody>\n",
       "</table>\n",
       "</div>"
      ],
      "text/plain": [
       "                event_name    A1    A2     B     A  \\\n",
       "0         MainScreenAppear  2450  2476  2493  4926   \n",
       "1       OffersScreenAppear  1542  1520  1531  3062   \n",
       "2         CartScreenAppear  1266  1238  1230  2504   \n",
       "3  PaymentScreenSuccessful  1200  1158  1181  2358   \n",
       "\n",
       "                                    result_test_A1_B  \\\n",
       "0  Не получилось отвергнуть нулевую гипотезу, нет...   \n",
       "1  Не получилось отвергнуть нулевую гипотезу, нет...   \n",
       "2  Не получилось отвергнуть нулевую гипотезу, нет...   \n",
       "3  Не получилось отвергнуть нулевую гипотезу, нет...   \n",
       "\n",
       "                                    result_test_A2_B  \\\n",
       "0  Не получилось отвергнуть нулевую гипотезу, нет...   \n",
       "1  Не получилось отвергнуть нулевую гипотезу, нет...   \n",
       "2  Не получилось отвергнуть нулевую гипотезу, нет...   \n",
       "3  Не получилось отвергнуть нулевую гипотезу, нет...   \n",
       "\n",
       "                                     result_test_A_B  \n",
       "0  Не получилось отвергнуть нулевую гипотезу, нет...  \n",
       "1  Не получилось отвергнуть нулевую гипотезу, нет...  \n",
       "2  Не получилось отвергнуть нулевую гипотезу, нет...  \n",
       "3  Не получилось отвергнуть нулевую гипотезу, нет...  "
      ]
     },
     "execution_count": 42,
     "metadata": {},
     "output_type": "execute_result"
    }
   ],
   "source": [
    "alpha_ben = alpha/3 # критический уровень статистической значимости\n",
    "#сохраняем ответ в список answer\n",
    "A1_B=[]\n",
    "A2_B=[]\n",
    "A_B=[]\n",
    "#создаём цикл по прохождению каждого события\n",
    "for i in range(len(test)):\n",
    "    A1_B.append(function(test.loc[i,'A1'],test.loc[i,'B'], A1_total, B_total, alpha_ben))\n",
    "    A2_B.append(function(test.loc[i,'A2'], test.loc[i,'B'], A2_total, B_total, alpha_ben))\n",
    "    A_B.append(function(test.loc[i,'A'], test.loc[i,'B'], A1_total+A2_total, B_total, alpha_ben))\n",
    "#сохраняем ответ в колонку 'result_test'    \n",
    "test['result_test_A1_B']=A1_B    \n",
    "test['result_test_A2_B']=A2_B  \n",
    "test['result_test_A_B']=A_B  \n",
    "test   "
   ]
  },
  {
   "cell_type": "markdown",
   "metadata": {},
   "source": [
    "#### Вывод\n",
    "\n",
    "Как видно, ни один уровень значемости не стал меньше критического уровня значимости(ошибки первого рода), поэтому отвергнуть нулевую гипотезу нельзя, то есть шрифт никак не влияет на пользовательские метрики.  "
   ]
  },
  {
   "cell_type": "markdown",
   "metadata": {},
   "source": [
    "## Общий вывод <a id=\"conclusion\"></a>"
   ]
  },
  {
   "cell_type": "markdown",
   "metadata": {},
   "source": [
    "В результате анализа было выяснено,что больше всего теряется пользователей на этапе перехода с главной страницы к странице с предложениями(38%). Техникам сотит проверить качество работы кода перехода на страницы, а маркетологам стоит провести дополнительное интервью пользователей по работе с интерфейсом, возможно , проблема связана с неудоством работы или не привлекательным внешним видом.\n",
    "\n",
    "Анализ A/A/B-теста показал,что изменение шрифта не показало значимых различий от контрольных групп. Часто изменение шрифта не увеличивается пользовательский спрос. Изменить цвет или размер надписи может повлиять на конечный результат, но для этого нужно провести дополнительный тест."
   ]
  }
 ],
 "metadata": {
  "kernelspec": {
   "display_name": "Python 3",
   "language": "python",
   "name": "python3"
  },
  "language_info": {
   "codemirror_mode": {
    "name": "ipython",
    "version": 3
   },
   "file_extension": ".py",
   "mimetype": "text/x-python",
   "name": "python",
   "nbconvert_exporter": "python",
   "pygments_lexer": "ipython3",
   "version": "3.8.3"
  },
  "toc": {
   "base_numbering": 1,
   "nav_menu": {},
   "number_sections": true,
   "sideBar": true,
   "skip_h1_title": true,
   "title_cell": "Table of Contents",
   "title_sidebar": "Contents",
   "toc_cell": false,
   "toc_position": {},
   "toc_section_display": true,
   "toc_window_display": false
  }
 },
 "nbformat": 4,
 "nbformat_minor": 2
}
