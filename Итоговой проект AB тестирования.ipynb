{
 "cells": [
  {
   "cell_type": "markdown",
   "metadata": {},
   "source": [
    "# Recommender_system_test "
   ]
  },
  {
   "cell_type": "markdown",
   "metadata": {},
   "source": [
    "В международном интернет-магазине с 2020-12-07 по 2021-01-04 (до 2020-12-21 шёл набор новых пользователей) был проведён А/B-тест. \n",
    "\n",
    "**Цель теста** - выяснить, повысятся ли пользовательские метрики из-за внедрения улучшенной рекомендательной системы."
   ]
  },
  {
   "cell_type": "markdown",
   "metadata": {},
   "source": [
    "### Техническое задание\n",
    "\n",
    "- группы: А — контрольная, B — новая платёжная воронка;\n",
    "- аудитория: 15% новых пользователей из региона EU;\n",
    "- ожидаемое количество участников теста: 6000.\n",
    "- ожидаемый эффект: за 14 дней с момента регистрации пользователи покажут улучшение каждой метрики не менее, чем на 10%:\n",
    "    - конверсии в просмотр карточек товаров — событие `product_page`,\n",
    "    - просмотры корзины — `product_cart`,\n",
    "    - покупки — `purchase`."
   ]
  },
  {
   "cell_type": "markdown",
   "metadata": {},
   "source": [
    "### Описание данных\n",
    "\n",
    "**`ab_project_marketing_events.csv`** — календарь маркетинговых событий на 2020 год.\n",
    "\n",
    "Структура файла:\n",
    "\n",
    "- `name` — название маркетингового события;\n",
    "- `regions` — регионы, в которых будет проводиться рекламная кампания;\n",
    "- `start_dt` — дата начала кампании;\n",
    "- `finish_dt` — дата завершения кампании.\n",
    "\n",
    "**`final_ab_new_users.csv`** — пользователи, зарегистрировавшиеся с 7 по 21 декабря 2020 года.\n",
    "\n",
    "Структура файла:\n",
    "\n",
    "- `user_id` — идентификатор пользователя;\n",
    "- `first_date` — дата регистрации;\n",
    "- `region` — регион пользователя;\n",
    "- `device` — устройство, с которого происходила регистрация.\n",
    "\n",
    "**`final_ab_events.csv`** — действия новых пользователей в период с 7 декабря 2020 по 4 января 2021 года.\n",
    "\n",
    "Структура файла:\n",
    "\n",
    "- `user_id` — идентификатор пользователя;\n",
    "- `event_dt` — дата и время покупки;\n",
    "- `event_name` — тип события;\n",
    "- `details` — дополнительные данные о событии. Например, для покупок, `purchase,` в этом поле хранится стоимость покупки в долларах.\n",
    "\n",
    "**`final_ab_participants.csv`** — таблица участников тестов.\n",
    "\n",
    "Структура файла:\n",
    "\n",
    "- `user_id` — идентификатор пользователя;\n",
    "- `ab_test` — название теста;\n",
    "- `group` — группа пользователя."
   ]
  },
  {
   "cell_type": "markdown",
   "metadata": {},
   "source": [
    "## Содержание"
   ]
  },
  {
   "cell_type": "markdown",
   "metadata": {},
   "source": [
    "[Библиотеки](#library)\n",
    "\n",
    "1. [Общая информация](#information)\n",
    "\n",
    "\n",
    "2. [Предобработка данных](#preparation)\n",
    "     - [Исследование соответсвия типов данных](#type);\n",
    "     - [Объединение таблиц](#tables);\n",
    "     - [Проверка данных на дубликаты](#dup). \n",
    "    \n",
    "    \n",
    "3. [Исследовательский анализ данных групп](#analytic)\n",
    "    - [Проверка выборок на пересечение пользователей](#maping);\n",
    "    - [Изучение событий (рассчёт частоты и распределение событий по дням)](#overview_events);\n",
    "    - [Определение числа событий, приходящихся на одного пользователя](#events_users).\n",
    "    \n",
    "    \n",
    "4. [Работа с продуктовой воронкой](#work_with_funnel)    \n",
    "    - [Работа с пользователями, которые совершают события](#work_with_users);\n",
    "    - [Порядк событий](#order_of_events);\n",
    "    - [Анализ воронки (конверсия переходов)](#analytic_funnel). \n",
    "    \n",
    "    \n",
    "5. [Оценка результатов A/B-тестирования](#analytic_test)\n",
    "    - [Результаты A/B-тестирования](#results)\n",
    "    - [Статистический анализ (нахождение разницы долей z-критерием)](#statistic_analytic). \n",
    "    \n",
    "[Общий вывод](#conclusion)"
   ]
  },
  {
   "cell_type": "markdown",
   "metadata": {},
   "source": [
    "## Библиотеки <a id=\"library\"></a>"
   ]
  },
  {
   "cell_type": "code",
   "execution_count": 1,
   "metadata": {},
   "outputs": [],
   "source": [
    "#для работы с данными импортируем библиотеку pandas\n",
    "import pandas as pd\n",
    "#для работы с временем импортируем библиотеку datetime\n",
    "import datetime as dt\n",
    "#для построения графиков будем работать с matplotlib.pyplot\n",
    "import matplotlib.pyplot as plt\n",
    "#для построения более сложных и визуально красивее графиков добавим библиотеку seaborn\n",
    "import seaborn as sns\n",
    "#импортируем набор методов graph_objects для построения воронки\n",
    "from plotly import graph_objects as go\n",
    "#для работы с нормальным распределение и с z-тестом используем библиотеку stats \n",
    "from scipy import stats as st\n",
    "#для применения математических операций(корень)\n",
    "import math as mth"
   ]
  },
  {
   "cell_type": "markdown",
   "metadata": {},
   "source": [
    "## 1. Общая информация <a id=\"information\"></a>"
   ]
  },
  {
   "cell_type": "code",
   "execution_count": 2,
   "metadata": {},
   "outputs": [
    {
     "name": "stdout",
     "output_type": "stream",
     "text": [
      "<class 'pandas.core.frame.DataFrame'>\n",
      "RangeIndex: 14 entries, 0 to 13\n",
      "Data columns (total 4 columns):\n",
      "name         14 non-null object\n",
      "regions      14 non-null object\n",
      "start_dt     14 non-null object\n",
      "finish_dt    14 non-null object\n",
      "dtypes: object(4)\n",
      "memory usage: 576.0+ bytes\n",
      "Количество пропущенных значений:\n",
      "name         0\n",
      "regions      0\n",
      "start_dt     0\n",
      "finish_dt    0\n",
      "dtype: int64\n"
     ]
    }
   ],
   "source": [
    "#для прочтения файлов используем метод read_csv()\n",
    "ab_project_marketing_events=pd.read_csv('/datasets/ab_project_marketing_events.csv')\n",
    "#Для поверхностного анализа применяем метод info()\n",
    "ab_project_marketing_events.info()\n",
    "#Пропушенные значения ищем методом isna().sum()\n",
    "print('Количество пропущенных значений:', ab_project_marketing_events.isna().sum(), sep='\\n')"
   ]
  },
  {
   "cell_type": "code",
   "execution_count": 3,
   "metadata": {},
   "outputs": [
    {
     "data": {
      "text/html": [
       "<div>\n",
       "<style scoped>\n",
       "    .dataframe tbody tr th:only-of-type {\n",
       "        vertical-align: middle;\n",
       "    }\n",
       "\n",
       "    .dataframe tbody tr th {\n",
       "        vertical-align: top;\n",
       "    }\n",
       "\n",
       "    .dataframe thead th {\n",
       "        text-align: right;\n",
       "    }\n",
       "</style>\n",
       "<table border=\"1\" class=\"dataframe\">\n",
       "  <thead>\n",
       "    <tr style=\"text-align: right;\">\n",
       "      <th></th>\n",
       "      <th>name</th>\n",
       "      <th>regions</th>\n",
       "      <th>start_dt</th>\n",
       "      <th>finish_dt</th>\n",
       "    </tr>\n",
       "  </thead>\n",
       "  <tbody>\n",
       "    <tr>\n",
       "      <td>0</td>\n",
       "      <td>Christmas&amp;New Year Promo</td>\n",
       "      <td>EU, N.America</td>\n",
       "      <td>2020-12-25</td>\n",
       "      <td>2021-01-03</td>\n",
       "    </tr>\n",
       "    <tr>\n",
       "      <td>1</td>\n",
       "      <td>St. Valentine's Day Giveaway</td>\n",
       "      <td>EU, CIS, APAC, N.America</td>\n",
       "      <td>2020-02-14</td>\n",
       "      <td>2020-02-16</td>\n",
       "    </tr>\n",
       "    <tr>\n",
       "      <td>2</td>\n",
       "      <td>St. Patric's Day Promo</td>\n",
       "      <td>EU, N.America</td>\n",
       "      <td>2020-03-17</td>\n",
       "      <td>2020-03-19</td>\n",
       "    </tr>\n",
       "    <tr>\n",
       "      <td>3</td>\n",
       "      <td>Easter Promo</td>\n",
       "      <td>EU, CIS, APAC, N.America</td>\n",
       "      <td>2020-04-12</td>\n",
       "      <td>2020-04-19</td>\n",
       "    </tr>\n",
       "    <tr>\n",
       "      <td>4</td>\n",
       "      <td>4th of July Promo</td>\n",
       "      <td>N.America</td>\n",
       "      <td>2020-07-04</td>\n",
       "      <td>2020-07-11</td>\n",
       "    </tr>\n",
       "  </tbody>\n",
       "</table>\n",
       "</div>"
      ],
      "text/plain": [
       "                           name                   regions    start_dt  \\\n",
       "0      Christmas&New Year Promo             EU, N.America  2020-12-25   \n",
       "1  St. Valentine's Day Giveaway  EU, CIS, APAC, N.America  2020-02-14   \n",
       "2        St. Patric's Day Promo             EU, N.America  2020-03-17   \n",
       "3                  Easter Promo  EU, CIS, APAC, N.America  2020-04-12   \n",
       "4             4th of July Promo                 N.America  2020-07-04   \n",
       "\n",
       "    finish_dt  \n",
       "0  2021-01-03  \n",
       "1  2020-02-16  \n",
       "2  2020-03-19  \n",
       "3  2020-04-19  \n",
       "4  2020-07-11  "
      ]
     },
     "execution_count": 3,
     "metadata": {},
     "output_type": "execute_result"
    }
   ],
   "source": [
    "#просматриваем данные методом head()\n",
    "ab_project_marketing_events.head()"
   ]
  },
  {
   "cell_type": "code",
   "execution_count": 4,
   "metadata": {},
   "outputs": [
    {
     "name": "stdout",
     "output_type": "stream",
     "text": [
      "<class 'pandas.core.frame.DataFrame'>\n",
      "RangeIndex: 61733 entries, 0 to 61732\n",
      "Data columns (total 4 columns):\n",
      "user_id       61733 non-null object\n",
      "first_date    61733 non-null object\n",
      "region        61733 non-null object\n",
      "device        61733 non-null object\n",
      "dtypes: object(4)\n",
      "memory usage: 1.9+ MB\n",
      "Количество пропущенных значений:\n",
      "user_id       0\n",
      "first_date    0\n",
      "region        0\n",
      "device        0\n",
      "dtype: int64\n"
     ]
    }
   ],
   "source": [
    "#для прочтения файлов используем метод read_csv()\n",
    "final_ab_new_users=pd.read_csv('/datasets/final_ab_new_users.csv')\n",
    "#Для поверхностного анализа применяем метод info()\n",
    "final_ab_new_users.info()\n",
    "#Пропушенные значения ищем методом isna().sum()\n",
    "print('Количество пропущенных значений:', final_ab_new_users.isna().sum(), sep='\\n')"
   ]
  },
  {
   "cell_type": "code",
   "execution_count": 5,
   "metadata": {},
   "outputs": [
    {
     "data": {
      "text/html": [
       "<div>\n",
       "<style scoped>\n",
       "    .dataframe tbody tr th:only-of-type {\n",
       "        vertical-align: middle;\n",
       "    }\n",
       "\n",
       "    .dataframe tbody tr th {\n",
       "        vertical-align: top;\n",
       "    }\n",
       "\n",
       "    .dataframe thead th {\n",
       "        text-align: right;\n",
       "    }\n",
       "</style>\n",
       "<table border=\"1\" class=\"dataframe\">\n",
       "  <thead>\n",
       "    <tr style=\"text-align: right;\">\n",
       "      <th></th>\n",
       "      <th>user_id</th>\n",
       "      <th>first_date</th>\n",
       "      <th>region</th>\n",
       "      <th>device</th>\n",
       "    </tr>\n",
       "  </thead>\n",
       "  <tbody>\n",
       "    <tr>\n",
       "      <td>0</td>\n",
       "      <td>D72A72121175D8BE</td>\n",
       "      <td>2020-12-07</td>\n",
       "      <td>EU</td>\n",
       "      <td>PC</td>\n",
       "    </tr>\n",
       "    <tr>\n",
       "      <td>1</td>\n",
       "      <td>F1C668619DFE6E65</td>\n",
       "      <td>2020-12-07</td>\n",
       "      <td>N.America</td>\n",
       "      <td>Android</td>\n",
       "    </tr>\n",
       "    <tr>\n",
       "      <td>2</td>\n",
       "      <td>2E1BF1D4C37EA01F</td>\n",
       "      <td>2020-12-07</td>\n",
       "      <td>EU</td>\n",
       "      <td>PC</td>\n",
       "    </tr>\n",
       "    <tr>\n",
       "      <td>3</td>\n",
       "      <td>50734A22C0C63768</td>\n",
       "      <td>2020-12-07</td>\n",
       "      <td>EU</td>\n",
       "      <td>iPhone</td>\n",
       "    </tr>\n",
       "    <tr>\n",
       "      <td>4</td>\n",
       "      <td>E1BDDCE0DAFA2679</td>\n",
       "      <td>2020-12-07</td>\n",
       "      <td>N.America</td>\n",
       "      <td>iPhone</td>\n",
       "    </tr>\n",
       "  </tbody>\n",
       "</table>\n",
       "</div>"
      ],
      "text/plain": [
       "            user_id  first_date     region   device\n",
       "0  D72A72121175D8BE  2020-12-07         EU       PC\n",
       "1  F1C668619DFE6E65  2020-12-07  N.America  Android\n",
       "2  2E1BF1D4C37EA01F  2020-12-07         EU       PC\n",
       "3  50734A22C0C63768  2020-12-07         EU   iPhone\n",
       "4  E1BDDCE0DAFA2679  2020-12-07  N.America   iPhone"
      ]
     },
     "execution_count": 5,
     "metadata": {},
     "output_type": "execute_result"
    }
   ],
   "source": [
    "#просматриваем данные методом head()\n",
    "final_ab_new_users.head()"
   ]
  },
  {
   "cell_type": "code",
   "execution_count": 6,
   "metadata": {},
   "outputs": [
    {
     "name": "stdout",
     "output_type": "stream",
     "text": [
      "<class 'pandas.core.frame.DataFrame'>\n",
      "RangeIndex: 440317 entries, 0 to 440316\n",
      "Data columns (total 4 columns):\n",
      "user_id       440317 non-null object\n",
      "event_dt      440317 non-null object\n",
      "event_name    440317 non-null object\n",
      "details       62740 non-null float64\n",
      "dtypes: float64(1), object(3)\n",
      "memory usage: 13.4+ MB\n",
      "Количество пропущенных значений:\n",
      "user_id            0\n",
      "event_dt           0\n",
      "event_name         0\n",
      "details       377577\n",
      "dtype: int64\n"
     ]
    }
   ],
   "source": [
    "#для прочтения файлов используем метод read_csv()\n",
    "final_ab_events=pd.read_csv('/datasets/final_ab_events.csv')\n",
    "#Для поверхностного анализа применяем метод info()\n",
    "final_ab_events.info()\n",
    "#Пропушенные значения ищем методом isna().sum()\n",
    "print('Количество пропущенных значений:', final_ab_events.isna().sum(), sep='\\n')"
   ]
  },
  {
   "cell_type": "code",
   "execution_count": 7,
   "metadata": {},
   "outputs": [
    {
     "data": {
      "text/html": [
       "<div>\n",
       "<style scoped>\n",
       "    .dataframe tbody tr th:only-of-type {\n",
       "        vertical-align: middle;\n",
       "    }\n",
       "\n",
       "    .dataframe tbody tr th {\n",
       "        vertical-align: top;\n",
       "    }\n",
       "\n",
       "    .dataframe thead th {\n",
       "        text-align: right;\n",
       "    }\n",
       "</style>\n",
       "<table border=\"1\" class=\"dataframe\">\n",
       "  <thead>\n",
       "    <tr style=\"text-align: right;\">\n",
       "      <th></th>\n",
       "      <th>user_id</th>\n",
       "      <th>event_dt</th>\n",
       "      <th>event_name</th>\n",
       "      <th>details</th>\n",
       "    </tr>\n",
       "  </thead>\n",
       "  <tbody>\n",
       "    <tr>\n",
       "      <td>0</td>\n",
       "      <td>E1BDDCE0DAFA2679</td>\n",
       "      <td>2020-12-07 20:22:03</td>\n",
       "      <td>purchase</td>\n",
       "      <td>99.99</td>\n",
       "    </tr>\n",
       "    <tr>\n",
       "      <td>1</td>\n",
       "      <td>7B6452F081F49504</td>\n",
       "      <td>2020-12-07 09:22:53</td>\n",
       "      <td>purchase</td>\n",
       "      <td>9.99</td>\n",
       "    </tr>\n",
       "    <tr>\n",
       "      <td>2</td>\n",
       "      <td>9CD9F34546DF254C</td>\n",
       "      <td>2020-12-07 12:59:29</td>\n",
       "      <td>purchase</td>\n",
       "      <td>4.99</td>\n",
       "    </tr>\n",
       "    <tr>\n",
       "      <td>3</td>\n",
       "      <td>96F27A054B191457</td>\n",
       "      <td>2020-12-07 04:02:40</td>\n",
       "      <td>purchase</td>\n",
       "      <td>4.99</td>\n",
       "    </tr>\n",
       "    <tr>\n",
       "      <td>4</td>\n",
       "      <td>1FD7660FDF94CA1F</td>\n",
       "      <td>2020-12-07 10:15:09</td>\n",
       "      <td>purchase</td>\n",
       "      <td>4.99</td>\n",
       "    </tr>\n",
       "  </tbody>\n",
       "</table>\n",
       "</div>"
      ],
      "text/plain": [
       "            user_id             event_dt event_name  details\n",
       "0  E1BDDCE0DAFA2679  2020-12-07 20:22:03   purchase    99.99\n",
       "1  7B6452F081F49504  2020-12-07 09:22:53   purchase     9.99\n",
       "2  9CD9F34546DF254C  2020-12-07 12:59:29   purchase     4.99\n",
       "3  96F27A054B191457  2020-12-07 04:02:40   purchase     4.99\n",
       "4  1FD7660FDF94CA1F  2020-12-07 10:15:09   purchase     4.99"
      ]
     },
     "execution_count": 7,
     "metadata": {},
     "output_type": "execute_result"
    }
   ],
   "source": [
    "#просматриваем данные методом head()\n",
    "final_ab_events.head()"
   ]
  },
  {
   "cell_type": "code",
   "execution_count": 8,
   "metadata": {},
   "outputs": [
    {
     "name": "stdout",
     "output_type": "stream",
     "text": [
      "<class 'pandas.core.frame.DataFrame'>\n",
      "RangeIndex: 18268 entries, 0 to 18267\n",
      "Data columns (total 3 columns):\n",
      "user_id    18268 non-null object\n",
      "group      18268 non-null object\n",
      "ab_test    18268 non-null object\n",
      "dtypes: object(3)\n",
      "memory usage: 428.3+ KB\n",
      "Количество пропущенных значений:\n",
      "user_id    0\n",
      "group      0\n",
      "ab_test    0\n",
      "dtype: int64\n"
     ]
    }
   ],
   "source": [
    "#для прочтения файлов используем метод read_csv()\n",
    "final_ab_participants=pd.read_csv('/datasets/final_ab_participants.csv')\n",
    "#Для поверхностного анализа применяем метод info()\n",
    "final_ab_participants.info()\n",
    "#Пропушенные значения ищем методом isna().sum()\n",
    "print('Количество пропущенных значений:', final_ab_participants.isna().sum(), sep='\\n')"
   ]
  },
  {
   "cell_type": "code",
   "execution_count": 9,
   "metadata": {},
   "outputs": [
    {
     "data": {
      "text/html": [
       "<div>\n",
       "<style scoped>\n",
       "    .dataframe tbody tr th:only-of-type {\n",
       "        vertical-align: middle;\n",
       "    }\n",
       "\n",
       "    .dataframe tbody tr th {\n",
       "        vertical-align: top;\n",
       "    }\n",
       "\n",
       "    .dataframe thead th {\n",
       "        text-align: right;\n",
       "    }\n",
       "</style>\n",
       "<table border=\"1\" class=\"dataframe\">\n",
       "  <thead>\n",
       "    <tr style=\"text-align: right;\">\n",
       "      <th></th>\n",
       "      <th>user_id</th>\n",
       "      <th>group</th>\n",
       "      <th>ab_test</th>\n",
       "    </tr>\n",
       "  </thead>\n",
       "  <tbody>\n",
       "    <tr>\n",
       "      <td>0</td>\n",
       "      <td>D1ABA3E2887B6A73</td>\n",
       "      <td>A</td>\n",
       "      <td>recommender_system_test</td>\n",
       "    </tr>\n",
       "    <tr>\n",
       "      <td>1</td>\n",
       "      <td>A7A3664BD6242119</td>\n",
       "      <td>A</td>\n",
       "      <td>recommender_system_test</td>\n",
       "    </tr>\n",
       "    <tr>\n",
       "      <td>2</td>\n",
       "      <td>DABC14FDDFADD29E</td>\n",
       "      <td>A</td>\n",
       "      <td>recommender_system_test</td>\n",
       "    </tr>\n",
       "    <tr>\n",
       "      <td>3</td>\n",
       "      <td>04988C5DF189632E</td>\n",
       "      <td>A</td>\n",
       "      <td>recommender_system_test</td>\n",
       "    </tr>\n",
       "    <tr>\n",
       "      <td>4</td>\n",
       "      <td>482F14783456D21B</td>\n",
       "      <td>B</td>\n",
       "      <td>recommender_system_test</td>\n",
       "    </tr>\n",
       "  </tbody>\n",
       "</table>\n",
       "</div>"
      ],
      "text/plain": [
       "            user_id group                  ab_test\n",
       "0  D1ABA3E2887B6A73     A  recommender_system_test\n",
       "1  A7A3664BD6242119     A  recommender_system_test\n",
       "2  DABC14FDDFADD29E     A  recommender_system_test\n",
       "3  04988C5DF189632E     A  recommender_system_test\n",
       "4  482F14783456D21B     B  recommender_system_test"
      ]
     },
     "execution_count": 9,
     "metadata": {},
     "output_type": "execute_result"
    }
   ],
   "source": [
    "#просматриваем данные методом head()\n",
    "final_ab_participants.head()"
   ]
  },
  {
   "cell_type": "markdown",
   "metadata": {},
   "source": [
    "### Вывод"
   ]
  },
  {
   "cell_type": "markdown",
   "metadata": {},
   "source": [
    "Все столбцы в таблицах, связанные с датами и врменем, имеют неверный тип данных, такие столбцы нужно привести к типу datetime[64ns]. Также в таблице final_ab_events в колонке details пропущенны комментарии в случае 377577/440317~86% данных, однако это всего лишь дополнительные данные о событии, которые не нужны для подтверждения/опроворжения гипотезы, поэтому уделять внимание для заполнения данной колонки мы не будем."
   ]
  },
  {
   "cell_type": "markdown",
   "metadata": {},
   "source": [
    "## 2. Предобработка данных <a id=\"preparation\"></a>"
   ]
  },
  {
   "cell_type": "markdown",
   "metadata": {},
   "source": [
    "### Исследование соответствия типов данных <a id=\"type\"></a>"
   ]
  },
  {
   "cell_type": "markdown",
   "metadata": {},
   "source": [
    "В таблице ab_project_marketing_events нужно привести 'start_dt' и 'finish_dt' к типу datetime[64ns], также к этом же типу данных нужно привести 'first_date' в final_ab_new_users и 'event_dt' в final_ab_events.  Для этого применяем метод pd.to_datetime(datetime, format='')."
   ]
  },
  {
   "cell_type": "code",
   "execution_count": 10,
   "metadata": {},
   "outputs": [],
   "source": [
    "ab_project_marketing_events['start_dt']=pd.to_datetime(ab_project_marketing_events['start_dt'],format='%Y-%m-%d')\n",
    "ab_project_marketing_events['finish_dt']=pd.to_datetime(ab_project_marketing_events['finish_dt'],format='%Y-%m-%d')\n",
    "final_ab_new_users['first_date']=pd.to_datetime(final_ab_new_users['first_date'],format='%Y-%m-%d')\n",
    "final_ab_events['event_dt']=pd.to_datetime(final_ab_events['event_dt'],format='%Y-%m-%d %H:%M:%S')"
   ]
  },
  {
   "cell_type": "markdown",
   "metadata": {},
   "source": [
    "### Объединение таблиц <a id=\"tables\"></a>"
   ]
  },
  {
   "cell_type": "markdown",
   "metadata": {},
   "source": [
    "Так как для анализа нам не обходимы лишь некоторые столбцы из определенных таблиц, то объединим данные в единную базу.\n",
    "\n"
   ]
  },
  {
   "cell_type": "markdown",
   "metadata": {},
   "source": [
    "- Работа с таблицей final_ab_participants"
   ]
  },
  {
   "cell_type": "code",
   "execution_count": 11,
   "metadata": {},
   "outputs": [
    {
     "data": {
      "text/html": [
       "<div>\n",
       "<style scoped>\n",
       "    .dataframe tbody tr th:only-of-type {\n",
       "        vertical-align: middle;\n",
       "    }\n",
       "\n",
       "    .dataframe tbody tr th {\n",
       "        vertical-align: top;\n",
       "    }\n",
       "\n",
       "    .dataframe thead th {\n",
       "        text-align: right;\n",
       "    }\n",
       "</style>\n",
       "<table border=\"1\" class=\"dataframe\">\n",
       "  <thead>\n",
       "    <tr style=\"text-align: right;\">\n",
       "      <th></th>\n",
       "      <th>user_id</th>\n",
       "      <th>group</th>\n",
       "      <th>ab_test</th>\n",
       "    </tr>\n",
       "  </thead>\n",
       "  <tbody>\n",
       "    <tr>\n",
       "      <td>6701</td>\n",
       "      <td>D4E530F6595A05A3</td>\n",
       "      <td>A</td>\n",
       "      <td>interface_eu_test</td>\n",
       "    </tr>\n",
       "    <tr>\n",
       "      <td>6702</td>\n",
       "      <td>773ECB64E45DEBAB</td>\n",
       "      <td>A</td>\n",
       "      <td>interface_eu_test</td>\n",
       "    </tr>\n",
       "    <tr>\n",
       "      <td>6703</td>\n",
       "      <td>6BCB0F33D3BAB8C2</td>\n",
       "      <td>A</td>\n",
       "      <td>interface_eu_test</td>\n",
       "    </tr>\n",
       "    <tr>\n",
       "      <td>6704</td>\n",
       "      <td>AABA4219186465C9</td>\n",
       "      <td>A</td>\n",
       "      <td>interface_eu_test</td>\n",
       "    </tr>\n",
       "    <tr>\n",
       "      <td>6705</td>\n",
       "      <td>2BA8FA8754D1FE50</td>\n",
       "      <td>B</td>\n",
       "      <td>interface_eu_test</td>\n",
       "    </tr>\n",
       "    <tr>\n",
       "      <td>...</td>\n",
       "      <td>...</td>\n",
       "      <td>...</td>\n",
       "      <td>...</td>\n",
       "    </tr>\n",
       "    <tr>\n",
       "      <td>18263</td>\n",
       "      <td>1D302F8688B91781</td>\n",
       "      <td>B</td>\n",
       "      <td>interface_eu_test</td>\n",
       "    </tr>\n",
       "    <tr>\n",
       "      <td>18264</td>\n",
       "      <td>3DE51B726983B657</td>\n",
       "      <td>A</td>\n",
       "      <td>interface_eu_test</td>\n",
       "    </tr>\n",
       "    <tr>\n",
       "      <td>18265</td>\n",
       "      <td>F501F79D332BE86C</td>\n",
       "      <td>A</td>\n",
       "      <td>interface_eu_test</td>\n",
       "    </tr>\n",
       "    <tr>\n",
       "      <td>18266</td>\n",
       "      <td>63FBE257B05F2245</td>\n",
       "      <td>A</td>\n",
       "      <td>interface_eu_test</td>\n",
       "    </tr>\n",
       "    <tr>\n",
       "      <td>18267</td>\n",
       "      <td>79F9ABFB029CF724</td>\n",
       "      <td>B</td>\n",
       "      <td>interface_eu_test</td>\n",
       "    </tr>\n",
       "  </tbody>\n",
       "</table>\n",
       "<p>11567 rows × 3 columns</p>\n",
       "</div>"
      ],
      "text/plain": [
       "                user_id group            ab_test\n",
       "6701   D4E530F6595A05A3     A  interface_eu_test\n",
       "6702   773ECB64E45DEBAB     A  interface_eu_test\n",
       "6703   6BCB0F33D3BAB8C2     A  interface_eu_test\n",
       "6704   AABA4219186465C9     A  interface_eu_test\n",
       "6705   2BA8FA8754D1FE50     B  interface_eu_test\n",
       "...                 ...   ...                ...\n",
       "18263  1D302F8688B91781     B  interface_eu_test\n",
       "18264  3DE51B726983B657     A  interface_eu_test\n",
       "18265  F501F79D332BE86C     A  interface_eu_test\n",
       "18266  63FBE257B05F2245     A  interface_eu_test\n",
       "18267  79F9ABFB029CF724     B  interface_eu_test\n",
       "\n",
       "[11567 rows x 3 columns]"
      ]
     },
     "execution_count": 11,
     "metadata": {},
     "output_type": "execute_result"
    }
   ],
   "source": [
    "#в начале проверяем что в таблице final_ab_participants находятся только пользователи с названием теста recommender_system_test\n",
    "#для этого поставим фильтр на название теста.\n",
    "final_ab_participants[final_ab_participants['ab_test']!='recommender_system_test']"
   ]
  },
  {
   "cell_type": "markdown",
   "metadata": {},
   "source": [
    "Получается. что в таблице final_ab_participants содержатся данные не только нашего теста, но ещё и других тестов. Следовательно при объединение таблиц нужно будет ставить фильтр ['ab_test']=='recommender_system_test'.\n",
    "\n",
    "Также убедимся в том,что пользователи между тестами не пересекаются, так как такие пользователи могли совершать действия не под влиянием новшеств именно нашего теста, а под влиянием другого или их комбинации. Сравнении ищем лишь с пользователями группы B другого теста, так как только на них тестировали ещё какие-то изменения."
   ]
  },
  {
   "cell_type": "code",
   "execution_count": 12,
   "metadata": {},
   "outputs": [],
   "source": [
    "#выделяем число уникальных пользователей методом unique(), и будем искать пересечения через множества set()\n",
    "general_users=(set(final_ab_participants[final_ab_participants['ab_test']!='recommender_system_test']['user_id'].unique())\n",
    "          &set(final_ab_participants[final_ab_participants['ab_test']=='recommender_system_test']\n",
    "               .query('group==\"B\"')['user_id'].unique()))"
   ]
  },
  {
   "cell_type": "code",
   "execution_count": 13,
   "metadata": {},
   "outputs": [
    {
     "name": "stdout",
     "output_type": "stream",
     "text": [
      "Число пользователей, которые пересекуются между тестами -  681\n"
     ]
    }
   ],
   "source": [
    "print('Число пользователей, которые пересекуются между тестами - ', \n",
    "      len(general_users)\n",
    "     )"
   ]
  },
  {
   "cell_type": "code",
   "execution_count": 14,
   "metadata": {},
   "outputs": [
    {
     "name": "stdout",
     "output_type": "stream",
     "text": [
      "Число уникальных пользователей, которые учавствовали в тесте:  6701\n"
     ]
    }
   ],
   "source": [
    "#Теперь проверяем число уникальных пользователей, которые учавствовали в тесте\n",
    "print('Число уникальных пользователей, которые учавствовали в тесте: '\n",
    "      , final_ab_participants[final_ab_participants['ab_test']=='recommender_system_test']['user_id'].nunique())"
   ]
  },
  {
   "cell_type": "code",
   "execution_count": 15,
   "metadata": {},
   "outputs": [
    {
     "name": "stdout",
     "output_type": "stream",
     "text": [
      "Число уникальных пользователей, в группе A и B:  group\n",
      "A    3824\n",
      "B    2877\n",
      "Name: user_id, dtype: int64\n"
     ]
    }
   ],
   "source": [
    "#А также проверяем число уникальных пользователей в каждой группе\n",
    "print('Число уникальных пользователей, в группе A и B: '\n",
    "      , (final_ab_participants[final_ab_participants['ab_test']=='recommender_system_test']\n",
    "         .groupby('group')['user_id'].nunique())\n",
    "     )"
   ]
  },
  {
   "cell_type": "markdown",
   "metadata": {},
   "source": [
    "Число уникальных пользователей в тесте 6701,что совпало с ожидаемым числом(6000 участников ожидалось), причем в Группу B попало только 2877/6701=43% пользователей, то есть мы уже видим,что группы говорит о неравномерном распределении между группами. Однако ранее мы выявили,что нужно исключить 681 участника теста, а так как 6701-681=6020 человек, то мы всё равно достигли ожидаемого числа участников.     "
   ]
  },
  {
   "cell_type": "code",
   "execution_count": 16,
   "metadata": {},
   "outputs": [
    {
     "name": "stdout",
     "output_type": "stream",
     "text": [
      "Число уникальных пользователей, которые учавствовали в тесте:  group\n",
      "A    3824\n",
      "B    2196\n",
      "Name: user_id, dtype: int64\n"
     ]
    }
   ],
   "source": [
    "#после выброса \"плохих\" пользователей, получаем распределние пользователей между группами нашего AB-теста\n",
    "print('Число уникальных пользователей, которые учавствовали в тесте: '\n",
    "      , (final_ab_participants[(final_ab_participants['ab_test']=='recommender_system_test')\n",
    "                               & ~(final_ab_participants['user_id'].isin(general_users))]\n",
    "         .groupby('group')['user_id'].nunique())\n",
    "     )"
   ]
  },
  {
   "cell_type": "markdown",
   "metadata": {},
   "source": [
    "Объединяем две группировки,чтобы узнать сколько процентов пользователей для каждой группы мы потеряли из-за пересечения."
   ]
  },
  {
   "cell_type": "code",
   "execution_count": 17,
   "metadata": {},
   "outputs": [
    {
     "data": {
      "text/html": [
       "<div>\n",
       "<style scoped>\n",
       "    .dataframe tbody tr th:only-of-type {\n",
       "        vertical-align: middle;\n",
       "    }\n",
       "\n",
       "    .dataframe tbody tr th {\n",
       "        vertical-align: top;\n",
       "    }\n",
       "\n",
       "    .dataframe thead th {\n",
       "        text-align: right;\n",
       "    }\n",
       "</style>\n",
       "<table border=\"1\" class=\"dataframe\">\n",
       "  <thead>\n",
       "    <tr style=\"text-align: right;\">\n",
       "      <th></th>\n",
       "      <th>group</th>\n",
       "      <th>cnt_users_before</th>\n",
       "      <th>cnt_users_after</th>\n",
       "      <th>per_decreases</th>\n",
       "      <th>per_test_after</th>\n",
       "    </tr>\n",
       "  </thead>\n",
       "  <tbody>\n",
       "    <tr>\n",
       "      <td>0</td>\n",
       "      <td>A</td>\n",
       "      <td>3824</td>\n",
       "      <td>3824</td>\n",
       "      <td>0.00</td>\n",
       "      <td>63.52</td>\n",
       "    </tr>\n",
       "    <tr>\n",
       "      <td>1</td>\n",
       "      <td>B</td>\n",
       "      <td>2877</td>\n",
       "      <td>2196</td>\n",
       "      <td>23.67</td>\n",
       "      <td>36.48</td>\n",
       "    </tr>\n",
       "  </tbody>\n",
       "</table>\n",
       "</div>"
      ],
      "text/plain": [
       "  group  cnt_users_before  cnt_users_after  per_decreases  per_test_after\n",
       "0     A              3824             3824           0.00           63.52\n",
       "1     B              2877             2196          23.67           36.48"
      ]
     },
     "execution_count": 17,
     "metadata": {},
     "output_type": "execute_result"
    }
   ],
   "source": [
    "#сохраняем в таблицу before группировку по группам теста до выброса пользователей \n",
    "before=(final_ab_participants[final_ab_participants['ab_test']=='recommender_system_test']\n",
    "         .groupby('group')['user_id'].nunique().reset_index().rename(columns={'user_id':'cnt_users_before'}))\n",
    "#сохраняем в таблицу after группировку по группам теста после выброса пользователей\n",
    "after=(final_ab_participants[(final_ab_participants['ab_test']=='recommender_system_test')\n",
    "                               & ~(final_ab_participants['user_id'].isin(general_users))]\n",
    "         .groupby('group')['user_id'].nunique().reset_index().rename(columns={'user_id':'cnt_users_after'}))\n",
    "#объединяем группировки в таблицу chage_users\n",
    "change_users=before.merge(after,on='group')\n",
    "#и наконец рассчитываем процент падения числа пользователей\n",
    "change_users['per_decreases']=round(\n",
    "    (change_users['cnt_users_before']-change_users['cnt_users_after'])/change_users['cnt_users_before']*100,2\n",
    ")\n",
    "#и процент участников группы от всех участников теста\n",
    "allusers=change_users['cnt_users_after'].sum()\n",
    "change_users['per_test_after']=round(change_users['cnt_users_after']/allusers*100,2)\n",
    "change_users"
   ]
  },
  {
   "cell_type": "markdown",
   "metadata": {},
   "source": [
    "Получили,что исчезли лишь участники группы B, а у частники группы А, оказались не тронутыми, поэтому процентное соотношение между группами перераспределилось и теперь группа B составляет лишь 36,5% от всех участников. Такие не равные доли групп могут повлиять на результат проведения теста при сравнении групп(чем большее различие в долях наблюдается,тем больше данных нам нужно,чтобы можность не понизилась), но оставлять пересечения с другим тестом мы не можем, поэтому далее придется работать с такими отфильтрованными данными."
   ]
  },
  {
   "cell_type": "markdown",
   "metadata": {},
   "source": [
    "Кроме того в ТЗ указано,что аудитория теста-это 15% новых пользователей региона EU, поэтому чтобы проверить точность выполнения ТЗ, будем объединять все таблицы по left outer join по отношению к таблице новых пользователей final_ab_events."
   ]
  },
  {
   "cell_type": "code",
   "execution_count": 18,
   "metadata": {},
   "outputs": [
    {
     "data": {
      "text/html": [
       "<div>\n",
       "<style scoped>\n",
       "    .dataframe tbody tr th:only-of-type {\n",
       "        vertical-align: middle;\n",
       "    }\n",
       "\n",
       "    .dataframe tbody tr th {\n",
       "        vertical-align: top;\n",
       "    }\n",
       "\n",
       "    .dataframe thead th {\n",
       "        text-align: right;\n",
       "    }\n",
       "</style>\n",
       "<table border=\"1\" class=\"dataframe\">\n",
       "  <thead>\n",
       "    <tr style=\"text-align: right;\">\n",
       "      <th></th>\n",
       "      <th>user_id</th>\n",
       "      <th>event_dt</th>\n",
       "      <th>event_name</th>\n",
       "      <th>details</th>\n",
       "      <th>first_date</th>\n",
       "      <th>region</th>\n",
       "      <th>device</th>\n",
       "      <th>group</th>\n",
       "      <th>ab_test</th>\n",
       "    </tr>\n",
       "  </thead>\n",
       "  <tbody>\n",
       "    <tr>\n",
       "      <td>0</td>\n",
       "      <td>E1BDDCE0DAFA2679</td>\n",
       "      <td>2020-12-07 20:22:03</td>\n",
       "      <td>purchase</td>\n",
       "      <td>99.99</td>\n",
       "      <td>2020-12-07</td>\n",
       "      <td>N.America</td>\n",
       "      <td>iPhone</td>\n",
       "      <td>NaN</td>\n",
       "      <td>NaN</td>\n",
       "    </tr>\n",
       "    <tr>\n",
       "      <td>1</td>\n",
       "      <td>7B6452F081F49504</td>\n",
       "      <td>2020-12-07 09:22:53</td>\n",
       "      <td>purchase</td>\n",
       "      <td>9.99</td>\n",
       "      <td>2020-12-07</td>\n",
       "      <td>EU</td>\n",
       "      <td>iPhone</td>\n",
       "      <td>NaN</td>\n",
       "      <td>NaN</td>\n",
       "    </tr>\n",
       "    <tr>\n",
       "      <td>2</td>\n",
       "      <td>9CD9F34546DF254C</td>\n",
       "      <td>2020-12-07 12:59:29</td>\n",
       "      <td>purchase</td>\n",
       "      <td>4.99</td>\n",
       "      <td>2020-12-07</td>\n",
       "      <td>N.America</td>\n",
       "      <td>iPhone</td>\n",
       "      <td>NaN</td>\n",
       "      <td>NaN</td>\n",
       "    </tr>\n",
       "    <tr>\n",
       "      <td>3</td>\n",
       "      <td>96F27A054B191457</td>\n",
       "      <td>2020-12-07 04:02:40</td>\n",
       "      <td>purchase</td>\n",
       "      <td>4.99</td>\n",
       "      <td>2020-12-07</td>\n",
       "      <td>EU</td>\n",
       "      <td>iPhone</td>\n",
       "      <td>NaN</td>\n",
       "      <td>NaN</td>\n",
       "    </tr>\n",
       "    <tr>\n",
       "      <td>4</td>\n",
       "      <td>1FD7660FDF94CA1F</td>\n",
       "      <td>2020-12-07 10:15:09</td>\n",
       "      <td>purchase</td>\n",
       "      <td>4.99</td>\n",
       "      <td>2020-12-07</td>\n",
       "      <td>EU</td>\n",
       "      <td>Android</td>\n",
       "      <td>NaN</td>\n",
       "      <td>NaN</td>\n",
       "    </tr>\n",
       "  </tbody>\n",
       "</table>\n",
       "</div>"
      ],
      "text/plain": [
       "            user_id            event_dt event_name  details first_date  \\\n",
       "0  E1BDDCE0DAFA2679 2020-12-07 20:22:03   purchase    99.99 2020-12-07   \n",
       "1  7B6452F081F49504 2020-12-07 09:22:53   purchase     9.99 2020-12-07   \n",
       "2  9CD9F34546DF254C 2020-12-07 12:59:29   purchase     4.99 2020-12-07   \n",
       "3  96F27A054B191457 2020-12-07 04:02:40   purchase     4.99 2020-12-07   \n",
       "4  1FD7660FDF94CA1F 2020-12-07 10:15:09   purchase     4.99 2020-12-07   \n",
       "\n",
       "      region   device group ab_test  \n",
       "0  N.America   iPhone   NaN     NaN  \n",
       "1         EU   iPhone   NaN     NaN  \n",
       "2  N.America   iPhone   NaN     NaN  \n",
       "3         EU   iPhone   NaN     NaN  \n",
       "4         EU  Android   NaN     NaN  "
      ]
     },
     "execution_count": 18,
     "metadata": {},
     "output_type": "execute_result"
    }
   ],
   "source": [
    "#объединяем таблицы по колонке 'user_id' и сохраняем данные в таблицу test_data\n",
    "all_data_new_users=(final_ab_events.merge(final_ab_new_users, on='user_id', how='left')\n",
    "           .merge(final_ab_participants[final_ab_participants['ab_test']=='recommender_system_test'], on='user_id', how='left')\n",
    ")\n",
    "#all_data_new_users=all_data_new_users[~all_data_new_users['user_id'].isin(general_users)]\n",
    "all_data_new_users.head()"
   ]
  },
  {
   "cell_type": "markdown",
   "metadata": {},
   "source": [
    "Проверяем регионы групп, в которых проводился тест."
   ]
  },
  {
   "cell_type": "code",
   "execution_count": 19,
   "metadata": {},
   "outputs": [
    {
     "name": "stdout",
     "output_type": "stream",
     "text": [
      "Регионы участников теста : \n",
      "region\n",
      "APAC           45\n",
      "CIS            30\n",
      "EU           3481\n",
      "N.America     119\n",
      "Name: user_id, dtype: int64\n",
      "Регионы пользователей группы B теста : \n",
      "region\n",
      "APAC          17\n",
      "CIS           11\n",
      "EU           877\n",
      "N.America     23\n",
      "Name: user_id, dtype: int64\n"
     ]
    }
   ],
   "source": [
    "print('Регионы участников теста : ',\n",
    "      (all_data_new_users[~all_data_new_users['group'].isna()]\n",
    "       .groupby('region')['user_id']\n",
    "       .nunique())\n",
    "      , sep='\\n')\n",
    "print('Регионы пользователей группы B теста : ',\n",
    "      (all_data_new_users[all_data_new_users['group']==\"B\"]\n",
    "      .groupby('region')['user_id']\n",
    "      .nunique())\n",
    "      , sep='\\n')"
   ]
  },
  {
   "cell_type": "markdown",
   "metadata": {},
   "source": [
    "Видно,что большинство пользователей теста обоих групп-люди из региона \"EU\",и на 25% учатников региона \"EU\" были запущены изменения в рекомендательной системе,однако это анализ данных без учета выбросов с пересекающимися пользователями. Теперь проверим сколько же процентов участников от всех новых пользователей из региона \"EU\" было взято в тест с учетом выбросов и без них."
   ]
  },
  {
   "cell_type": "code",
   "execution_count": 20,
   "metadata": {},
   "outputs": [
    {
     "name": "stdout",
     "output_type": "stream",
     "text": [
      "Процент новых пользователей из региона \"EU\", которые участвовали в группах теста без учета выбросов:  8.0\n",
      "Процент новых пользователей из региона \"EU\", которые участвовали в группах теста с учетом выбросов:  7.5\n",
      "Процент пользователей из региона \"EU\" в тесте, которые участвовали в группе B без учета выбросов:  25.2\n",
      "Процент пользователей из региона \"EU\" в тесте, которые участвовали в группе B с учетом выбросов:  20.1\n"
     ]
    }
   ],
   "source": [
    "#выясняем процент новых пользователей от всех, которые учавствовали в тесте\n",
    "print('Процент новых пользователей из региона \"EU\", которые участвовали в группах теста без учета выбросов: ', \n",
    "     round((all_data_new_users[~all_data_new_users['group'].isna()]\n",
    "            .query('region==\"EU\"')['user_id']\n",
    "            .nunique())\n",
    "           /(all_data_new_users\n",
    "             .query('region==\"EU\"')['user_id']\n",
    "             .nunique())*100\n",
    "           ,1))\n",
    "print('Процент новых пользователей из региона \"EU\", которые участвовали в группах теста с учетом выбросов: ', \n",
    "     round((all_data_new_users[(~all_data_new_users['group'].isna()) & (~all_data_new_users['user_id'].isin(general_users))]\n",
    "            .query('region==\"EU\"')['user_id']\n",
    "            .nunique())\n",
    "           /(all_data_new_users.query('region==\"EU\"')['user_id']\n",
    "             .nunique()) *100\n",
    "           ,1))\n",
    "print('Процент пользователей из региона \"EU\" в тесте, которые участвовали в группе B без учета выбросов: ', \n",
    "     round((all_data_new_users[(all_data_new_users['group']==\"B\")]\n",
    "           .query('region==\"EU\"')['user_id']\n",
    "           .nunique())\n",
    "           /(all_data_new_users[~all_data_new_users['group'].isna()]\n",
    "             .query('region==\"EU\"')['user_id']\n",
    "             .nunique())*100\n",
    "           ,1))\n",
    "print('Процент пользователей из региона \"EU\" в тесте, которые участвовали в группе B с учетом выбросов: ', \n",
    "     round((all_data_new_users[(all_data_new_users['group']==\"B\") & (~all_data_new_users['user_id'].isin(general_users))]\n",
    "           .query('region==\"EU\"')['user_id']\n",
    "           .nunique())\n",
    "           /(all_data_new_users[(~all_data_new_users['group'].isna()) & (~all_data_new_users['user_id'].isin(general_users))]\n",
    "             .query('region==\"EU\"')['user_id']\n",
    "             .nunique())*100\n",
    "           ,1))"
   ]
  },
  {
   "cell_type": "markdown",
   "metadata": {},
   "source": [
    "Получили,что даже без учета выбросов,в тесте принимало лишь 8% от новых пользователей из \"EU\", то есть ещё один пункт не совпал с планируемым ТЗ."
   ]
  },
  {
   "cell_type": "markdown",
   "metadata": {},
   "source": [
    "Также добавим поле event_marketing, которое будет характеризовать была ли проведена какая-либо акция на момент действия. Мы знаем, что тест проводился с 4 декабря 2020 года по 4 января 2021 года, поэтому оставим в таблице маркетинговых событий лишь акции на момент проведения теста."
   ]
  },
  {
   "cell_type": "code",
   "execution_count": 21,
   "metadata": {},
   "outputs": [
    {
     "data": {
      "text/html": [
       "<div>\n",
       "<style scoped>\n",
       "    .dataframe tbody tr th:only-of-type {\n",
       "        vertical-align: middle;\n",
       "    }\n",
       "\n",
       "    .dataframe tbody tr th {\n",
       "        vertical-align: top;\n",
       "    }\n",
       "\n",
       "    .dataframe thead th {\n",
       "        text-align: right;\n",
       "    }\n",
       "</style>\n",
       "<table border=\"1\" class=\"dataframe\">\n",
       "  <thead>\n",
       "    <tr style=\"text-align: right;\">\n",
       "      <th></th>\n",
       "      <th>name</th>\n",
       "      <th>regions</th>\n",
       "      <th>start_dt</th>\n",
       "      <th>finish_dt</th>\n",
       "    </tr>\n",
       "  </thead>\n",
       "  <tbody>\n",
       "    <tr>\n",
       "      <td>0</td>\n",
       "      <td>Christmas&amp;New Year Promo</td>\n",
       "      <td>EU, N.America</td>\n",
       "      <td>2020-12-25</td>\n",
       "      <td>2021-01-03</td>\n",
       "    </tr>\n",
       "    <tr>\n",
       "      <td>1</td>\n",
       "      <td>CIS New Year Gift Lottery</td>\n",
       "      <td>CIS</td>\n",
       "      <td>2020-12-30</td>\n",
       "      <td>2021-01-07</td>\n",
       "    </tr>\n",
       "  </tbody>\n",
       "</table>\n",
       "</div>"
      ],
      "text/plain": [
       "                        name        regions   start_dt  finish_dt\n",
       "0   Christmas&New Year Promo  EU, N.America 2020-12-25 2021-01-03\n",
       "1  CIS New Year Gift Lottery            CIS 2020-12-30 2021-01-07"
      ]
     },
     "execution_count": 21,
     "metadata": {},
     "output_type": "execute_result"
    }
   ],
   "source": [
    "marketing_event_holiday=(ab_project_marketing_events[ab_project_marketing_events['start_dt']>=pd.to_datetime('2020-12-01')]\n",
    "                         .reset_index(drop=True)\n",
    "                        )\n",
    "marketing_event_holiday"
   ]
  },
  {
   "cell_type": "code",
   "execution_count": 22,
   "metadata": {},
   "outputs": [
    {
     "data": {
      "text/html": [
       "<div>\n",
       "<style scoped>\n",
       "    .dataframe tbody tr th:only-of-type {\n",
       "        vertical-align: middle;\n",
       "    }\n",
       "\n",
       "    .dataframe tbody tr th {\n",
       "        vertical-align: top;\n",
       "    }\n",
       "\n",
       "    .dataframe thead th {\n",
       "        text-align: right;\n",
       "    }\n",
       "</style>\n",
       "<table border=\"1\" class=\"dataframe\">\n",
       "  <thead>\n",
       "    <tr style=\"text-align: right;\">\n",
       "      <th></th>\n",
       "      <th>user_id</th>\n",
       "      <th>event_dt</th>\n",
       "      <th>event_name</th>\n",
       "      <th>first_date</th>\n",
       "      <th>region</th>\n",
       "      <th>device</th>\n",
       "      <th>group</th>\n",
       "      <th>event_marketing</th>\n",
       "    </tr>\n",
       "  </thead>\n",
       "  <tbody>\n",
       "    <tr>\n",
       "      <td>0</td>\n",
       "      <td>831887FE7F2D6CBA</td>\n",
       "      <td>2020-12-07 06:50:29</td>\n",
       "      <td>purchase</td>\n",
       "      <td>2020-12-07</td>\n",
       "      <td>EU</td>\n",
       "      <td>Android</td>\n",
       "      <td>A</td>\n",
       "      <td>0</td>\n",
       "    </tr>\n",
       "    <tr>\n",
       "      <td>1</td>\n",
       "      <td>3C5DD0288AC4FE23</td>\n",
       "      <td>2020-12-07 19:42:40</td>\n",
       "      <td>purchase</td>\n",
       "      <td>2020-12-07</td>\n",
       "      <td>EU</td>\n",
       "      <td>PC</td>\n",
       "      <td>A</td>\n",
       "      <td>0</td>\n",
       "    </tr>\n",
       "    <tr>\n",
       "      <td>2</td>\n",
       "      <td>49EA242586C87836</td>\n",
       "      <td>2020-12-07 06:31:24</td>\n",
       "      <td>purchase</td>\n",
       "      <td>2020-12-07</td>\n",
       "      <td>EU</td>\n",
       "      <td>iPhone</td>\n",
       "      <td>B</td>\n",
       "      <td>0</td>\n",
       "    </tr>\n",
       "    <tr>\n",
       "      <td>3</td>\n",
       "      <td>2B06EB547B7AAD08</td>\n",
       "      <td>2020-12-07 21:36:38</td>\n",
       "      <td>purchase</td>\n",
       "      <td>2020-12-07</td>\n",
       "      <td>EU</td>\n",
       "      <td>PC</td>\n",
       "      <td>A</td>\n",
       "      <td>0</td>\n",
       "    </tr>\n",
       "    <tr>\n",
       "      <td>4</td>\n",
       "      <td>A640F31CAC7823A6</td>\n",
       "      <td>2020-12-07 18:48:26</td>\n",
       "      <td>purchase</td>\n",
       "      <td>2020-12-07</td>\n",
       "      <td>EU</td>\n",
       "      <td>PC</td>\n",
       "      <td>B</td>\n",
       "      <td>0</td>\n",
       "    </tr>\n",
       "  </tbody>\n",
       "</table>\n",
       "</div>"
      ],
      "text/plain": [
       "            user_id            event_dt event_name first_date region   device  \\\n",
       "0  831887FE7F2D6CBA 2020-12-07 06:50:29   purchase 2020-12-07     EU  Android   \n",
       "1  3C5DD0288AC4FE23 2020-12-07 19:42:40   purchase 2020-12-07     EU       PC   \n",
       "2  49EA242586C87836 2020-12-07 06:31:24   purchase 2020-12-07     EU   iPhone   \n",
       "3  2B06EB547B7AAD08 2020-12-07 21:36:38   purchase 2020-12-07     EU       PC   \n",
       "4  A640F31CAC7823A6 2020-12-07 18:48:26   purchase 2020-12-07     EU       PC   \n",
       "\n",
       "  group  event_marketing  \n",
       "0     A                0  \n",
       "1     A                0  \n",
       "2     B                0  \n",
       "3     A                0  \n",
       "4     B                0  "
      ]
     },
     "execution_count": 22,
     "metadata": {},
     "output_type": "execute_result"
    }
   ],
   "source": [
    "#теперь создаём функцию marketing\n",
    "def marketing(row):\n",
    "    ##данная функция принимает на вход строку из таблицы test_data\n",
    "    ##затем идёт проверка на совпадение:\n",
    "    ##если дата события находится между началом и концом акции, а также совпадает регион проведения акции\n",
    "    ##то функция возвращает 1, если совпадений не было то функция вернёт 0\n",
    "    \n",
    "    #в region сохраняем регион события\n",
    "    region=row['region']\n",
    "    #в event_date сохраняем дату проведения события\n",
    "    event_date=pd.to_datetime(row['event_dt'], format='%Y-%m-%d')\n",
    "    #exists будет отвечать за существование события(0-акции не было, 1-акция была)\n",
    "    exists=0\n",
    "    #запускаем цикл по всем маркетинговым событиям, которые проводились на момент совершения теста \n",
    "    for i in range(len(marketing_event_holiday)):\n",
    "        regions=marketing_event_holiday.loc[i,'regions']\n",
    "        start_dt=marketing_event_holiday.loc[i,'start_dt']\n",
    "        finish_dt=marketing_event_holiday.loc[i,'finish_dt']\n",
    "        if (region in regions) and start_dt<=event_date and event_date<=finish_dt:\n",
    "            exists=1\n",
    "    return exists\n",
    "#создаём дополнительный столбец в test_data, применяя функцию marketing\n",
    "all_data_new_users['event_marketing']=all_data_new_users.apply(marketing, axis=1)\n",
    "##оставляем только необходимые столбцы\n",
    "test_data=all_data_new_users[~all_data_new_users['group'].isna()].drop(['details','ab_test'],axis=1).reset_index(drop=True)\n",
    "test_data.head()"
   ]
  },
  {
   "cell_type": "code",
   "execution_count": 23,
   "metadata": {},
   "outputs": [
    {
     "data": {
      "text/plain": [
       "group\n",
       "A    0.142820\n",
       "B    0.095847\n",
       "Name: event_marketing, dtype: float64"
      ]
     },
     "execution_count": 23,
     "metadata": {},
     "output_type": "execute_result"
    }
   ],
   "source": [
    "#считаем какая доля событий совершена во время акций в каждой группе\n",
    "test_data.groupby('group')['event_marketing'].mean()"
   ]
  },
  {
   "cell_type": "markdown",
   "metadata": {},
   "source": [
    "Получается, что 14% событий в группе А и 9,5% событий в группе В совершались в момент проведения марткетинговых акций, а значит в эти дни покупки могли совершаться не из-за новой рекомендательной системы, а из-за хороших предложений в виду предверия новогодних праздников."
   ]
  },
  {
   "cell_type": "markdown",
   "metadata": {},
   "source": [
    "### Проверка данных на дубликаты <a id=\"dup\"></a>"
   ]
  },
  {
   "cell_type": "code",
   "execution_count": 24,
   "metadata": {},
   "outputs": [
    {
     "data": {
      "text/html": [
       "<div>\n",
       "<style scoped>\n",
       "    .dataframe tbody tr th:only-of-type {\n",
       "        vertical-align: middle;\n",
       "    }\n",
       "\n",
       "    .dataframe tbody tr th {\n",
       "        vertical-align: top;\n",
       "    }\n",
       "\n",
       "    .dataframe thead th {\n",
       "        text-align: right;\n",
       "    }\n",
       "</style>\n",
       "<table border=\"1\" class=\"dataframe\">\n",
       "  <thead>\n",
       "    <tr style=\"text-align: right;\">\n",
       "      <th></th>\n",
       "      <th>user_id</th>\n",
       "      <th>event_dt</th>\n",
       "      <th>event_name</th>\n",
       "      <th>first_date</th>\n",
       "      <th>region</th>\n",
       "      <th>device</th>\n",
       "      <th>group</th>\n",
       "      <th>event_marketing</th>\n",
       "    </tr>\n",
       "  </thead>\n",
       "  <tbody>\n",
       "  </tbody>\n",
       "</table>\n",
       "</div>"
      ],
      "text/plain": [
       "Empty DataFrame\n",
       "Columns: [user_id, event_dt, event_name, first_date, region, device, group, event_marketing]\n",
       "Index: []"
      ]
     },
     "execution_count": 24,
     "metadata": {},
     "output_type": "execute_result"
    }
   ],
   "source": [
    "#проверяем данные на дубликаты методом .duplicated(keep='First')\n",
    "#keep='First' считает истиным лишь первое вхождение, а остальные вхождения дубликатами\n",
    "test_data[test_data.duplicated(keep='first')]"
   ]
  },
  {
   "cell_type": "markdown",
   "metadata": {},
   "source": [
    "Дубликатов нет и это отлично."
   ]
  },
  {
   "cell_type": "markdown",
   "metadata": {},
   "source": [
    "### Вывод"
   ]
  },
  {
   "cell_type": "markdown",
   "metadata": {},
   "source": [
    "Таким образом были приведены столбцы данных,связанных с временем и датами, в необходимый тип данных,также необходимые данные были объеденены в единую таблицу. При предварительном анализе было обнаружено,что часть пользователей, которые участвовали в тесте пересекались с другим тестом,однако после удаления их из анализируемой группы,мы получаем ожидаемое число новых пользователей для теста,но распределених участников между группами оказывается неравное: 36,5% тестовой против 63,5% контрольной. Также было обнаружено возможное влияние маркетинговых мероприятий в честь Нового года на действия пользователей, и не cоблюдение правил ТЗ во время дизайна теста:аудитория участников теста не добрала 15% новых пользователей из региона EU, хотя из всех участников теста на 20% были запущены изменения; также было не выполнено условие касаемое дат-последней датой в таблице является 2020-12-30, вместо 4 января 2021, а следовательно для анализа доступны результаты теста только 10 дней вместо 14."
   ]
  },
  {
   "cell_type": "markdown",
   "metadata": {},
   "source": [
    "## 3. Исследовательский анализ данных групп <a id=\"analytic\"></a>"
   ]
  },
  {
   "cell_type": "markdown",
   "metadata": {},
   "source": [
    "### Проверка выборок на пересечение пользователей <a id=\"maping\"></a>"
   ]
  },
  {
   "cell_type": "markdown",
   "metadata": {},
   "source": [
    "При проведении теста важно,чтобы пользователи не относились одновременно к обоим группам, поэтому проверяем данные на пересечении user,а также не забываем выбросить пользователей, которые пересеклись в участии ещё другого теста."
   ]
  },
  {
   "cell_type": "code",
   "execution_count": 25,
   "metadata": {},
   "outputs": [],
   "source": [
    "#выделяем данные тестовой группы А\n",
    "testA_data=test_data[~test_data['user_id'].isin(general_users)].query('group==\"A\"')\n",
    "#выделяем данные тестовой группы B\n",
    "testB_data=test_data[~test_data['user_id'].isin(general_users)].query('group==\"B\"')"
   ]
  },
  {
   "cell_type": "code",
   "execution_count": 26,
   "metadata": {},
   "outputs": [
    {
     "data": {
      "text/html": [
       "<div>\n",
       "<style scoped>\n",
       "    .dataframe tbody tr th:only-of-type {\n",
       "        vertical-align: middle;\n",
       "    }\n",
       "\n",
       "    .dataframe tbody tr th {\n",
       "        vertical-align: top;\n",
       "    }\n",
       "\n",
       "    .dataframe thead th {\n",
       "        text-align: right;\n",
       "    }\n",
       "</style>\n",
       "<table border=\"1\" class=\"dataframe\">\n",
       "  <thead>\n",
       "    <tr style=\"text-align: right;\">\n",
       "      <th></th>\n",
       "      <th>user_id</th>\n",
       "      <th>event_dt</th>\n",
       "      <th>event_name</th>\n",
       "      <th>first_date</th>\n",
       "      <th>region</th>\n",
       "      <th>device</th>\n",
       "      <th>group</th>\n",
       "      <th>event_marketing</th>\n",
       "    </tr>\n",
       "  </thead>\n",
       "  <tbody>\n",
       "  </tbody>\n",
       "</table>\n",
       "</div>"
      ],
      "text/plain": [
       "Empty DataFrame\n",
       "Columns: [user_id, event_dt, event_name, first_date, region, device, group, event_marketing]\n",
       "Index: []"
      ]
     },
     "execution_count": 26,
     "metadata": {},
     "output_type": "execute_result"
    }
   ],
   "source": [
    "#создаём срез данных тестовй группы А по пользователям, которые входят в тестовую группу В\n",
    "testA_data[testA_data['user_id'].isin(testB_data['user_id'].unique())]"
   ]
  },
  {
   "cell_type": "markdown",
   "metadata": {},
   "source": [
    "Как видим пользователи не пересекаются между выборками, а значит можно спокойно приступать к следующему шагу анализа."
   ]
  },
  {
   "cell_type": "markdown",
   "metadata": {},
   "source": [
    "### Изучение событий (рассчёт частоты и распределение событий по дням)<a id=\"overview_events\"></a>"
   ]
  },
  {
   "cell_type": "markdown",
   "metadata": {},
   "source": [
    "Помимо пересечений пользователей ещё важно,чтобы события были распределены между днями равномерно, иначе результаты статистических тестов будут давать неинтропретируемые результаты."
   ]
  },
  {
   "cell_type": "code",
   "execution_count": 27,
   "metadata": {},
   "outputs": [
    {
     "data": {
      "text/plain": [
       "Text(0, 0.5, 'Число событий')"
      ]
     },
     "execution_count": 27,
     "metadata": {},
     "output_type": "execute_result"
    },
    {
     "data": {
      "image/png": "[encoded data removed]",
      "text/plain": [
       "<Figure size 1080x432 with 1 Axes>"
      ]
     },
     "metadata": {
      "needs_background": "light"
     },
     "output_type": "display_data"
    }
   ],
   "source": [
    "#выделяем дату события из event_date методом dt.date\n",
    "testA_data['event_date']=testA_data['event_dt'].dt.date\n",
    "#группируем данные по дням и считаем количество событий каждого вида\n",
    "distA=testA_data.groupby(['event_date','event_name']).agg({'user_id':'count'}).reset_index()\n",
    "#задаём графическую область\n",
    "plt.subplots(figsize=(15,6))\n",
    "#строим гистограмму событий по дня методом barplot()\n",
    "sns.barplot(x='event_date',y='user_id',hue='event_name', data=distA)\n",
    "plt.title('Распределние событий по дня для группы A')\n",
    "plt.xticks(rotation=20)\n",
    "plt.ylabel('Число событий')"
   ]
  },
  {
   "cell_type": "markdown",
   "metadata": {},
   "source": [
    "Из столбчатой диаграммы можно сделать вывод,что для группы А данные распределены между днями неравномерно, поэтому для анализа теста следует исключить дни до 14 декабря 2020 года,так как частота событий намного ниже чем в дни после.Также достаточно подозрительными выглядят дни с 23 декабря, но выкидывать их из анализа мы пока не будем, так как это результат уже теста, и скорее всего в группе B будет аналогичная тенденция."
   ]
  },
  {
   "cell_type": "code",
   "execution_count": 28,
   "metadata": {},
   "outputs": [
    {
     "data": {
      "text/plain": [
       "Text(0, 0.5, 'Число событий')"
      ]
     },
     "execution_count": 28,
     "metadata": {},
     "output_type": "execute_result"
    },
    {
     "data": {
      "image/png": "[encoded data removed]",
      "text/plain": [
       "<Figure size 1080x432 with 1 Axes>"
      ]
     },
     "metadata": {
      "needs_background": "light"
     },
     "output_type": "display_data"
    }
   ],
   "source": [
    "#выделяем дату события из event_date методом dt.date\n",
    "testB_data['event_date']=testB_data['event_dt'].dt.date\n",
    "#группируем данные по дням и считаем количество событий каждого вида\n",
    "distB=testB_data.groupby(['event_date','event_name']).agg({'user_id':'count'}).reset_index()\n",
    "#задаём графическую область\n",
    "plt.subplots(figsize=(15,6))\n",
    "#строим гистограмму событий по дня методом barplot()\n",
    "sns.barplot(x='event_date',y='user_id',hue='event_name', data=distB)\n",
    "plt.title('Распределние событий по дня для группы B')\n",
    "plt.xticks(rotation=20)\n",
    "plt.ylabel('Число событий')"
   ]
  },
  {
   "cell_type": "markdown",
   "metadata": {},
   "source": [
    "В группе B данные изначально имели схожую частоту событий и явных отличий нет,не считая 30 декабря. Также можно увидеть схожую тенденцию падения частоты событий после 22 декабря,что и у группы A. Поэтому для правильного проведения статистических тестов исключаем из временного ряда данные раньше 14 декабря 2020 года и заканчиваем анализ 29 декабрём."
   ]
  },
  {
   "cell_type": "code",
   "execution_count": 29,
   "metadata": {},
   "outputs": [],
   "source": [
    "#пересобираем данные с учетом выявленных ограничений на даты\n",
    "start_right_date=pd.to_datetime('2020-12-14')\n",
    "end_right_date=pd.to_datetime('2020-12-29')\n",
    "testA_data_=testA_data.query('event_date>=@start_right_date and event_date<=@end_right_date')\n",
    "testB_data_=testB_data.query('event_date>=@start_right_date and event_date<=@end_right_date')"
   ]
  },
  {
   "cell_type": "markdown",
   "metadata": {},
   "source": [
    "В графиках распределения числа событий в группах А и B можно увидеть немного разное колебание частоты таких событий как покупка и просмотр карзины. Однако в течении врмени эти событий скачут и внутри каждой группы, поэтому рассчитаем общую частоту событий в каждой группе,чтобы оценить продуктовую воронку.\n",
    "\n",
    "-Для того чтобы рассчитать частоту событий, нужно посчитать сколько раз совершался каждый вид события в логах, а затем поделить эти данные на суммарное число всех событий(оно ровно длине таблице данных)."
   ]
  },
  {
   "cell_type": "code",
   "execution_count": 30,
   "metadata": {},
   "outputs": [],
   "source": [
    "#находим суммарное число всех событий в группе А-all_eventsA\n",
    "all_eventsA=len(testA_data)\n",
    "#находим суммарное число всех событий в группе B-all_eventsB\n",
    "all_eventsB=len(testB_data)"
   ]
  },
  {
   "cell_type": "code",
   "execution_count": 31,
   "metadata": {},
   "outputs": [
    {
     "data": {
      "text/html": [
       "<div>\n",
       "<style scoped>\n",
       "    .dataframe tbody tr th:only-of-type {\n",
       "        vertical-align: middle;\n",
       "    }\n",
       "\n",
       "    .dataframe tbody tr th {\n",
       "        vertical-align: top;\n",
       "    }\n",
       "\n",
       "    .dataframe thead th {\n",
       "        text-align: right;\n",
       "    }\n",
       "</style>\n",
       "<table border=\"1\" class=\"dataframe\">\n",
       "  <thead>\n",
       "    <tr style=\"text-align: right;\">\n",
       "      <th></th>\n",
       "      <th>event_name</th>\n",
       "      <th>count_event</th>\n",
       "      <th>frequencie</th>\n",
       "    </tr>\n",
       "  </thead>\n",
       "  <tbody>\n",
       "    <tr>\n",
       "      <td>0</td>\n",
       "      <td>login</td>\n",
       "      <td>8566</td>\n",
       "      <td>0.443742</td>\n",
       "    </tr>\n",
       "    <tr>\n",
       "      <td>2</td>\n",
       "      <td>product_page</td>\n",
       "      <td>5525</td>\n",
       "      <td>0.286210</td>\n",
       "    </tr>\n",
       "    <tr>\n",
       "      <td>3</td>\n",
       "      <td>purchase</td>\n",
       "      <td>2655</td>\n",
       "      <td>0.137536</td>\n",
       "    </tr>\n",
       "    <tr>\n",
       "      <td>1</td>\n",
       "      <td>product_cart</td>\n",
       "      <td>2558</td>\n",
       "      <td>0.132511</td>\n",
       "    </tr>\n",
       "  </tbody>\n",
       "</table>\n",
       "</div>"
      ],
      "text/plain": [
       "     event_name  count_event  frequencie\n",
       "0         login         8566    0.443742\n",
       "2  product_page         5525    0.286210\n",
       "3      purchase         2655    0.137536\n",
       "1  product_cart         2558    0.132511"
      ]
     },
     "execution_count": 31,
     "metadata": {},
     "output_type": "execute_result"
    }
   ],
   "source": [
    "#создаем таблицу частот событий группы А, в которой сначала посчитаем число логов с конкретным типом событий\n",
    "frequencieA=(testA_data.groupby('event_name')['user_id']\n",
    "             .count()\n",
    "             .reset_index()\n",
    "            )\n",
    "#переименуем столбец 'user_id' в 'count_event' методом .rename() с указанием inplace = True,чтобы не пересохранять датафрейм\n",
    "frequencieA.rename(columns = {'user_id':'count_event'}, inplace = True)\n",
    "#и, наконец, добавляем столбец частоты frequencie\n",
    "frequencieA['frequencie']=frequencieA['count_event']/all_eventsA\n",
    "frequencieA.sort_values('frequencie', ascending=False)"
   ]
  },
  {
   "cell_type": "code",
   "execution_count": 32,
   "metadata": {},
   "outputs": [
    {
     "data": {
      "text/html": [
       "<div>\n",
       "<style scoped>\n",
       "    .dataframe tbody tr th:only-of-type {\n",
       "        vertical-align: middle;\n",
       "    }\n",
       "\n",
       "    .dataframe tbody tr th {\n",
       "        vertical-align: top;\n",
       "    }\n",
       "\n",
       "    .dataframe thead th {\n",
       "        text-align: right;\n",
       "    }\n",
       "</style>\n",
       "<table border=\"1\" class=\"dataframe\">\n",
       "  <thead>\n",
       "    <tr style=\"text-align: right;\">\n",
       "      <th></th>\n",
       "      <th>event_name</th>\n",
       "      <th>count_events_right</th>\n",
       "      <th>frequencie_right</th>\n",
       "    </tr>\n",
       "  </thead>\n",
       "  <tbody>\n",
       "    <tr>\n",
       "      <td>0</td>\n",
       "      <td>login</td>\n",
       "      <td>7387</td>\n",
       "      <td>0.438658</td>\n",
       "    </tr>\n",
       "    <tr>\n",
       "      <td>1</td>\n",
       "      <td>product_page</td>\n",
       "      <td>4828</td>\n",
       "      <td>0.286698</td>\n",
       "    </tr>\n",
       "    <tr>\n",
       "      <td>2</td>\n",
       "      <td>purchase</td>\n",
       "      <td>2360</td>\n",
       "      <td>0.140143</td>\n",
       "    </tr>\n",
       "    <tr>\n",
       "      <td>3</td>\n",
       "      <td>product_cart</td>\n",
       "      <td>2265</td>\n",
       "      <td>0.134501</td>\n",
       "    </tr>\n",
       "  </tbody>\n",
       "</table>\n",
       "</div>"
      ],
      "text/plain": [
       "     event_name  count_events_right  frequencie_right\n",
       "0         login                7387          0.438658\n",
       "1  product_page                4828          0.286698\n",
       "2      purchase                2360          0.140143\n",
       "3  product_cart                2265          0.134501"
      ]
     },
     "execution_count": 32,
     "metadata": {},
     "output_type": "execute_result"
    }
   ],
   "source": [
    "#посчитаем количество логов каждого вида событий в отсортированных данных, применяя .value_counts()\n",
    "#также уберем названия событий из индексов при помощи .reset_index(), сохраняем данные в frequencieA_right \n",
    "frequencieA_right=testA_data_['event_name'].value_counts().reset_index()\n",
    "#переименуем столбцы методом .columns\n",
    "frequencieA_right.columns=['event_name','count_events_right']\n",
    "frequencieA_right['frequencie_right']=frequencieA_right['count_events_right']/len(testA_data_)\n",
    "#отсортируем наименования событий по алфавиту .sort_values('event_name')\n",
    "frequencieA_right=frequencieA_right.sort_values('count_events_right', ascending=False)\n",
    "frequencieA_right"
   ]
  },
  {
   "cell_type": "code",
   "execution_count": 33,
   "metadata": {},
   "outputs": [
    {
     "data": {
      "text/html": [
       "<div>\n",
       "<style scoped>\n",
       "    .dataframe tbody tr th:only-of-type {\n",
       "        vertical-align: middle;\n",
       "    }\n",
       "\n",
       "    .dataframe tbody tr th {\n",
       "        vertical-align: top;\n",
       "    }\n",
       "\n",
       "    .dataframe thead th {\n",
       "        text-align: right;\n",
       "    }\n",
       "</style>\n",
       "<table border=\"1\" class=\"dataframe\">\n",
       "  <thead>\n",
       "    <tr style=\"text-align: right;\">\n",
       "      <th></th>\n",
       "      <th>event_name</th>\n",
       "      <th>count_events_right</th>\n",
       "      <th>frequencie_right</th>\n",
       "      <th>count_event</th>\n",
       "      <th>frequencie</th>\n",
       "      <th>lost_events</th>\n",
       "    </tr>\n",
       "  </thead>\n",
       "  <tbody>\n",
       "    <tr>\n",
       "      <td>0</td>\n",
       "      <td>login</td>\n",
       "      <td>7387</td>\n",
       "      <td>0.438658</td>\n",
       "      <td>8566</td>\n",
       "      <td>0.443742</td>\n",
       "      <td>13.763717</td>\n",
       "    </tr>\n",
       "    <tr>\n",
       "      <td>1</td>\n",
       "      <td>product_page</td>\n",
       "      <td>4828</td>\n",
       "      <td>0.286698</td>\n",
       "      <td>5525</td>\n",
       "      <td>0.286210</td>\n",
       "      <td>12.615385</td>\n",
       "    </tr>\n",
       "    <tr>\n",
       "      <td>2</td>\n",
       "      <td>purchase</td>\n",
       "      <td>2360</td>\n",
       "      <td>0.140143</td>\n",
       "      <td>2655</td>\n",
       "      <td>0.137536</td>\n",
       "      <td>11.111111</td>\n",
       "    </tr>\n",
       "    <tr>\n",
       "      <td>3</td>\n",
       "      <td>product_cart</td>\n",
       "      <td>2265</td>\n",
       "      <td>0.134501</td>\n",
       "      <td>2558</td>\n",
       "      <td>0.132511</td>\n",
       "      <td>11.454261</td>\n",
       "    </tr>\n",
       "  </tbody>\n",
       "</table>\n",
       "</div>"
      ],
      "text/plain": [
       "     event_name  count_events_right  frequencie_right  count_event  \\\n",
       "0         login                7387          0.438658         8566   \n",
       "1  product_page                4828          0.286698         5525   \n",
       "2      purchase                2360          0.140143         2655   \n",
       "3  product_cart                2265          0.134501         2558   \n",
       "\n",
       "   frequencie  lost_events  \n",
       "0    0.443742    13.763717  \n",
       "1    0.286210    12.615385  \n",
       "2    0.137536    11.111111  \n",
       "3    0.132511    11.454261  "
      ]
     },
     "execution_count": 33,
     "metadata": {},
     "output_type": "execute_result"
    }
   ],
   "source": [
    "#объединяем frequencieA и frequencieA_right по столбцу 'event_name'\n",
    "frequencieA=frequencieA_right.merge(frequencieA, on='event_name')\n",
    "#рассчитываем процентное соотношение изменений \n",
    "frequencieA['lost_events']=(frequencieA['count_event']-frequencieA['count_events_right'])/frequencieA['count_event']*100\n",
    "#смотрим итогувую таблицу\n",
    "frequencieA"
   ]
  },
  {
   "cell_type": "markdown",
   "metadata": {},
   "source": [
    "Потеря данных в любом виде событий составила от 11 до 14 процентов,однако частота рспределения событий не изменилась. Следовательно такие ограничение на диапозон событий не составляют больших помех для группы А.\n"
   ]
  },
  {
   "cell_type": "markdown",
   "metadata": {},
   "source": [
    "Прлведём аналогичный ананлиз для группы B."
   ]
  },
  {
   "cell_type": "code",
   "execution_count": 34,
   "metadata": {},
   "outputs": [
    {
     "data": {
      "text/html": [
       "<div>\n",
       "<style scoped>\n",
       "    .dataframe tbody tr th:only-of-type {\n",
       "        vertical-align: middle;\n",
       "    }\n",
       "\n",
       "    .dataframe tbody tr th {\n",
       "        vertical-align: top;\n",
       "    }\n",
       "\n",
       "    .dataframe thead th {\n",
       "        text-align: right;\n",
       "    }\n",
       "</style>\n",
       "<table border=\"1\" class=\"dataframe\">\n",
       "  <thead>\n",
       "    <tr style=\"text-align: right;\">\n",
       "      <th></th>\n",
       "      <th>event_name</th>\n",
       "      <th>count_event</th>\n",
       "      <th>frequencie</th>\n",
       "    </tr>\n",
       "  </thead>\n",
       "  <tbody>\n",
       "    <tr>\n",
       "      <td>0</td>\n",
       "      <td>login</td>\n",
       "      <td>1976</td>\n",
       "      <td>0.485862</td>\n",
       "    </tr>\n",
       "    <tr>\n",
       "      <td>2</td>\n",
       "      <td>product_page</td>\n",
       "      <td>1048</td>\n",
       "      <td>0.257684</td>\n",
       "    </tr>\n",
       "    <tr>\n",
       "      <td>1</td>\n",
       "      <td>product_cart</td>\n",
       "      <td>533</td>\n",
       "      <td>0.131055</td>\n",
       "    </tr>\n",
       "    <tr>\n",
       "      <td>3</td>\n",
       "      <td>purchase</td>\n",
       "      <td>510</td>\n",
       "      <td>0.125400</td>\n",
       "    </tr>\n",
       "  </tbody>\n",
       "</table>\n",
       "</div>"
      ],
      "text/plain": [
       "     event_name  count_event  frequencie\n",
       "0         login         1976    0.485862\n",
       "2  product_page         1048    0.257684\n",
       "1  product_cart          533    0.131055\n",
       "3      purchase          510    0.125400"
      ]
     },
     "execution_count": 34,
     "metadata": {},
     "output_type": "execute_result"
    }
   ],
   "source": [
    "#создаем таблицу частот событий группы B, в которой сначала посчитаем число логов с конкретным типом событий\n",
    "frequencieB=(testB_data.groupby('event_name')['user_id']\n",
    "             .count()\n",
    "             .reset_index()\n",
    "            )\n",
    "#переименуем столбец 'user_id' в 'count_event' методом .rename() с указанием inplace = True,чтобы не пересохранять датафрейм\n",
    "frequencieB.rename(columns = {'user_id':'count_event'}, inplace = True)\n",
    "#и, наконец, добавляем столбец частоты frequencie\n",
    "frequencieB['frequencie']=frequencieB['count_event']/all_eventsB\n",
    "frequencieB.sort_values('frequencie', ascending=False)"
   ]
  },
  {
   "cell_type": "code",
   "execution_count": 35,
   "metadata": {},
   "outputs": [
    {
     "data": {
      "text/html": [
       "<div>\n",
       "<style scoped>\n",
       "    .dataframe tbody tr th:only-of-type {\n",
       "        vertical-align: middle;\n",
       "    }\n",
       "\n",
       "    .dataframe tbody tr th {\n",
       "        vertical-align: top;\n",
       "    }\n",
       "\n",
       "    .dataframe thead th {\n",
       "        text-align: right;\n",
       "    }\n",
       "</style>\n",
       "<table border=\"1\" class=\"dataframe\">\n",
       "  <thead>\n",
       "    <tr style=\"text-align: right;\">\n",
       "      <th></th>\n",
       "      <th>event_name</th>\n",
       "      <th>count_events_right</th>\n",
       "      <th>frequencie_right</th>\n",
       "    </tr>\n",
       "  </thead>\n",
       "  <tbody>\n",
       "    <tr>\n",
       "      <td>0</td>\n",
       "      <td>login</td>\n",
       "      <td>1337</td>\n",
       "      <td>0.489385</td>\n",
       "    </tr>\n",
       "    <tr>\n",
       "      <td>1</td>\n",
       "      <td>product_page</td>\n",
       "      <td>693</td>\n",
       "      <td>0.253660</td>\n",
       "    </tr>\n",
       "    <tr>\n",
       "      <td>2</td>\n",
       "      <td>product_cart</td>\n",
       "      <td>363</td>\n",
       "      <td>0.132870</td>\n",
       "    </tr>\n",
       "    <tr>\n",
       "      <td>3</td>\n",
       "      <td>purchase</td>\n",
       "      <td>339</td>\n",
       "      <td>0.124085</td>\n",
       "    </tr>\n",
       "  </tbody>\n",
       "</table>\n",
       "</div>"
      ],
      "text/plain": [
       "     event_name  count_events_right  frequencie_right\n",
       "0         login                1337          0.489385\n",
       "1  product_page                 693          0.253660\n",
       "2  product_cart                 363          0.132870\n",
       "3      purchase                 339          0.124085"
      ]
     },
     "execution_count": 35,
     "metadata": {},
     "output_type": "execute_result"
    }
   ],
   "source": [
    "#посчитаем количество логов каждого вида событий в отсортированных данных, применяя .value_counts()\n",
    "#также уберем названия событий из индексов при помощи .reset_index(), сохраняем данные в frequencieB_right \n",
    "frequencieB_right=testB_data_['event_name'].value_counts().reset_index()\n",
    "#переименуем столбцы методом .columns\n",
    "frequencieB_right.columns=['event_name','count_events_right']\n",
    "frequencieB_right['frequencie_right']=frequencieB_right['count_events_right']/len(testB_data_)\n",
    "#отсортируем наименования событий по алфавиту .sort_values('event_name')\n",
    "frequencieB_right=frequencieB_right.sort_values('count_events_right', ascending=False)\n",
    "frequencieB_right"
   ]
  },
  {
   "cell_type": "code",
   "execution_count": 36,
   "metadata": {},
   "outputs": [
    {
     "data": {
      "text/html": [
       "<div>\n",
       "<style scoped>\n",
       "    .dataframe tbody tr th:only-of-type {\n",
       "        vertical-align: middle;\n",
       "    }\n",
       "\n",
       "    .dataframe tbody tr th {\n",
       "        vertical-align: top;\n",
       "    }\n",
       "\n",
       "    .dataframe thead th {\n",
       "        text-align: right;\n",
       "    }\n",
       "</style>\n",
       "<table border=\"1\" class=\"dataframe\">\n",
       "  <thead>\n",
       "    <tr style=\"text-align: right;\">\n",
       "      <th></th>\n",
       "      <th>event_name</th>\n",
       "      <th>count_events_right</th>\n",
       "      <th>frequencie_right</th>\n",
       "      <th>count_event</th>\n",
       "      <th>frequencie</th>\n",
       "      <th>lost_events</th>\n",
       "    </tr>\n",
       "  </thead>\n",
       "  <tbody>\n",
       "    <tr>\n",
       "      <td>0</td>\n",
       "      <td>login</td>\n",
       "      <td>1337</td>\n",
       "      <td>0.489385</td>\n",
       "      <td>1976</td>\n",
       "      <td>0.485862</td>\n",
       "      <td>32.338057</td>\n",
       "    </tr>\n",
       "    <tr>\n",
       "      <td>1</td>\n",
       "      <td>product_page</td>\n",
       "      <td>693</td>\n",
       "      <td>0.253660</td>\n",
       "      <td>1048</td>\n",
       "      <td>0.257684</td>\n",
       "      <td>33.874046</td>\n",
       "    </tr>\n",
       "    <tr>\n",
       "      <td>2</td>\n",
       "      <td>product_cart</td>\n",
       "      <td>363</td>\n",
       "      <td>0.132870</td>\n",
       "      <td>533</td>\n",
       "      <td>0.131055</td>\n",
       "      <td>31.894934</td>\n",
       "    </tr>\n",
       "    <tr>\n",
       "      <td>3</td>\n",
       "      <td>purchase</td>\n",
       "      <td>339</td>\n",
       "      <td>0.124085</td>\n",
       "      <td>510</td>\n",
       "      <td>0.125400</td>\n",
       "      <td>33.529412</td>\n",
       "    </tr>\n",
       "  </tbody>\n",
       "</table>\n",
       "</div>"
      ],
      "text/plain": [
       "     event_name  count_events_right  frequencie_right  count_event  \\\n",
       "0         login                1337          0.489385         1976   \n",
       "1  product_page                 693          0.253660         1048   \n",
       "2  product_cart                 363          0.132870          533   \n",
       "3      purchase                 339          0.124085          510   \n",
       "\n",
       "   frequencie  lost_events  \n",
       "0    0.485862    32.338057  \n",
       "1    0.257684    33.874046  \n",
       "2    0.131055    31.894934  \n",
       "3    0.125400    33.529412  "
      ]
     },
     "execution_count": 36,
     "metadata": {},
     "output_type": "execute_result"
    }
   ],
   "source": [
    "#объединяем frequencieB и frequencieB_right по столбцу 'event_name'\n",
    "frequencieB=frequencieB_right.merge(frequencieB, on='event_name')\n",
    "#рассчитываем процентное соотношение изменений \n",
    "frequencieB['lost_events']=(frequencieB['count_event']-frequencieB['count_events_right'])/frequencieB['count_event']*100\n",
    "#смотрим итогувую таблицу\n",
    "frequencieB"
   ]
  },
  {
   "cell_type": "markdown",
   "metadata": {},
   "source": [
    "Потеря данных в любом виде событий составила от 32 до 34 процентов, что составляет треть данных, и не смотря на то что частота распределения событий не изменилась, такая потеря данных уже критическая. Однако мы не можем оставлять потерянные данные, так как периоды анализа событий тестовой и контрольной группы должны совпадать, поэтому придется пожертвовать весомым объемом группы B и работать в дальнейшем с отфильтрованными данными, которые хранятся в датасетах testA_data_ и testB_data_."
   ]
  },
  {
   "cell_type": "markdown",
   "metadata": {},
   "source": [
    "Также можно отметить,что в обоих группах самыми частыми событиями были ВХОД в личный кабинет и просмотр продуктовых карточек, а вот покупка и просмотр карзины намного реже совершаются."
   ]
  },
  {
   "cell_type": "markdown",
   "metadata": {},
   "source": [
    "### Определение числа событий, приходящихся на одного пользователя <a id=\"events_users\"></a>"
   ]
  },
  {
   "cell_type": "markdown",
   "metadata": {},
   "source": [
    "Ещё проверим сколько событий приходится на одного пользователя в каждой группе. Для этого посчитаем сколько событий совершил каждый пользователь, а затем построим гистограмму распределения числа событий по пользователям."
   ]
  },
  {
   "cell_type": "code",
   "execution_count": 37,
   "metadata": {},
   "outputs": [
    {
     "data": {
      "text/html": [
       "<div>\n",
       "<style scoped>\n",
       "    .dataframe tbody tr th:only-of-type {\n",
       "        vertical-align: middle;\n",
       "    }\n",
       "\n",
       "    .dataframe tbody tr th {\n",
       "        vertical-align: top;\n",
       "    }\n",
       "\n",
       "    .dataframe thead th {\n",
       "        text-align: right;\n",
       "    }\n",
       "</style>\n",
       "<table border=\"1\" class=\"dataframe\">\n",
       "  <thead>\n",
       "    <tr style=\"text-align: right;\">\n",
       "      <th></th>\n",
       "      <th>count_event</th>\n",
       "      <th>count_users</th>\n",
       "    </tr>\n",
       "  </thead>\n",
       "  <tbody>\n",
       "    <tr>\n",
       "      <td>5</td>\n",
       "      <td>6</td>\n",
       "      <td>541</td>\n",
       "    </tr>\n",
       "    <tr>\n",
       "      <td>3</td>\n",
       "      <td>4</td>\n",
       "      <td>413</td>\n",
       "    </tr>\n",
       "    <tr>\n",
       "      <td>1</td>\n",
       "      <td>2</td>\n",
       "      <td>292</td>\n",
       "    </tr>\n",
       "    <tr>\n",
       "      <td>6</td>\n",
       "      <td>8</td>\n",
       "      <td>247</td>\n",
       "    </tr>\n",
       "    <tr>\n",
       "      <td>7</td>\n",
       "      <td>9</td>\n",
       "      <td>243</td>\n",
       "    </tr>\n",
       "    <tr>\n",
       "      <td>2</td>\n",
       "      <td>3</td>\n",
       "      <td>241</td>\n",
       "    </tr>\n",
       "    <tr>\n",
       "      <td>10</td>\n",
       "      <td>12</td>\n",
       "      <td>227</td>\n",
       "    </tr>\n",
       "    <tr>\n",
       "      <td>8</td>\n",
       "      <td>10</td>\n",
       "      <td>84</td>\n",
       "    </tr>\n",
       "    <tr>\n",
       "      <td>0</td>\n",
       "      <td>1</td>\n",
       "      <td>77</td>\n",
       "    </tr>\n",
       "    <tr>\n",
       "      <td>12</td>\n",
       "      <td>15</td>\n",
       "      <td>72</td>\n",
       "    </tr>\n",
       "    <tr>\n",
       "      <td>13</td>\n",
       "      <td>16</td>\n",
       "      <td>33</td>\n",
       "    </tr>\n",
       "    <tr>\n",
       "      <td>4</td>\n",
       "      <td>5</td>\n",
       "      <td>30</td>\n",
       "    </tr>\n",
       "    <tr>\n",
       "      <td>17</td>\n",
       "      <td>20</td>\n",
       "      <td>24</td>\n",
       "    </tr>\n",
       "    <tr>\n",
       "      <td>15</td>\n",
       "      <td>18</td>\n",
       "      <td>16</td>\n",
       "    </tr>\n",
       "    <tr>\n",
       "      <td>11</td>\n",
       "      <td>14</td>\n",
       "      <td>12</td>\n",
       "    </tr>\n",
       "    <tr>\n",
       "      <td>18</td>\n",
       "      <td>21</td>\n",
       "      <td>2</td>\n",
       "    </tr>\n",
       "    <tr>\n",
       "      <td>19</td>\n",
       "      <td>24</td>\n",
       "      <td>2</td>\n",
       "    </tr>\n",
       "    <tr>\n",
       "      <td>9</td>\n",
       "      <td>11</td>\n",
       "      <td>1</td>\n",
       "    </tr>\n",
       "    <tr>\n",
       "      <td>14</td>\n",
       "      <td>17</td>\n",
       "      <td>1</td>\n",
       "    </tr>\n",
       "    <tr>\n",
       "      <td>16</td>\n",
       "      <td>19</td>\n",
       "      <td>1</td>\n",
       "    </tr>\n",
       "  </tbody>\n",
       "</table>\n",
       "</div>"
      ],
      "text/plain": [
       "    count_event  count_users\n",
       "5             6          541\n",
       "3             4          413\n",
       "1             2          292\n",
       "6             8          247\n",
       "7             9          243\n",
       "2             3          241\n",
       "10           12          227\n",
       "8            10           84\n",
       "0             1           77\n",
       "12           15           72\n",
       "13           16           33\n",
       "4             5           30\n",
       "17           20           24\n",
       "15           18           16\n",
       "11           14           12\n",
       "18           21            2\n",
       "19           24            2\n",
       "9            11            1\n",
       "14           17            1\n",
       "16           19            1"
      ]
     },
     "execution_count": 37,
     "metadata": {},
     "output_type": "execute_result"
    }
   ],
   "source": [
    "#группируем данные методом groupby по айди пользователей и считаем число событий приходящихся на них\n",
    "event_usersA=testA_data_.groupby('user_id')['event_name'].count().reset_index()\n",
    "#переименновываем столбцы для восприятия понимания содержания столбцов\n",
    "event_usersA.columns=['user_id','count_event']\n",
    "#группируем данные event_usersе по количеству событий и считаем сколько пользователей соверило такое число событий\n",
    "group_countA=event_usersA.groupby('count_event')['user_id'].count().reset_index().sort_values('user_id', ascending=False)\n",
    "#переименновываем столбцы для восприятия понимания содержания столбцов\n",
    "group_countA.columns=['count_event','count_users']\n",
    "group_countA"
   ]
  },
  {
   "cell_type": "markdown",
   "metadata": {},
   "source": [
    "Аналогичные расчёты делаем в группе B"
   ]
  },
  {
   "cell_type": "code",
   "execution_count": 38,
   "metadata": {},
   "outputs": [
    {
     "data": {
      "text/html": [
       "<div>\n",
       "<style scoped>\n",
       "    .dataframe tbody tr th:only-of-type {\n",
       "        vertical-align: middle;\n",
       "    }\n",
       "\n",
       "    .dataframe tbody tr th {\n",
       "        vertical-align: top;\n",
       "    }\n",
       "\n",
       "    .dataframe thead th {\n",
       "        text-align: right;\n",
       "    }\n",
       "</style>\n",
       "<table border=\"1\" class=\"dataframe\">\n",
       "  <thead>\n",
       "    <tr style=\"text-align: right;\">\n",
       "      <th></th>\n",
       "      <th>count_event</th>\n",
       "      <th>count_users</th>\n",
       "    </tr>\n",
       "  </thead>\n",
       "  <tbody>\n",
       "    <tr>\n",
       "      <td>3</td>\n",
       "      <td>4</td>\n",
       "      <td>131</td>\n",
       "    </tr>\n",
       "    <tr>\n",
       "      <td>1</td>\n",
       "      <td>2</td>\n",
       "      <td>125</td>\n",
       "    </tr>\n",
       "    <tr>\n",
       "      <td>2</td>\n",
       "      <td>3</td>\n",
       "      <td>104</td>\n",
       "    </tr>\n",
       "    <tr>\n",
       "      <td>5</td>\n",
       "      <td>6</td>\n",
       "      <td>102</td>\n",
       "    </tr>\n",
       "    <tr>\n",
       "      <td>0</td>\n",
       "      <td>1</td>\n",
       "      <td>37</td>\n",
       "    </tr>\n",
       "    <tr>\n",
       "      <td>8</td>\n",
       "      <td>9</td>\n",
       "      <td>36</td>\n",
       "    </tr>\n",
       "    <tr>\n",
       "      <td>7</td>\n",
       "      <td>8</td>\n",
       "      <td>32</td>\n",
       "    </tr>\n",
       "    <tr>\n",
       "      <td>10</td>\n",
       "      <td>12</td>\n",
       "      <td>23</td>\n",
       "    </tr>\n",
       "    <tr>\n",
       "      <td>4</td>\n",
       "      <td>5</td>\n",
       "      <td>7</td>\n",
       "    </tr>\n",
       "    <tr>\n",
       "      <td>9</td>\n",
       "      <td>10</td>\n",
       "      <td>7</td>\n",
       "    </tr>\n",
       "    <tr>\n",
       "      <td>6</td>\n",
       "      <td>7</td>\n",
       "      <td>1</td>\n",
       "    </tr>\n",
       "    <tr>\n",
       "      <td>11</td>\n",
       "      <td>14</td>\n",
       "      <td>1</td>\n",
       "    </tr>\n",
       "    <tr>\n",
       "      <td>12</td>\n",
       "      <td>15</td>\n",
       "      <td>1</td>\n",
       "    </tr>\n",
       "  </tbody>\n",
       "</table>\n",
       "</div>"
      ],
      "text/plain": [
       "    count_event  count_users\n",
       "3             4          131\n",
       "1             2          125\n",
       "2             3          104\n",
       "5             6          102\n",
       "0             1           37\n",
       "8             9           36\n",
       "7             8           32\n",
       "10           12           23\n",
       "4             5            7\n",
       "9            10            7\n",
       "6             7            1\n",
       "11           14            1\n",
       "12           15            1"
      ]
     },
     "execution_count": 38,
     "metadata": {},
     "output_type": "execute_result"
    }
   ],
   "source": [
    "#группируем данные методом groupby по айди пользователей и считаем число событий приходящихся на них\n",
    "event_usersB=testB_data_.groupby('user_id')['event_name'].count().reset_index()\n",
    "#переименновываем столбцы для восприятия понимания содержания столбцов\n",
    "event_usersB.columns=['user_id','count_event']\n",
    "#группируем данные event_usersе по количеству событий и считаем сколько пользователей соверило такое число событий\n",
    "group_countB=event_usersB.groupby('count_event')['user_id'].count().reset_index().sort_values('user_id', ascending=False)\n",
    "#переименновываем столбцы для восприятия понимания содержания столбцов\n",
    "group_countB.columns=['count_event','count_users']\n",
    "group_countB"
   ]
  },
  {
   "cell_type": "code",
   "execution_count": 39,
   "metadata": {},
   "outputs": [
    {
     "data": {
      "text/plain": [
       "Text(0.5, 1.0, 'Распределние числа пользователей по количеству \\n ,совершенных событий, в группе B')"
      ]
     },
     "execution_count": 39,
     "metadata": {},
     "output_type": "execute_result"
    },
    {
     "data": {
      "image/png": "[encoded data removed]",
      "text/plain": [
       "<Figure size 1080x432 with 2 Axes>"
      ]
     },
     "metadata": {
      "needs_background": "light"
     },
     "output_type": "display_data"
    }
   ],
   "source": [
    "#визуализируем число пользователей по числу событий при помощи графика seaborn.countplot() \n",
    "fig, axes = plt.subplots(1, 2, figsize=(15, 6));\n",
    "#plt.subplot(1,2,1)\n",
    "for i,df in enumerate([event_usersA,event_usersB]):\n",
    "    sns.countplot(x='count_event',data=df, ax=axes[i])\n",
    "    axes[i].set_ylabel('Число пользователей')\n",
    "    axes[i].set_xlabel('Число событий')\n",
    "axes[0].set_title('Распределние числа пользователей по количеству \\n ,совершенных событий, в группе А')\n",
    "axes[1].set_title('Распределние числа пользователей по количеству \\n ,совершенных событий, в группе B')"
   ]
  },
  {
   "cell_type": "code",
   "execution_count": 40,
   "metadata": {},
   "outputs": [
    {
     "data": {
      "text/plain": [
       "Text(0.5, 1.0, 'Распределние числа пользователей \\n по количеству видов событий  в группе B')"
      ]
     },
     "execution_count": 40,
     "metadata": {},
     "output_type": "execute_result"
    },
    {
     "data": {
      "image/png": "[encoded data removed]",
      "text/plain": [
       "<Figure size 1080x432 with 2 Axes>"
      ]
     },
     "metadata": {
      "needs_background": "light"
     },
     "output_type": "display_data"
    }
   ],
   "source": [
    "#также проверим распределение числа пользователей по количеству видов событий\n",
    "fig, axes = plt.subplots(1, 2, figsize=(15, 6));\n",
    "for i,df in enumerate([testA_data_,testB_data_]):\n",
    "    sns.countplot(df.groupby('user_id')['event_name'].nunique(), ax=axes[i])\n",
    "    axes[i].set_ylabel('Число пользователей')\n",
    "    axes[i].set_xlabel('Число видов событий')\n",
    "axes[0].set_title('Распределние числа пользователей \\n по количеству видов событий  в группе А')\n",
    "axes[1].set_title('Распределние числа пользователей \\n по количеству видов событий  в группе B')"
   ]
  },
  {
   "cell_type": "code",
   "execution_count": 41,
   "metadata": {},
   "outputs": [
    {
     "name": "stdout",
     "output_type": "stream",
     "text": [
      "Медианное число событий, приходящихся на одного пользователя в группе А:  6.0\n",
      "Медианное число событий, приходящихся на одного пользователя в группе B:  4.0\n"
     ]
    }
   ],
   "source": [
    "#посчитаем количество логов, приходящихся на каждого пользователя, применяя .value_counts()\n",
    "#а затем методом median() найдём медианное число событий, которые приходятся на одного пользователя\n",
    "#искать среднее не имеет смысла, так как есть пользователи с числом событий больше 10,а это уже можно считать выбросами\n",
    "print('Медианное число событий, приходящихся на одного пользователя в группе А: '\n",
    "      ,testA_data_['user_id'].value_counts().median())\n",
    "print('Медианное число событий, приходящихся на одного пользователя в группе B: '\n",
    "      ,testB_data_['user_id'].value_counts().median())"
   ]
  },
  {
   "cell_type": "markdown",
   "metadata": {},
   "source": [
    "Число событий на пользователя между группами распределенно почти одинаково. Большинство пользователей совершают от 4 до 6 событий, и лишь малая часть людей соверают больше 12 событий, но ввиду неодинакового распределения пользователей между группами в группе А присуствуют users , которые совершают большее число событий, чем  группе в группе B. \n",
    "Также можно сказать, что большинство пользователей совершают по 2-3 вида событий, некоторые люди затрагивают лишь один вид и совсем малая часть всех users совершают 4 события продуктовой воронки."
   ]
  },
  {
   "cell_type": "markdown",
   "metadata": {},
   "source": [
    "### Вывод"
   ]
  },
  {
   "cell_type": "markdown",
   "metadata": {},
   "source": [
    "Во время анализа распредления числа событий тестовой и контрольной группы была обнаружена ещё одна проблема-неравномерное число событий между днями набора новых пользователей и непосредствено дней проведения теста. Так пришлось из-за неполноты данных ограничиться справой стороны датой 29 декабря (после этой даты данные были не предоставлены), а слевой стороны ограничиться 14 декабрём из-за поведения контрольной группы  A. Пересечений пользователей между контрлем и тестом не обнаружено, что хорошо, но было выявлено не большое различие в частоте совершения действий: в контрольной группе  в среднем совершается 6 действий одним пользователем, в то время как в тестовой-4 дествия. Такая ситуация может быть связана с тем,что выборки выбраны не в равных доях, и если бы в группе B пользователей было на 1000 больше, ситуация могла быть иначе, либо эо связано с работой новой рекомендательной системы, где ляюдям приходится меньше совершать действий."
   ]
  },
  {
   "cell_type": "markdown",
   "metadata": {},
   "source": [
    "## 4. Работа с продуктовой воронкой <a id=\"work_with_funnel\"></a>"
   ]
  },
  {
   "cell_type": "markdown",
   "metadata": {},
   "source": [
    "### Работа с пользователями, которые совершают  события <a id=\"work_with_users\"></a>\n",
    "\n",
    "Ранее уже была получена частота событий в тестовой и котнрольной группе. Теперь определим количество пользователей, которые совершали каждое из видов событий, а также посчитаем долю пользователей, которые хоть раз совершали событие."
   ]
  },
  {
   "cell_type": "code",
   "execution_count": 42,
   "metadata": {},
   "outputs": [
    {
     "data": {
      "text/html": [
       "<div>\n",
       "<style scoped>\n",
       "    .dataframe tbody tr th:only-of-type {\n",
       "        vertical-align: middle;\n",
       "    }\n",
       "\n",
       "    .dataframe tbody tr th {\n",
       "        vertical-align: top;\n",
       "    }\n",
       "\n",
       "    .dataframe thead th {\n",
       "        text-align: right;\n",
       "    }\n",
       "</style>\n",
       "<table border=\"1\" class=\"dataframe\">\n",
       "  <thead>\n",
       "    <tr style=\"text-align: right;\">\n",
       "      <th></th>\n",
       "      <th>event_name</th>\n",
       "      <th>count_users</th>\n",
       "      <th>part</th>\n",
       "    </tr>\n",
       "  </thead>\n",
       "  <tbody>\n",
       "    <tr>\n",
       "      <td>0</td>\n",
       "      <td>login</td>\n",
       "      <td>2559</td>\n",
       "      <td>1.000</td>\n",
       "    </tr>\n",
       "    <tr>\n",
       "      <td>2</td>\n",
       "      <td>product_page</td>\n",
       "      <td>1665</td>\n",
       "      <td>0.651</td>\n",
       "    </tr>\n",
       "    <tr>\n",
       "      <td>3</td>\n",
       "      <td>purchase</td>\n",
       "      <td>812</td>\n",
       "      <td>0.317</td>\n",
       "    </tr>\n",
       "    <tr>\n",
       "      <td>1</td>\n",
       "      <td>product_cart</td>\n",
       "      <td>777</td>\n",
       "      <td>0.304</td>\n",
       "    </tr>\n",
       "  </tbody>\n",
       "</table>\n",
       "</div>"
      ],
      "text/plain": [
       "     event_name  count_users   part\n",
       "0         login         2559  1.000\n",
       "2  product_page         1665  0.651\n",
       "3      purchase          812  0.317\n",
       "1  product_cart          777  0.304"
      ]
     },
     "execution_count": 42,
     "metadata": {},
     "output_type": "execute_result"
    }
   ],
   "source": [
    "#сгруппируем данные по событиям и для каждого из них посчитаем число уникальных пользователей\n",
    "event_usersA=(testA_data_.groupby('event_name', as_index=False)\n",
    "             .agg({'user_id':'nunique'})\n",
    "             .sort_values('user_id')\n",
    "             .rename(columns={'user_id':'count_users'})\n",
    "            )\n",
    "#сохраняем бщее число пользователей в переменную total_users\n",
    "total_usersA=testA_data_['user_id'].nunique()\n",
    "#поделим стлобец 'count_users' на 'total_users' для получения доли пользователей, которые хоть раз совершали событие\n",
    "event_usersA['part']=(event_usersA['count_users']/total_usersA).round(3)\n",
    "#сортируем события по доли sort_values() \n",
    "event_usersA=event_usersA.sort_values('part',ascending=False) \n",
    "event_usersA"
   ]
  },
  {
   "cell_type": "code",
   "execution_count": 43,
   "metadata": {},
   "outputs": [
    {
     "data": {
      "text/html": [
       "<div>\n",
       "<style scoped>\n",
       "    .dataframe tbody tr th:only-of-type {\n",
       "        vertical-align: middle;\n",
       "    }\n",
       "\n",
       "    .dataframe tbody tr th {\n",
       "        vertical-align: top;\n",
       "    }\n",
       "\n",
       "    .dataframe thead th {\n",
       "        text-align: right;\n",
       "    }\n",
       "</style>\n",
       "<table border=\"1\" class=\"dataframe\">\n",
       "  <thead>\n",
       "    <tr style=\"text-align: right;\">\n",
       "      <th></th>\n",
       "      <th>event_name</th>\n",
       "      <th>count_users</th>\n",
       "      <th>part</th>\n",
       "    </tr>\n",
       "  </thead>\n",
       "  <tbody>\n",
       "    <tr>\n",
       "      <td>0</td>\n",
       "      <td>login</td>\n",
       "      <td>607</td>\n",
       "      <td>1.000</td>\n",
       "    </tr>\n",
       "    <tr>\n",
       "      <td>2</td>\n",
       "      <td>product_page</td>\n",
       "      <td>342</td>\n",
       "      <td>0.563</td>\n",
       "    </tr>\n",
       "    <tr>\n",
       "      <td>3</td>\n",
       "      <td>purchase</td>\n",
       "      <td>171</td>\n",
       "      <td>0.282</td>\n",
       "    </tr>\n",
       "    <tr>\n",
       "      <td>1</td>\n",
       "      <td>product_cart</td>\n",
       "      <td>169</td>\n",
       "      <td>0.278</td>\n",
       "    </tr>\n",
       "  </tbody>\n",
       "</table>\n",
       "</div>"
      ],
      "text/plain": [
       "     event_name  count_users   part\n",
       "0         login          607  1.000\n",
       "2  product_page          342  0.563\n",
       "3      purchase          171  0.282\n",
       "1  product_cart          169  0.278"
      ]
     },
     "execution_count": 43,
     "metadata": {},
     "output_type": "execute_result"
    }
   ],
   "source": [
    "#сгруппируем данные по событиям и для каждого из них посчитаем число уникальных пользователей\n",
    "event_usersB=(testB_data_.groupby('event_name', as_index=False)\n",
    "             .agg({'user_id':'nunique'})\n",
    "             .sort_values('user_id')\n",
    "             .rename(columns={'user_id':'count_users'})\n",
    "            )\n",
    "#сохраняем бщее число пользователей в переменную total_users\n",
    "total_usersB=testB_data_['user_id'].nunique()\n",
    "#поделим стлобец 'count_users' на 'total_users' для получения доли пользователей, которые хоть раз совершали событие\n",
    "event_usersB['part']=(event_usersB['count_users']/total_usersB).round(3)\n",
    "#сортируем события по доли sort_values() \n",
    "event_usersB=event_usersB.sort_values('part',ascending=False) \n",
    "event_usersB"
   ]
  },
  {
   "cell_type": "markdown",
   "metadata": {},
   "source": [
    "Для обоих групп совпадает доля пользователей, которые хоть раз совершали каждый вид события, но распределение событий по доли пользователей не совпадает с частотой событий в логах. Не смотря на то число пользователей, которые совершают покупку выше числа пользователей, которые просматривают продуктовую карзину, частота посещения корзины выше, чем частота совершения покупки, а это значит, что возможно существует какой-то баг или неудобство работы с интерфейсом на этапе корзина-покупка и люди просто не могут приступить к покупке и им приходится несколько раз переходить в корзину, либо после каждого добавления товара пользователи переходят в корзину, поэтому разработчикам следует перепроверить работу системы."
   ]
  },
  {
   "cell_type": "markdown",
   "metadata": {},
   "source": [
    "Создание и анализ воронки будем осуществлять на всей аудитории теста, поэтому объединим тестовую и контрольную группы."
   ]
  },
  {
   "cell_type": "code",
   "execution_count": 44,
   "metadata": {},
   "outputs": [
    {
     "data": {
      "text/html": [
       "<div>\n",
       "<style scoped>\n",
       "    .dataframe tbody tr th:only-of-type {\n",
       "        vertical-align: middle;\n",
       "    }\n",
       "\n",
       "    .dataframe tbody tr th {\n",
       "        vertical-align: top;\n",
       "    }\n",
       "\n",
       "    .dataframe thead th {\n",
       "        text-align: right;\n",
       "    }\n",
       "</style>\n",
       "<table border=\"1\" class=\"dataframe\">\n",
       "  <thead>\n",
       "    <tr style=\"text-align: right;\">\n",
       "      <th></th>\n",
       "      <th>event_name</th>\n",
       "      <th>count_users</th>\n",
       "      <th>part</th>\n",
       "    </tr>\n",
       "  </thead>\n",
       "  <tbody>\n",
       "    <tr>\n",
       "      <td>0</td>\n",
       "      <td>login</td>\n",
       "      <td>3166</td>\n",
       "      <td>1.000</td>\n",
       "    </tr>\n",
       "    <tr>\n",
       "      <td>2</td>\n",
       "      <td>product_page</td>\n",
       "      <td>2007</td>\n",
       "      <td>0.634</td>\n",
       "    </tr>\n",
       "    <tr>\n",
       "      <td>3</td>\n",
       "      <td>purchase</td>\n",
       "      <td>983</td>\n",
       "      <td>0.310</td>\n",
       "    </tr>\n",
       "    <tr>\n",
       "      <td>1</td>\n",
       "      <td>product_cart</td>\n",
       "      <td>946</td>\n",
       "      <td>0.299</td>\n",
       "    </tr>\n",
       "  </tbody>\n",
       "</table>\n",
       "</div>"
      ],
      "text/plain": [
       "     event_name  count_users   part\n",
       "0         login         3166  1.000\n",
       "2  product_page         2007  0.634\n",
       "3      purchase          983  0.310\n",
       "1  product_cart          946  0.299"
      ]
     },
     "execution_count": 44,
     "metadata": {},
     "output_type": "execute_result"
    }
   ],
   "source": [
    "#allTestdata будет хранить данные тестовой и контрольной группы, для этого при помощи метоад concat() соединим два датафрейма\n",
    "allTestdata=pd.concat([testA_data_,testB_data_]).reset_index(drop=True)\n",
    "#event_users-таблица, которая будет хранить информацию о распределнии всех пользователей обоих групп по событиям\n",
    "event_users=(allTestdata.groupby('event_name', as_index=False)\n",
    "             .agg({'user_id':'nunique'})\n",
    "             .sort_values('user_id')\n",
    "             .rename(columns={'user_id':'count_users'})\n",
    "            )\n",
    "#сохраняем бщее число пользователей в переменную total_users\n",
    "total_users=allTestdata['user_id'].nunique()\n",
    "#поделим стлобец 'count_users' на 'total_users' для получения доли пользователей, которые хоть раз совершали событие\n",
    "event_users['part']=(event_users['count_users']/total_users).round(3)\n",
    "#сортируем события по доли sort_values() \n",
    "event_users=event_users.sort_values('part',ascending=False) \n",
    "event_users"
   ]
  },
  {
   "cell_type": "markdown",
   "metadata": {},
   "source": [
    "### Порядк событий <a id=\"order_of_events\"></a>\n",
    "\n",
    "Не смотря на долевое отношение пользователей, для воронки была выбрана следующуя цепочки действий схожая с частотой распределения событий: вход в личный кабинет-просмотр карточки товаров-продуктовая корзина-оплата. \n",
    "\n",
    "\n",
    "Однако мы не знаем, все ли из пользователей, дошедших до покупки, придерживались данной последовательности действий. Для этого отследим последовательность действий по первому времени совершения события каждого пользователя."
   ]
  },
  {
   "cell_type": "code",
   "execution_count": 45,
   "metadata": {},
   "outputs": [],
   "source": [
    "#однако нужно не забывать, что существует дата регистрации,которая должна идти впереди всех событий\n",
    "first_date_users=allTestdata[['user_id','first_date']].groupby('user_id')['first_date'].min().reset_index()"
   ]
  },
  {
   "cell_type": "code",
   "execution_count": 46,
   "metadata": {},
   "outputs": [
    {
     "data": {
      "text/html": [
       "<div>\n",
       "<style scoped>\n",
       "    .dataframe tbody tr th:only-of-type {\n",
       "        vertical-align: middle;\n",
       "    }\n",
       "\n",
       "    .dataframe tbody tr th {\n",
       "        vertical-align: top;\n",
       "    }\n",
       "\n",
       "    .dataframe thead th {\n",
       "        text-align: right;\n",
       "    }\n",
       "</style>\n",
       "<table border=\"1\" class=\"dataframe\">\n",
       "  <thead>\n",
       "    <tr style=\"text-align: right;\">\n",
       "      <th></th>\n",
       "      <th>user_id</th>\n",
       "      <th>login</th>\n",
       "      <th>product_cart</th>\n",
       "      <th>product_page</th>\n",
       "      <th>purchase</th>\n",
       "      <th>first_date</th>\n",
       "    </tr>\n",
       "  </thead>\n",
       "  <tbody>\n",
       "    <tr>\n",
       "      <td>0</td>\n",
       "      <td>0010A1C096941592</td>\n",
       "      <td>2020-12-17 21:07:27</td>\n",
       "      <td>NaT</td>\n",
       "      <td>2020-12-17 21:07:27</td>\n",
       "      <td>2020-12-17 21:07:27</td>\n",
       "      <td>2020-12-17</td>\n",
       "    </tr>\n",
       "    <tr>\n",
       "      <td>1</td>\n",
       "      <td>00341D8401F0F665</td>\n",
       "      <td>2020-12-21 11:14:50</td>\n",
       "      <td>NaT</td>\n",
       "      <td>NaT</td>\n",
       "      <td>NaT</td>\n",
       "      <td>2020-12-21</td>\n",
       "    </tr>\n",
       "    <tr>\n",
       "      <td>2</td>\n",
       "      <td>003DF44D7589BBD4</td>\n",
       "      <td>2020-12-17 06:17:49</td>\n",
       "      <td>2020-12-17 06:17:49</td>\n",
       "      <td>2020-12-17 06:17:49</td>\n",
       "      <td>NaT</td>\n",
       "      <td>2020-12-17</td>\n",
       "    </tr>\n",
       "    <tr>\n",
       "      <td>3</td>\n",
       "      <td>00505E15A9D81546</td>\n",
       "      <td>2020-12-14 17:28:32</td>\n",
       "      <td>NaT</td>\n",
       "      <td>NaT</td>\n",
       "      <td>NaT</td>\n",
       "      <td>2020-12-14</td>\n",
       "    </tr>\n",
       "    <tr>\n",
       "      <td>4</td>\n",
       "      <td>005E096DBD379BCF</td>\n",
       "      <td>2020-12-21 07:20:39</td>\n",
       "      <td>NaT</td>\n",
       "      <td>NaT</td>\n",
       "      <td>2020-12-21 07:20:39</td>\n",
       "      <td>2020-12-21</td>\n",
       "    </tr>\n",
       "  </tbody>\n",
       "</table>\n",
       "</div>"
      ],
      "text/plain": [
       "            user_id               login        product_cart  \\\n",
       "0  0010A1C096941592 2020-12-17 21:07:27                 NaT   \n",
       "1  00341D8401F0F665 2020-12-21 11:14:50                 NaT   \n",
       "2  003DF44D7589BBD4 2020-12-17 06:17:49 2020-12-17 06:17:49   \n",
       "3  00505E15A9D81546 2020-12-14 17:28:32                 NaT   \n",
       "4  005E096DBD379BCF 2020-12-21 07:20:39                 NaT   \n",
       "\n",
       "         product_page            purchase first_date  \n",
       "0 2020-12-17 21:07:27 2020-12-17 21:07:27 2020-12-17  \n",
       "1                 NaT                 NaT 2020-12-21  \n",
       "2 2020-12-17 06:17:49                 NaT 2020-12-17  \n",
       "3                 NaT                 NaT 2020-12-14  \n",
       "4                 NaT 2020-12-21 07:20:39 2020-12-21  "
      ]
     },
     "execution_count": 46,
     "metadata": {},
     "output_type": "execute_result"
    }
   ],
   "source": [
    "#создадим сводную таблицу users , где индекс- айди пользователя, столбцы - события, а значение- первое время совершения события\n",
    "users =(allTestdata\n",
    "        .pivot_table(\n",
    "            index='user_id', \n",
    "            columns='event_name', \n",
    "            values='event_dt',\n",
    "            aggfunc='min')\n",
    "        .reset_index()\n",
    "       )\n",
    "#присоединяем столбец с датой регистрации при помощи объедении таблиц методом merge() по колонке 'user_id'\n",
    "users=users.merge(first_date_users, on ='user_id')\n",
    "users.head()"
   ]
  },
  {
   "cell_type": "markdown",
   "metadata": {},
   "source": [
    "Пропущенные значения Nan значат лишь то,что пользователь не приступал к данному событию, что доказывает наше предположение,что далеко не все пользоатели придержиаются данной цепочки действий.\n",
    "\n"
   ]
  },
  {
   "cell_type": "markdown",
   "metadata": {},
   "source": [
    "Нам важна последовательность действий, поэтому вначале мы посчитаем количество пользователей, которые залогинились на сайте. Для этого находим число строк таблицы users, где в столбце first_date не стоит пустое значение."
   ]
  },
  {
   "cell_type": "code",
   "execution_count": 47,
   "metadata": {},
   "outputs": [
    {
     "name": "stdout",
     "output_type": "stream",
     "text": [
      "Посетители, которые зарегестрировались : 3166\n"
     ]
    }
   ],
   "source": [
    "# создаём срез данных при помощи отрицания ~ всех строк регистрации с NaN\n",
    "#затем определяем размер таблицы при помощи shape[0]\n",
    "n_registration = users[~users['first_date'].isna()].shape[0]\n",
    "print('Посетители, которые зарегестрировались :', n_registration)"
   ]
  },
  {
   "cell_type": "markdown",
   "metadata": {},
   "source": [
    "Затем определяется первый шаг цепочки событий-количество людей, которые вошли в личный кабинет, но с уловием,что их дата действия должна быть не старше даты регистрации на сайте."
   ]
  },
  {
   "cell_type": "code",
   "execution_count": 48,
   "metadata": {},
   "outputs": [
    {
     "name": "stdout",
     "output_type": "stream",
     "text": [
      "Посетители, которые вошли в личный кабинет : 3166\n"
     ]
    }
   ],
   "source": [
    "n_login = users[~users['first_date'].isna() & (users['login'] >= users['first_date'])].shape[0]\n",
    "print('Посетители, которые вошли в личный кабинет :', n_login)"
   ]
  },
  {
   "cell_type": "markdown",
   "metadata": {},
   "source": [
    "Аналогично добавим остальные шаги цепочки и таким образом получим число пользователей для каждого шага будущей воронки."
   ]
  },
  {
   "cell_type": "code",
   "execution_count": 49,
   "metadata": {},
   "outputs": [
    {
     "name": "stdout",
     "output_type": "stream",
     "text": [
      "Посетители, которые зарегестрировались : 3166\n",
      "Посетители, которые вошли в личный кабинет : 3166\n",
      "Посетители, которые увидели карточку с товарами: 2007\n",
      "Просмотр корзины с товарами: 446\n",
      "Оплатили: 54\n"
     ]
    }
   ],
   "source": [
    "step_1 = ~users['first_date'].isna()\n",
    "step_2 = step_1 & (users['login'] >= users['first_date'])\n",
    "step_3 = step_2 & (users['product_page'] >= users['login'])\n",
    "step_4 = step_3 & (users['product_cart'] >= users['product_page'])\n",
    "step_5 = step_4 & (users['purchase'] >= users['product_cart'])\n",
    "\n",
    "#фильтруем данные users  и методом .shape[0] определяем число пользователей\n",
    "n_registration=users[step_1].shape[0]\n",
    "n_login = users[step_2].shape[0]\n",
    "n_page = users[step_3].shape[0]\n",
    "n_cart = users[step_4].shape[0]\n",
    "n_payment = users[step_5].shape[0]\n",
    "\n",
    "print('Посетители, которые зарегестрировались :', n_registration)\n",
    "print('Посетители, которые вошли в личный кабинет :', n_login)\n",
    "print('Посетители, которые увидели карточку с товарами:', n_page)\n",
    "print('Просмотр корзины с товарами:', n_cart)\n",
    "print('Оплатили:', n_payment)"
   ]
  },
  {
   "cell_type": "code",
   "execution_count": 50,
   "metadata": {},
   "outputs": [
    {
     "data": {
      "text/html": [
       "<div>\n",
       "<style scoped>\n",
       "    .dataframe tbody tr th:only-of-type {\n",
       "        vertical-align: middle;\n",
       "    }\n",
       "\n",
       "    .dataframe tbody tr th {\n",
       "        vertical-align: top;\n",
       "    }\n",
       "\n",
       "    .dataframe thead th {\n",
       "        text-align: right;\n",
       "    }\n",
       "</style>\n",
       "<table border=\"1\" class=\"dataframe\">\n",
       "  <thead>\n",
       "    <tr style=\"text-align: right;\">\n",
       "      <th></th>\n",
       "      <th>event_name</th>\n",
       "      <th>count_users</th>\n",
       "      <th>part</th>\n",
       "    </tr>\n",
       "  </thead>\n",
       "  <tbody>\n",
       "    <tr>\n",
       "      <td>0</td>\n",
       "      <td>login</td>\n",
       "      <td>3166</td>\n",
       "      <td>1.000</td>\n",
       "    </tr>\n",
       "    <tr>\n",
       "      <td>2</td>\n",
       "      <td>product_page</td>\n",
       "      <td>2007</td>\n",
       "      <td>0.634</td>\n",
       "    </tr>\n",
       "    <tr>\n",
       "      <td>3</td>\n",
       "      <td>purchase</td>\n",
       "      <td>983</td>\n",
       "      <td>0.310</td>\n",
       "    </tr>\n",
       "    <tr>\n",
       "      <td>1</td>\n",
       "      <td>product_cart</td>\n",
       "      <td>946</td>\n",
       "      <td>0.299</td>\n",
       "    </tr>\n",
       "  </tbody>\n",
       "</table>\n",
       "</div>"
      ],
      "text/plain": [
       "     event_name  count_users   part\n",
       "0         login         3166  1.000\n",
       "2  product_page         2007  0.634\n",
       "3      purchase          983  0.310\n",
       "1  product_cart          946  0.299"
      ]
     },
     "execution_count": 50,
     "metadata": {},
     "output_type": "execute_result"
    }
   ],
   "source": [
    "event_users.sort_values('part', ascending=False)"
   ]
  },
  {
   "cell_type": "markdown",
   "metadata": {},
   "source": [
    "Все пользователи,что зарегестрировались в приложении,входят в личный кабинет. Причем число пользователей на первых двух этапах формировании воронки(\"login\" и \"product_page\") совпадает с количеством пользователей из подсчета числа событий таблицы event_users, а ,начиная с шага \"просмотр корзины\", идут большие расхождения по количеству участников(почти в 2 раза и больше). Это значит, что далеко не все пользователи придерживаются ожидаемого пути, некоторые люди могут идти после входа в личный кабинет сразу к корзине или покупке. "
   ]
  },
  {
   "cell_type": "markdown",
   "metadata": {},
   "source": [
    "Чтобы доказать теорию о ином порядке событий пользователей, создадим ещё несколько других потенциальных воронок.\n",
    "\n",
    "У первой альтернативной воронки будет сначала идти вход в личный кабинет,затем сразу переход в корзину, потом просмотр карточки с товарами и покупка."
   ]
  },
  {
   "cell_type": "code",
   "execution_count": 51,
   "metadata": {},
   "outputs": [
    {
     "name": "stdout",
     "output_type": "stream",
     "text": [
      "Посетители, которые зарегестрировались: 3166\n",
      "Просмотр корзины с товарами: 946\n",
      "Посетители, которые увидели карточку с товарами: 433\n",
      "Оплатили: 54\n"
     ]
    }
   ],
   "source": [
    "step_1 = ~users['login'].isna()\n",
    "step_2 = step_1 & (users['product_cart'] >= users['login'])\n",
    "step_3 = step_2 & (users['product_page'] >= users['product_cart'])\n",
    "step_4 = step_3 & (users['purchase'] >= users['product_page'])\n",
    "\n",
    "#фильтруем данные users  и методом .shape[0] определяем число пользователей\n",
    "n_login = users[step_1].shape[0]\n",
    "n_cart = users[step_2].shape[0]\n",
    "n_page = users[step_3].shape[0]\n",
    "n_payment = users[step_4].shape[0]\n",
    "\n",
    "print('Посетители, которые зарегестрировались:', n_login)\n",
    "print('Просмотр корзины с товарами:', n_cart)\n",
    "print('Посетители, которые увидели карточку с товарами:', n_page)\n",
    "print('Оплатили:', n_payment)"
   ]
  },
  {
   "cell_type": "markdown",
   "metadata": {},
   "source": [
    "Как мы видим, теперь у нас полностью совпали количеством пользователей из таблицы event_users на этапах формировании воронки \"login\" и \"'product_cart'\", но при этом число пользователей, которые совершают покупки, не увеличилось. "
   ]
  },
  {
   "cell_type": "markdown",
   "metadata": {},
   "source": [
    "Вторая альтернативная воронка вообще не будет содержать события просмотра карточек: человек входит в личный кабинет, идет сразу в корзину и покупает."
   ]
  },
  {
   "cell_type": "code",
   "execution_count": 52,
   "metadata": {},
   "outputs": [
    {
     "name": "stdout",
     "output_type": "stream",
     "text": [
      "Посетители, которые зарегестрировались: 3166\n",
      "Просмотр корзины с товарами: 946\n",
      "Оплатили: 125\n"
     ]
    }
   ],
   "source": [
    "step_1 = ~users['login'].isna()\n",
    "step_2 = step_1 & (users['product_cart'] >= users['login'])\n",
    "step_3 = step_2 & (users['purchase'] >= users['product_cart'])\n",
    "\n",
    "#фильтруем данные users  и методом .shape[0] определяем число пользователей\n",
    "n_login = users[step_1].shape[0]\n",
    "n_cart = users[step_2].shape[0]\n",
    "n_payment = users[step_3].shape[0]\n",
    "\n",
    "print('Посетители, которые зарегестрировались:', n_login)\n",
    "print('Просмотр корзины с товарами:', n_cart)\n",
    "print('Оплатили:', n_payment)"
   ]
  },
  {
   "cell_type": "markdown",
   "metadata": {},
   "source": [
    "И наконец третья альтернатиная цепочка- человек вошёл в личный кабинет, посмотрел карточки с товарами, купил и вошел в корзину"
   ]
  },
  {
   "cell_type": "code",
   "execution_count": 53,
   "metadata": {},
   "outputs": [
    {
     "name": "stdout",
     "output_type": "stream",
     "text": [
      "Посетители, которые зарегестрировались : 3166\n",
      "Посетители, которые вошли в личный кабинет : 3166\n",
      "Посетители, которые увидели карточку с товарами: 2007\n",
      "Оплатили: 297\n",
      "Просмотр корзины с товарами: 88\n"
     ]
    }
   ],
   "source": [
    "step_1 = ~users['first_date'].isna()\n",
    "step_2 = step_1 & (users['login'] >= users['first_date'])\n",
    "step_3 = step_2 & (users['product_page'] >= users['login'])\n",
    "step_4 = step_3 & (users['purchase'] >= users['product_page'])\n",
    "step_5 = step_4 & (users['product_cart'] >= users['purchase'])\n",
    "\n",
    "#фильтруем данные users  и методом .shape[0] определяем число пользователей\n",
    "n_registration=users[step_1].shape[0]\n",
    "n_login = users[step_2].shape[0]\n",
    "n_page = users[step_3].shape[0]\n",
    "n_cart = users[step_5].shape[0]\n",
    "n_payment = users[step_4].shape[0]\n",
    "\n",
    "print('Посетители, которые зарегестрировались :', n_registration)\n",
    "print('Посетители, которые вошли в личный кабинет :', n_login)\n",
    "print('Посетители, которые увидели карточку с товарами:', n_page)\n",
    "print('Оплатили:', n_payment)\n",
    "print('Просмотр корзины с товарами:', n_cart)"
   ]
  },
  {
   "cell_type": "markdown",
   "metadata": {},
   "source": [
    "Что и требовалось доказать. Количество пользователей, которые совершают покупки, увеличилось при нестандартном совершении последовательности действий, что доказывает теорию предложенную выше-не все люди придерживаются банального хода событий. Такая ситуация возможна, если у пользователя в личном кабинете к примеру привязана карта и в приложении на странице товара стоят кнопки отдельно купить и отдельно добавить в корзину, при такоом раскладе возможен автоматический платёж со страницы товара без перехода в корзину, или же как вариант развития событий- списание средств в виде предоплаты по заказу или доставке. "
   ]
  },
  {
   "cell_type": "markdown",
   "metadata": {},
   "source": [
    "### Анализ  воронки событий <a id=\"analytic_funnel\"></a>"
   ]
  },
  {
   "cell_type": "markdown",
   "metadata": {},
   "source": [
    "Построим воронку событий по нестандартной третьей алетрнативной цепочки действий и без учета последовательности событий."
   ]
  },
  {
   "cell_type": "code",
   "execution_count": 54,
   "metadata": {},
   "outputs": [
    {
     "data": {
      "text/html": [
       "<div>\n",
       "<style scoped>\n",
       "    .dataframe tbody tr th:only-of-type {\n",
       "        vertical-align: middle;\n",
       "    }\n",
       "\n",
       "    .dataframe tbody tr th {\n",
       "        vertical-align: top;\n",
       "    }\n",
       "\n",
       "    .dataframe thead th {\n",
       "        text-align: right;\n",
       "    }\n",
       "</style>\n",
       "<table border=\"1\" class=\"dataframe\">\n",
       "  <thead>\n",
       "    <tr style=\"text-align: right;\">\n",
       "      <th></th>\n",
       "      <th>event_name</th>\n",
       "      <th>count_users</th>\n",
       "    </tr>\n",
       "  </thead>\n",
       "  <tbody>\n",
       "    <tr>\n",
       "      <td>0</td>\n",
       "      <td>Login</td>\n",
       "      <td>3166</td>\n",
       "    </tr>\n",
       "    <tr>\n",
       "      <td>1</td>\n",
       "      <td>Product_page</td>\n",
       "      <td>2007</td>\n",
       "    </tr>\n",
       "    <tr>\n",
       "      <td>2</td>\n",
       "      <td>Purchase</td>\n",
       "      <td>983</td>\n",
       "    </tr>\n",
       "    <tr>\n",
       "      <td>3</td>\n",
       "      <td>Product_Cart</td>\n",
       "      <td>946</td>\n",
       "    </tr>\n",
       "  </tbody>\n",
       "</table>\n",
       "</div>"
      ],
      "text/plain": [
       "     event_name  count_users\n",
       "0         Login         3166\n",
       "1  Product_page         2007\n",
       "2      Purchase          983\n",
       "3  Product_Cart          946"
      ]
     },
     "execution_count": 54,
     "metadata": {},
     "output_type": "execute_result"
    }
   ],
   "source": [
    "#построим таблицу для воронки event_funnel\n",
    "event_funnel=pd.DataFrame(data={'event_name':  ['Login', 'Product_page','Purchase', 'Product_Cart'],\n",
    "                                'count_users': event_users['count_users'].values})\n",
    "event_funnel "
   ]
  },
  {
   "cell_type": "markdown",
   "metadata": {},
   "source": [
    "По построенной воронке, посчитаем долю пользователей, которые проходят на следующий шаг воронки (от числа пользователей на предыдущем)."
   ]
  },
  {
   "cell_type": "code",
   "execution_count": 56,
   "metadata": {},
   "outputs": [
    {
     "data": {
      "text/html": [
       "<div>\n",
       "<style scoped>\n",
       "    .dataframe tbody tr th:only-of-type {\n",
       "        vertical-align: middle;\n",
       "    }\n",
       "\n",
       "    .dataframe tbody tr th {\n",
       "        vertical-align: top;\n",
       "    }\n",
       "\n",
       "    .dataframe thead th {\n",
       "        text-align: right;\n",
       "    }\n",
       "</style>\n",
       "<table border=\"1\" class=\"dataframe\">\n",
       "  <thead>\n",
       "    <tr style=\"text-align: right;\">\n",
       "      <th></th>\n",
       "      <th>event_name</th>\n",
       "      <th>count_users</th>\n",
       "      <th>conversion</th>\n",
       "    </tr>\n",
       "  </thead>\n",
       "  <tbody>\n",
       "    <tr>\n",
       "      <td>0</td>\n",
       "      <td>Login</td>\n",
       "      <td>3166</td>\n",
       "      <td>100.0</td>\n",
       "    </tr>\n",
       "    <tr>\n",
       "      <td>1</td>\n",
       "      <td>Product_page</td>\n",
       "      <td>2007</td>\n",
       "      <td>63.0</td>\n",
       "    </tr>\n",
       "    <tr>\n",
       "      <td>2</td>\n",
       "      <td>Purchase</td>\n",
       "      <td>983</td>\n",
       "      <td>49.0</td>\n",
       "    </tr>\n",
       "    <tr>\n",
       "      <td>3</td>\n",
       "      <td>Product_Cart</td>\n",
       "      <td>946</td>\n",
       "      <td>96.0</td>\n",
       "    </tr>\n",
       "  </tbody>\n",
       "</table>\n",
       "</div>"
      ],
      "text/plain": [
       "     event_name  count_users  conversion\n",
       "0         Login         3166       100.0\n",
       "1  Product_page         2007        63.0\n",
       "2      Purchase          983        49.0\n",
       "3  Product_Cart          946        96.0"
      ]
     },
     "execution_count": 56,
     "metadata": {},
     "output_type": "execute_result"
    }
   ],
   "source": [
    "def conversion(df:pd.DataFrame, name_column:str):\n",
    "    conversion=[]\n",
    "    for i in range(len(df)):\n",
    "        if i==0:\n",
    "            yield 100\n",
    "        else:\n",
    "            yield round(df.loc[i,name_column]/df.loc[i-1,name_column]*100,0)\n",
    "event_funnel['conversion']=[x for x in conversion(event_funnel,'count_users')]\n",
    "event_funnel"
   ]
  },
  {
   "cell_type": "markdown",
   "metadata": {},
   "source": [
    "### Вывод"
   ]
  },
  {
   "cell_type": "markdown",
   "metadata": {},
   "source": [
    "Что касается анализа воронки, то меньше 1/3 пользователей доходят до этапа покупки: 31% пользователей доходят до страницы с оплатой с момента входа в личный кабинет. Причём больше всего пользователей теряется на шаге перехода с просмотра карточек в оплату. Такое являние может быть связано с тем,что пользователей мог не удовлетворить интерфейс страницы, её оформление или удобство с работой, возможно было не очень подробное описание товаров и инструкция прохождения оплаты, или же есть баг кнопки перехода к оплате. Поэтому стоит в будущем проанализировать этот шаг перехода: возможно стоит собрать часть аудитории и получить обратную связь во время проведения интервью, а также провести дополнительное тестирование страницы и кнопок перехода."
   ]
  },
  {
   "cell_type": "markdown",
   "metadata": {},
   "source": [
    "## 5.  Оценка результатов A/B тестирования <a id=\"analytic_test\"></a>"
   ]
  },
  {
   "cell_type": "markdown",
   "metadata": {},
   "source": [
    "Статистический анализ групп будем проводить по конверсии пользователей, которые совершили конкретное событие."
   ]
  },
  {
   "cell_type": "markdown",
   "metadata": {},
   "source": [
    "### Результаты А/B тестирования <a id=\"results\"></a>"
   ]
  },
  {
   "cell_type": "code",
   "execution_count": 57,
   "metadata": {},
   "outputs": [
    {
     "data": {
      "text/html": [
       "<div>\n",
       "<style scoped>\n",
       "    .dataframe tbody tr th:only-of-type {\n",
       "        vertical-align: middle;\n",
       "    }\n",
       "\n",
       "    .dataframe tbody tr th {\n",
       "        vertical-align: top;\n",
       "    }\n",
       "\n",
       "    .dataframe thead th {\n",
       "        text-align: right;\n",
       "    }\n",
       "</style>\n",
       "<table border=\"1\" class=\"dataframe\">\n",
       "  <thead>\n",
       "    <tr style=\"text-align: right;\">\n",
       "      <th>group</th>\n",
       "      <th>A</th>\n",
       "      <th>B</th>\n",
       "    </tr>\n",
       "    <tr>\n",
       "      <th>event_name</th>\n",
       "      <th></th>\n",
       "      <th></th>\n",
       "    </tr>\n",
       "  </thead>\n",
       "  <tbody>\n",
       "    <tr>\n",
       "      <td>login</td>\n",
       "      <td>2559</td>\n",
       "      <td>607</td>\n",
       "    </tr>\n",
       "    <tr>\n",
       "      <td>product_page</td>\n",
       "      <td>1665</td>\n",
       "      <td>342</td>\n",
       "    </tr>\n",
       "    <tr>\n",
       "      <td>purchase</td>\n",
       "      <td>812</td>\n",
       "      <td>171</td>\n",
       "    </tr>\n",
       "    <tr>\n",
       "      <td>product_cart</td>\n",
       "      <td>777</td>\n",
       "      <td>169</td>\n",
       "    </tr>\n",
       "  </tbody>\n",
       "</table>\n",
       "</div>"
      ],
      "text/plain": [
       "group            A    B\n",
       "event_name             \n",
       "login         2559  607\n",
       "product_page  1665  342\n",
       "purchase       812  171\n",
       "product_cart   777  169"
      ]
     },
     "execution_count": 57,
     "metadata": {},
     "output_type": "execute_result"
    }
   ],
   "source": [
    "control_test=(allTestdata\n",
    "              .pivot_table(index='event_name',\n",
    "                           columns='group', \n",
    "                           values='user_id',\n",
    "                           aggfunc='nunique')\n",
    "              .sort_values('A', ascending=False)\n",
    "             )\n",
    "control_test"
   ]
  },
  {
   "cell_type": "code",
   "execution_count": 58,
   "metadata": {},
   "outputs": [
    {
     "data": {
      "text/html": [
       "<div>\n",
       "<style scoped>\n",
       "    .dataframe tbody tr th:only-of-type {\n",
       "        vertical-align: middle;\n",
       "    }\n",
       "\n",
       "    .dataframe tbody tr th {\n",
       "        vertical-align: top;\n",
       "    }\n",
       "\n",
       "    .dataframe thead th {\n",
       "        text-align: right;\n",
       "    }\n",
       "</style>\n",
       "<table border=\"1\" class=\"dataframe\">\n",
       "  <thead>\n",
       "    <tr style=\"text-align: right;\">\n",
       "      <th></th>\n",
       "      <th>event_name</th>\n",
       "      <th>A</th>\n",
       "      <th>B</th>\n",
       "      <th>conversionA</th>\n",
       "      <th>conversionB</th>\n",
       "      <th>lastA</th>\n",
       "      <th>lastB</th>\n",
       "    </tr>\n",
       "  </thead>\n",
       "  <tbody>\n",
       "    <tr>\n",
       "      <td>0</td>\n",
       "      <td>product_page</td>\n",
       "      <td>1665</td>\n",
       "      <td>342</td>\n",
       "      <td>65.0</td>\n",
       "      <td>56.0</td>\n",
       "      <td>2559.0</td>\n",
       "      <td>607.0</td>\n",
       "    </tr>\n",
       "    <tr>\n",
       "      <td>1</td>\n",
       "      <td>purchase</td>\n",
       "      <td>812</td>\n",
       "      <td>171</td>\n",
       "      <td>49.0</td>\n",
       "      <td>50.0</td>\n",
       "      <td>1665.0</td>\n",
       "      <td>342.0</td>\n",
       "    </tr>\n",
       "    <tr>\n",
       "      <td>2</td>\n",
       "      <td>product_cart</td>\n",
       "      <td>777</td>\n",
       "      <td>169</td>\n",
       "      <td>96.0</td>\n",
       "      <td>99.0</td>\n",
       "      <td>812.0</td>\n",
       "      <td>171.0</td>\n",
       "    </tr>\n",
       "  </tbody>\n",
       "</table>\n",
       "</div>"
      ],
      "text/plain": [
       "     event_name     A    B  conversionA  conversionB   lastA  lastB\n",
       "0  product_page  1665  342         65.0         56.0  2559.0  607.0\n",
       "1      purchase   812  171         49.0         50.0  1665.0  342.0\n",
       "2  product_cart   777  169         96.0         99.0   812.0  171.0"
      ]
     },
     "execution_count": 58,
     "metadata": {},
     "output_type": "execute_result"
    }
   ],
   "source": [
    "#создаём сводную таблицу, где  индексы-события,столбцы- группы A и B, в которых хранится уникальное число пользователей\n",
    "#сортируем данные в порядке убывания и сохраняем в control_test\n",
    "control_test=(allTestdata\n",
    "              .pivot_table(index='event_name',\n",
    "                           columns='group', \n",
    "                           values='user_id',\n",
    "                           aggfunc='nunique')\n",
    "              .sort_values('A', ascending=False)\n",
    "             )\n",
    "control_test.columns=['A', 'B']\n",
    "control_test=control_test.reset_index()\n",
    "#рассчитываем конверсию в каждой группе\n",
    "control_test['conversionA']=[x for x in conversion(control_test,'A')]\n",
    "control_test['conversionB']=[x for x in conversion(control_test,'B')]\n",
    "#и для статистического теста подтаскиваем число пользователей на прошлое событие\n",
    "control_test['lastA']=control_test['A'].shift(1)\n",
    "control_test['lastB']=control_test['B'].shift(1)\n",
    "control_test.drop(0,axis=0,inplace=True)\n",
    "control_test=control_test.reset_index(drop=True)\n",
    "control_test"
   ]
  },
  {
   "cell_type": "markdown",
   "metadata": {},
   "source": [
    "На первый взгляд видно,что тест не удался. Ожидаемый эффект от изменений рекомендательной системы заключался в увелечении каждой метрики не менее,чем на 10%, у нас же получилось:\n",
    "    - конверсия в просмотр карточки упала в тестовой группе по сравнению с контрольной группой,\n",
    "    - конверсия в покупку в тестовой группе выросла всего на (50-49)/49x100=2% по сравнению с конверсией контрольной группы,\n",
    "    - конверсия в просмотр продуктовой корзины  выросла всего на (99-96)/96x100=3% по сравнению с конверсией контрольной группы. "
   ]
  },
  {
   "cell_type": "markdown",
   "metadata": {},
   "source": [
    "Остаётся проверить значимые ли эти различия."
   ]
  },
  {
   "cell_type": "markdown",
   "metadata": {},
   "source": [
    "### Статистический анализ  <a id=\"statistic_analytic\"></a>"
   ]
  },
  {
   "cell_type": "markdown",
   "metadata": {},
   "source": [
    "Для этого создаём функцию для рассчёта уровня статистической значимости. Так как конверсия - доли(отношения), то статистическую разницу будем искать z-критерием для долей. События воронки - отдельные метрики для одних и тех же двух групп, поэтому понижать критический уровень значимости не надо.\n",
    "\n",
    "Гипотезы:\n",
    "    - H0 - конверсии тестовой и контрольной групп не отличаются, \n",
    "    - H1- есть различия между конверсиями тестовой и контрольной групп."
   ]
  },
  {
   "cell_type": "code",
   "execution_count": 59,
   "metadata": {},
   "outputs": [],
   "source": [
    "def function(A, B,A_total, B_total, alpha):\n",
    "       \n",
    "    # пропорция успехов в первой группе:\n",
    "    p1 = A/A_total\n",
    "\n",
    "    # пропорция успехов во второй группе:\n",
    "    p2 = B/B_total\n",
    "    \n",
    "    # пропорция успехов в комбинированном датасете:\n",
    "    p_combined = (A + B)/ (A_total + B_total)\n",
    "\n",
    "    # разница пропорций в датасетах\n",
    "    difference = p1 - p2\n",
    "\n",
    "    # считаем статистику в ст.отклонениях стандартного нормального распределения\n",
    "    z_value = difference / mth.sqrt(p_combined * (1 - p_combined) * (1/A_total + 1/B_total))\n",
    "\n",
    "    # задаем стандартное нормальное распределение (среднее 0, ст.отклонение 1)\n",
    "    distr = st.norm(0, 1) \n",
    "\n",
    "    p_value = (1 - distr.cdf(abs(z_value))) * 2\n",
    "\n",
    "    print('p-значение: ', p_value.round(2))\n",
    "\n",
    "    if (p_value < alpha):\n",
    "        return (\"Отвергаем нулевую гипотезу: между конверсиями есть значимая разница\")\n",
    "    else:\n",
    "        return (\"Не получилось отвергнуть нулевую гипотезу, нет оснований считать конверсиями разными\")   "
   ]
  },
  {
   "cell_type": "code",
   "execution_count": 60,
   "metadata": {},
   "outputs": [
    {
     "name": "stdout",
     "output_type": "stream",
     "text": [
      "p-значение:  0.0\n",
      "p-значение:  0.68\n",
      "p-значение:  0.05\n"
     ]
    },
    {
     "data": {
      "text/html": [
       "<div>\n",
       "<style scoped>\n",
       "    .dataframe tbody tr th:only-of-type {\n",
       "        vertical-align: middle;\n",
       "    }\n",
       "\n",
       "    .dataframe tbody tr th {\n",
       "        vertical-align: top;\n",
       "    }\n",
       "\n",
       "    .dataframe thead th {\n",
       "        text-align: right;\n",
       "    }\n",
       "</style>\n",
       "<table border=\"1\" class=\"dataframe\">\n",
       "  <thead>\n",
       "    <tr style=\"text-align: right;\">\n",
       "      <th></th>\n",
       "      <th>event_name</th>\n",
       "      <th>A</th>\n",
       "      <th>B</th>\n",
       "      <th>conversionA</th>\n",
       "      <th>conversionB</th>\n",
       "      <th>lastA</th>\n",
       "      <th>lastB</th>\n",
       "      <th>result_test</th>\n",
       "    </tr>\n",
       "  </thead>\n",
       "  <tbody>\n",
       "    <tr>\n",
       "      <td>0</td>\n",
       "      <td>product_page</td>\n",
       "      <td>1665</td>\n",
       "      <td>342</td>\n",
       "      <td>65.0</td>\n",
       "      <td>56.0</td>\n",
       "      <td>2559.0</td>\n",
       "      <td>607.0</td>\n",
       "      <td>Отвергаем нулевую гипотезу: между конверсиями ...</td>\n",
       "    </tr>\n",
       "    <tr>\n",
       "      <td>1</td>\n",
       "      <td>purchase</td>\n",
       "      <td>812</td>\n",
       "      <td>171</td>\n",
       "      <td>49.0</td>\n",
       "      <td>50.0</td>\n",
       "      <td>1665.0</td>\n",
       "      <td>342.0</td>\n",
       "      <td>Не получилось отвергнуть нулевую гипотезу, нет...</td>\n",
       "    </tr>\n",
       "    <tr>\n",
       "      <td>2</td>\n",
       "      <td>product_cart</td>\n",
       "      <td>777</td>\n",
       "      <td>169</td>\n",
       "      <td>96.0</td>\n",
       "      <td>99.0</td>\n",
       "      <td>812.0</td>\n",
       "      <td>171.0</td>\n",
       "      <td>Отвергаем нулевую гипотезу: между конверсиями ...</td>\n",
       "    </tr>\n",
       "  </tbody>\n",
       "</table>\n",
       "</div>"
      ],
      "text/plain": [
       "     event_name     A    B  conversionA  conversionB   lastA  lastB  \\\n",
       "0  product_page  1665  342         65.0         56.0  2559.0  607.0   \n",
       "1      purchase   812  171         49.0         50.0  1665.0  342.0   \n",
       "2  product_cart   777  169         96.0         99.0   812.0  171.0   \n",
       "\n",
       "                                         result_test  \n",
       "0  Отвергаем нулевую гипотезу: между конверсиями ...  \n",
       "1  Не получилось отвергнуть нулевую гипотезу, нет...  \n",
       "2  Отвергаем нулевую гипотезу: между конверсиями ...  "
      ]
     },
     "execution_count": 60,
     "metadata": {},
     "output_type": "execute_result"
    }
   ],
   "source": [
    "#сохраняем ответ в список answer\n",
    "answer=[]\n",
    "alpha = .05 # критический уровень статистической значимости\n",
    "#создаём цикл по прохождению каждого события\n",
    "for i in range(len(control_test)):\n",
    "    answer.append(function(control_test.loc[i,'A']\n",
    "                           ,control_test.loc[i,'B']\n",
    "                           ,control_test.loc[i,'lastA']\n",
    "                           ,control_test.loc[i,'lastB']\n",
    "                           ,alpha))\n",
    "#сохраняем ответ в колонку 'result_test'    \n",
    "control_test['result_test']=answer    \n",
    "control_test    "
   ]
  },
  {
   "cell_type": "markdown",
   "metadata": {},
   "source": [
    "Также проанализируем долевые отношения пользователей на каждом этапе событий. \n",
    "\n",
    "Гипотезы:\n",
    "    - H0 - доли тестовой и контрольной групп не отличаются, \n",
    "    - H1- есть различия между долями тестовой и контрольной групп."
   ]
  },
  {
   "cell_type": "code",
   "execution_count": 65,
   "metadata": {},
   "outputs": [],
   "source": [
    "def function_2(A, B,A_total, B_total, alpha):\n",
    "       \n",
    "    # пропорция успехов в первой группе:\n",
    "    p1 = A/A_total\n",
    "\n",
    "    # пропорция успехов во второй группе:\n",
    "    p2 = B/B_total\n",
    "    \n",
    "    # пропорция успехов в комбинированном датасете:\n",
    "    p_combined = (A + B)/ (A_total + B_total)\n",
    "\n",
    "    # разница пропорций в датасетах\n",
    "    difference = p1 - p2\n",
    "\n",
    "    # считаем статистику в ст.отклонениях стандартного нормального распределения\n",
    "    z_value = difference / mth.sqrt(p_combined * (1 - p_combined) * (1/A_total + 1/B_total))\n",
    "\n",
    "    # задаем стандартное нормальное распределение (среднее 0, ст.отклонение 1)\n",
    "    distr = st.norm(0, 1) \n",
    "\n",
    "    p_value = (1 - distr.cdf(abs(z_value))) * 2\n",
    "\n",
    "    print('p-значение: ', p_value.round(2))\n",
    "\n",
    "    if (p_value < alpha):\n",
    "        return (\"Отвергаем нулевую гипотезу: между долями есть значимая разница\")\n",
    "    else:\n",
    "        return (\"Не получилось отвергнуть нулевую гипотезу, нет оснований считать доли разными\")  "
   ]
  },
  {
   "cell_type": "code",
   "execution_count": 66,
   "metadata": {},
   "outputs": [
    {
     "name": "stdout",
     "output_type": "stream",
     "text": [
      "p-значение:  0.0\n",
      "p-значение:  0.09\n",
      "p-значение:  0.22\n"
     ]
    },
    {
     "data": {
      "text/html": [
       "<div>\n",
       "<style scoped>\n",
       "    .dataframe tbody tr th:only-of-type {\n",
       "        vertical-align: middle;\n",
       "    }\n",
       "\n",
       "    .dataframe tbody tr th {\n",
       "        vertical-align: top;\n",
       "    }\n",
       "\n",
       "    .dataframe thead th {\n",
       "        text-align: right;\n",
       "    }\n",
       "</style>\n",
       "<table border=\"1\" class=\"dataframe\">\n",
       "  <thead>\n",
       "    <tr style=\"text-align: right;\">\n",
       "      <th></th>\n",
       "      <th>event_name</th>\n",
       "      <th>A</th>\n",
       "      <th>B</th>\n",
       "      <th>conversionA</th>\n",
       "      <th>conversionB</th>\n",
       "      <th>lastA</th>\n",
       "      <th>lastB</th>\n",
       "      <th>result_test</th>\n",
       "    </tr>\n",
       "  </thead>\n",
       "  <tbody>\n",
       "    <tr>\n",
       "      <td>0</td>\n",
       "      <td>product_page</td>\n",
       "      <td>1665</td>\n",
       "      <td>342</td>\n",
       "      <td>65.0</td>\n",
       "      <td>56.0</td>\n",
       "      <td>2559.0</td>\n",
       "      <td>607.0</td>\n",
       "      <td>Отвергаем нулевую гипотезу: между долями есть ...</td>\n",
       "    </tr>\n",
       "    <tr>\n",
       "      <td>1</td>\n",
       "      <td>purchase</td>\n",
       "      <td>812</td>\n",
       "      <td>171</td>\n",
       "      <td>49.0</td>\n",
       "      <td>50.0</td>\n",
       "      <td>1665.0</td>\n",
       "      <td>342.0</td>\n",
       "      <td>Не получилось отвергнуть нулевую гипотезу, нет...</td>\n",
       "    </tr>\n",
       "    <tr>\n",
       "      <td>2</td>\n",
       "      <td>product_cart</td>\n",
       "      <td>777</td>\n",
       "      <td>169</td>\n",
       "      <td>96.0</td>\n",
       "      <td>99.0</td>\n",
       "      <td>812.0</td>\n",
       "      <td>171.0</td>\n",
       "      <td>Не получилось отвергнуть нулевую гипотезу, нет...</td>\n",
       "    </tr>\n",
       "  </tbody>\n",
       "</table>\n",
       "</div>"
      ],
      "text/plain": [
       "     event_name     A    B  conversionA  conversionB   lastA  lastB  \\\n",
       "0  product_page  1665  342         65.0         56.0  2559.0  607.0   \n",
       "1      purchase   812  171         49.0         50.0  1665.0  342.0   \n",
       "2  product_cart   777  169         96.0         99.0   812.0  171.0   \n",
       "\n",
       "                                         result_test  \n",
       "0  Отвергаем нулевую гипотезу: между долями есть ...  \n",
       "1  Не получилось отвергнуть нулевую гипотезу, нет...  \n",
       "2  Не получилось отвергнуть нулевую гипотезу, нет...  "
      ]
     },
     "execution_count": 66,
     "metadata": {},
     "output_type": "execute_result"
    }
   ],
   "source": [
    "#сохраняем ответ в список answer\n",
    "answer=[]\n",
    "alpha = .05 # критический уровень статистической значимости\n",
    "#создаём цикл по прохождению каждого события\n",
    "for i in range(len(control_test)):\n",
    "    answer.append(function_2(control_test.loc[i,'A']\n",
    "                           ,control_test.loc[i,'B']\n",
    "                           ,total_usersA\n",
    "                           ,total_usersB\n",
    "                           ,alpha))\n",
    "#сохраняем ответ в колонку 'result_test'    \n",
    "control_test['result_test']=answer    \n",
    "control_test    "
   ]
  },
  {
   "cell_type": "markdown",
   "metadata": {},
   "source": [
    "### Вывод"
   ]
  },
  {
   "cell_type": "markdown",
   "metadata": {},
   "source": [
    "Только в конверсии в покупку уровень значемости не стал меньше критического уровня значимости(ошибки первого рода), поэтому мы отвергаем нулевую гипотезу, то есть рекомендательная система повлияла на 2 из трёх пользовательских метрик, но аннализ конверсий показал, что изменение величины конверсии не для каждой метрики идёт в пользу тестовой группы. "
   ]
  },
  {
   "cell_type": "markdown",
   "metadata": {},
   "source": [
    "## Общий вывод <a id=\"conclusion\"></a>"
   ]
  },
  {
   "cell_type": "markdown",
   "metadata": {},
   "source": [
    "В результате анализа было выяснено,что пользователя совершают не традиционную цепочку событий: после просмотра карточек большая доля пользователя покупают сразу, а не переходят в корзину. Больше всего пользователей теряется на этапе перехода с просмотра карточекг в покупку-51% пользователей потерян. Техникам сотит проверить качество работы кода перехода на страницы, а маркетологам стоит провести дополнительное интервью пользователей по работе с интерфейсом, возможно , проблема связана с неудоством работы или не привлекательным внешним видом.\n",
    "\n",
    "Анализ A/B-теста показал,что применение новой рекомендательной системы повлияло на конверсию перехода с личного кабинета на карточку продукта и перехода с покупки в корзину, но не показало значимых при конверсии в покупки, при то что новая система повлияла лишь на долю пользователей, которые перешли в продуктовую карточку. Однако нужно отметить,что эти изменения далеко не для каждой метрики идут в пользу тестовой группы, и ожидаемого эффекта ниодна из трёх метрик не достигла. \n",
    "\n",
    "Но при проведение дизайна теста были обнаружены большие ошибки, связанные с неравными объемами тестовой и контрольной группы, не выполнения ТЗ по формированию аудитории теста, а также часть пользователей пересекались с парраллельным тестом и сам запуск изменений приходился на Новогодние праздники, когда действую внешние факторы на поведение людей, такие как маркетинговые скидки. Помимо этого были предоставлены не все данные для аннализа, тест длился меньше чем надо. \n",
    "\n",
    "Следовательно, считать результаты тесты достоверными нельзя, тест оказался неккоректным, и возможно новая рекомендательная система оказывает реально положительное влияние на конверссии, но для этого нужно провести тестирование по всем правилам."
   ]
  }
 ],
 "metadata": {
  "kernelspec": {
   "display_name": "Python 3",
   "language": "python",
   "name": "python3"
  },
  "language_info": {
   "codemirror_mode": {
    "name": "ipython",
    "version": 3
   },
   "file_extension": ".py",
   "mimetype": "text/x-python",
   "name": "python",
   "nbconvert_exporter": "python",
   "pygments_lexer": "ipython3",
   "version": "3.8.3"
  },
  "toc": {
   "base_numbering": 1,
   "nav_menu": {},
   "number_sections": true,
   "sideBar": true,
   "skip_h1_title": false,
   "title_cell": "Table of Contents",
   "title_sidebar": "Contents",
   "toc_cell": false,
   "toc_position": {},
   "toc_section_display": true,
   "toc_window_display": false
  }
 },
 "nbformat": 4,
 "nbformat_minor": 2
}
